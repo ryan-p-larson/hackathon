{
 "cells": [
  {
   "cell_type": "code",
   "execution_count": 32,
   "metadata": {},
   "outputs": [
    {
     "data": {
      "text/plain": [
       "undefined"
      ]
     },
     "execution_count": 32,
     "metadata": {},
     "output_type": "execute_result"
    }
   ],
   "source": [
    "// libraries\n",
    "var fs = require('fs');\n",
    "var http = require('http');\n",
    "var d3 = require('../src/node_modules/d3');\n",
    "var jsdom = require('../src/node_modules/jsdom');\n",
    "\n",
    "// files\n",
    "var f1 = '../data/indexed-courses.json'; // new line delimited\n",
    "var f2 = '../data/test-courses.json'; // indexed"
   ]
  },
  {
   "cell_type": "code",
   "execution_count": null,
   "metadata": {
    "collapsed": true
   },
   "outputs": [],
   "source": []
  },
  {
   "cell_type": "code",
   "execution_count": 33,
   "metadata": {},
   "outputs": [
    {
     "data": {
      "text/plain": [
       "undefined"
      ]
     },
     "execution_count": 33,
     "metadata": {},
     "output_type": "execute_result"
    }
   ],
   "source": [
    "// Function to create and return an svg for our virtual DOM\n",
    "function svgDOM(width, height) {\n",
    "  // Setup DOM\n",
    "  var document = new jsdom.JSDOM();\n",
    "  var body = d3.select(dom.window.document.body);\n",
    "    \n",
    "  // Create svg node\n",
    "  return body.append('svg')\n",
    "    .attr('xmlns', 'http://www.w3.org/2000/svg')\n",
    "    .attr('xmlns:xlink', 'http://www.w3.org/1999/xlink')\n",
    "    .attr('width', width)\n",
    "    .attr('height', height);\n",
    "}\n",
    "\n",
    "var test = svgDOM(100, 100);"
   ]
  },
  {
   "cell_type": "code",
   "execution_count": 34,
   "metadata": {},
   "outputs": [
    {
     "data": {
      "text/plain": [
       "Selection { _groups: [ [ [Object] ] ], _parents: [ null ] }"
      ]
     },
     "execution_count": 34,
     "metadata": {},
     "output_type": "execute_result"
    }
   ],
   "source": [
    "test.append(\"rect\")\n",
    "    .attr(\"width\", 80)\n",
    "    .attr(\"height\", 80)\n",
    "    .style(\"fill\", \"orange\");"
   ]
  },
  {
   "cell_type": "code",
   "execution_count": 35,
   "metadata": {},
   "outputs": [
    {
     "data": {
      "text/plain": [
       "undefined"
      ]
     },
     "execution_count": 35,
     "metadata": {},
     "output_type": "execute_result"
    }
   ],
   "source": [
    "function draw_svg(svgObj) {\n",
    "    return $$.svg(svgObj.node().outerHTML);\n",
    "}"
   ]
  },
  {
   "cell_type": "code",
   "execution_count": 36,
   "metadata": {},
   "outputs": [
    {
     "data": {
      "image/svg+xml": [
       "<svg xmlns=\"http://www.w3.org/2000/svg\" xmlns:xlink=\"http://www.w3.org/1999/xlink\" width=\"100\" height=\"100\"><rect width=\"80\" height=\"80\" style=\"fill: orange;\"></rect></svg>"
      ]
     },
     "execution_count": 36,
     "metadata": {},
     "output_type": "execute_result"
    }
   ],
   "source": [
    "draw_svg(test);"
   ]
  },
  {
   "cell_type": "code",
   "execution_count": null,
   "metadata": {
    "collapsed": true
   },
   "outputs": [],
   "source": []
  }
 ],
 "metadata": {
  "kernelspec": {
   "display_name": "Javascript (Node.js)",
   "language": "javascript",
   "name": "javascript"
  },
  "language_info": {
   "file_extension": ".js",
   "mimetype": "application/javascript",
   "name": "javascript",
   "version": "8.5.0"
  }
 },
 "nbformat": 4,
 "nbformat_minor": 2
}
