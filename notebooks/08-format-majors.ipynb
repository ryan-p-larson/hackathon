{
 "cells": [
  {
   "cell_type": "markdown",
   "metadata": {},
   "source": [
    "# Major Academic Plan Formatting"
   ]
  },
  {
   "cell_type": "code",
   "execution_count": 1,
   "metadata": {
    "collapsed": true
   },
   "outputs": [],
   "source": [
    "import pandas as pd\n",
    "f = '../data/academicplanresult.json'"
   ]
  },
  {
   "cell_type": "code",
   "execution_count": 2,
   "metadata": {},
   "outputs": [
    {
     "name": "stdout",
     "output_type": "stream",
     "text": [
      "Index(['courseID', 'major', 'semester', 'year'], dtype='object')\n"
     ]
    },
    {
     "data": {
      "text/html": [
       "<div>\n",
       "<style>\n",
       "    .dataframe thead tr:only-child th {\n",
       "        text-align: right;\n",
       "    }\n",
       "\n",
       "    .dataframe thead th {\n",
       "        text-align: left;\n",
       "    }\n",
       "\n",
       "    .dataframe tbody tr th {\n",
       "        vertical-align: top;\n",
       "    }\n",
       "</style>\n",
       "<table border=\"1\" class=\"dataframe\">\n",
       "  <thead>\n",
       "    <tr style=\"text-align: right;\">\n",
       "      <th></th>\n",
       "      <th>courseID</th>\n",
       "      <th>major</th>\n",
       "      <th>semester</th>\n",
       "      <th>year</th>\n",
       "    </tr>\n",
       "  </thead>\n",
       "  <tbody>\n",
       "    <tr>\n",
       "      <th>0</th>\n",
       "      <td>RHET:1030</td>\n",
       "      <td>african-american-studies-ba</td>\n",
       "      <td>Fall</td>\n",
       "      <td>First Year</td>\n",
       "    </tr>\n",
       "    <tr>\n",
       "      <th>1</th>\n",
       "      <td>CSI:1600</td>\n",
       "      <td>african-american-studies-ba</td>\n",
       "      <td>Fall</td>\n",
       "      <td>First Year</td>\n",
       "    </tr>\n",
       "    <tr>\n",
       "      <th>2</th>\n",
       "      <td>ENGL:1200</td>\n",
       "      <td>african-american-studies-ba</td>\n",
       "      <td>Spring</td>\n",
       "      <td>First Year</td>\n",
       "    </tr>\n",
       "    <tr>\n",
       "      <th>3</th>\n",
       "      <td>AMST:1010</td>\n",
       "      <td>american-studies-ba</td>\n",
       "      <td>Fall</td>\n",
       "      <td>First Year</td>\n",
       "    </tr>\n",
       "    <tr>\n",
       "      <th>4</th>\n",
       "      <td>RHET:1030</td>\n",
       "      <td>american-studies-ba</td>\n",
       "      <td>Fall</td>\n",
       "      <td>First Year</td>\n",
       "    </tr>\n",
       "  </tbody>\n",
       "</table>\n",
       "</div>"
      ],
      "text/plain": [
       "    courseID                        major semester        year\n",
       "0  RHET:1030  african-american-studies-ba     Fall  First Year\n",
       "1   CSI:1600  african-american-studies-ba     Fall  First Year\n",
       "2  ENGL:1200  african-american-studies-ba   Spring  First Year\n",
       "3  AMST:1010          american-studies-ba     Fall  First Year\n",
       "4  RHET:1030          american-studies-ba     Fall  First Year"
      ]
     },
     "execution_count": 2,
     "metadata": {},
     "output_type": "execute_result"
    }
   ],
   "source": [
    "df = pd.read_json(f)\n",
    "\n",
    "print (df.columns)\n",
    "df.head()"
   ]
  },
  {
   "cell_type": "markdown",
   "metadata": {},
   "source": [
    "### Formatting Data\n",
    "\n",
    "*Year*"
   ]
  },
  {
   "cell_type": "code",
   "execution_count": 3,
   "metadata": {
    "collapsed": true
   },
   "outputs": [],
   "source": [
    "year_map = {\n",
    "    'First Year': 'Freshman',\n",
    "    'Second Year': 'Sophomore',\n",
    "    'Third Year': 'Junior',\n",
    "    'Fourth Year': 'Senior'\n",
    "}\n",
    "df['year'] = df['year'].apply(lambda x: year_map[x])"
   ]
  },
  {
   "cell_type": "markdown",
   "metadata": {},
   "source": [
    "*Semester*"
   ]
  },
  {
   "cell_type": "code",
   "execution_count": 4,
   "metadata": {},
   "outputs": [],
   "source": [
    "semester_map = {\n",
    "    'Fall': 1,\n",
    "    'Spring': 2,\n",
    "    'Summer': 3\n",
    "}\n",
    "\n",
    "df['semester'] = df['semester'].apply(lambda x: semester_map[x])"
   ]
  },
  {
   "cell_type": "markdown",
   "metadata": {},
   "source": [
    "*Majors*"
   ]
  },
  {
   "cell_type": "code",
   "execution_count": 5,
   "metadata": {
    "collapsed": true
   },
   "outputs": [],
   "source": [
    "def format_major(major):\n",
    "    # get rid of -'s\n",
    "    parts = major.split('-')\n",
    "    n = len(parts)\n",
    "    \n",
    "    for i in range(n):\n",
    "        if (i == n-1):\n",
    "            parts[i] = parts[i].upper()\n",
    "        else:\n",
    "            parts[i] = parts[i].title()\n",
    "    return ' '.join(parts)\n",
    "\n",
    "df['major_alias'] = df['major'].apply(lambda x: format_major(x))"
   ]
  },
  {
   "cell_type": "code",
   "execution_count": 6,
   "metadata": {},
   "outputs": [
    {
     "name": "stdout",
     "output_type": "stream",
     "text": [
      "['african-american-studies-ba' 'american-studies-ba'\n",
      " 'ancient-civilization-ba' 'anthropology-ba' 'anthropology-bs'\n",
      " 'applied-physics-bs' 'art-ba' 'art-history-ba'\n",
      " 'asian-languages-literature-ba' 'astronomy-ba' 'astronomy-bs'\n",
      " 'biochemistry-ba' 'biochemistry-bs' 'biology-ba' 'biology-bs'\n",
      " 'biomedical-sciences-bs' 'chemistry-ba' 'chemistry-bs' 'cinema-ba'\n",
      " 'classical-languages-ba' 'communication-studies-ba'\n",
      " 'comparative-literature-ba' 'computer-science-ba' 'computer-science-bs'\n",
      " 'dance-ba' 'english-ba' 'english-creative-writing-ba'\n",
      " 'enterprise-leadership-ba' 'environmental-policy-planning-ba'\n",
      " 'environmental-policy-planning-bs' 'environmental-sciences-ba'\n",
      " 'environmental-sciences-bs' 'ethics-and-public-policy-ba' 'french-ba'\n",
      " 'gender-womens-sexuality-studies-ba' 'geography-ba' 'geography-bs'\n",
      " 'geoscience-ba' 'geoscience-bs' 'german-ba' 'global-health-studies-ba'\n",
      " 'global-health-studies-bs' 'health-human-physiology-ba' 'history-ba'\n",
      " 'human-physiology-bs' 'informatics-ba' 'international-relations-ba'\n",
      " 'international-relations-bs' 'international-studies-ba' 'italian-ba'\n",
      " 'journalism-mass-communication-ba' 'journalism-mass-communication-bs'\n",
      " 'linguistics-ba' 'mathematics-ba' 'mathematics-bs' 'microbiology-bs'\n",
      " 'music-ba' 'neuroscience-bs' 'philosophy-ba' 'physics-ba' 'physics-bs'\n",
      " 'political-science-ba' 'political-science-bs' 'portuguese-ba'\n",
      " 'psychology-ba' 'psychology-bs' 'radiation-sciences-bs'\n",
      " 'religious-studies-ba' 'russian-ba' 'social-work-ba' 'sociology-ba'\n",
      " 'sociology-bs' 'spanish-ba' 'speech-hearing-science-ba'\n",
      " 'sport-recreation-management-bs' 'sport-studies-ba' 'statistics-bs'\n",
      " 'theatre-arts-ba' 'therapeutic-recreation-bs']\n"
     ]
    }
   ],
   "source": [
    "majors = df['major'].unique()\n",
    "majors.sort()\n",
    "\n",
    "print (majors)"
   ]
  },
  {
   "cell_type": "code",
   "execution_count": 7,
   "metadata": {},
   "outputs": [
    {
     "data": {
      "text/html": [
       "<div>\n",
       "<style>\n",
       "    .dataframe thead tr:only-child th {\n",
       "        text-align: right;\n",
       "    }\n",
       "\n",
       "    .dataframe thead th {\n",
       "        text-align: left;\n",
       "    }\n",
       "\n",
       "    .dataframe tbody tr th {\n",
       "        vertical-align: top;\n",
       "    }\n",
       "</style>\n",
       "<table border=\"1\" class=\"dataframe\">\n",
       "  <thead>\n",
       "    <tr style=\"text-align: right;\">\n",
       "      <th></th>\n",
       "      <th>courseID</th>\n",
       "      <th>major</th>\n",
       "      <th>semester</th>\n",
       "      <th>year</th>\n",
       "      <th>major_alias</th>\n",
       "    </tr>\n",
       "  </thead>\n",
       "  <tbody>\n",
       "    <tr>\n",
       "      <th>0</th>\n",
       "      <td>RHET:1030</td>\n",
       "      <td>african-american-studies-ba</td>\n",
       "      <td>1</td>\n",
       "      <td>Freshman</td>\n",
       "      <td>African American Studies BA</td>\n",
       "    </tr>\n",
       "    <tr>\n",
       "      <th>1</th>\n",
       "      <td>CSI:1600</td>\n",
       "      <td>african-american-studies-ba</td>\n",
       "      <td>1</td>\n",
       "      <td>Freshman</td>\n",
       "      <td>African American Studies BA</td>\n",
       "    </tr>\n",
       "    <tr>\n",
       "      <th>2</th>\n",
       "      <td>ENGL:1200</td>\n",
       "      <td>african-american-studies-ba</td>\n",
       "      <td>2</td>\n",
       "      <td>Freshman</td>\n",
       "      <td>African American Studies BA</td>\n",
       "    </tr>\n",
       "    <tr>\n",
       "      <th>3</th>\n",
       "      <td>AMST:1010</td>\n",
       "      <td>american-studies-ba</td>\n",
       "      <td>1</td>\n",
       "      <td>Freshman</td>\n",
       "      <td>American Studies BA</td>\n",
       "    </tr>\n",
       "    <tr>\n",
       "      <th>4</th>\n",
       "      <td>RHET:1030</td>\n",
       "      <td>american-studies-ba</td>\n",
       "      <td>1</td>\n",
       "      <td>Freshman</td>\n",
       "      <td>American Studies BA</td>\n",
       "    </tr>\n",
       "    <tr>\n",
       "      <th>5</th>\n",
       "      <td>CSI:1600</td>\n",
       "      <td>american-studies-ba</td>\n",
       "      <td>1</td>\n",
       "      <td>Freshman</td>\n",
       "      <td>American Studies BA</td>\n",
       "    </tr>\n",
       "    <tr>\n",
       "      <th>6</th>\n",
       "      <td>AMST:2000</td>\n",
       "      <td>american-studies-ba</td>\n",
       "      <td>2</td>\n",
       "      <td>Freshman</td>\n",
       "      <td>American Studies BA</td>\n",
       "    </tr>\n",
       "    <tr>\n",
       "      <th>7</th>\n",
       "      <td>ENGL:1200</td>\n",
       "      <td>american-studies-ba</td>\n",
       "      <td>2</td>\n",
       "      <td>Freshman</td>\n",
       "      <td>American Studies BA</td>\n",
       "    </tr>\n",
       "    <tr>\n",
       "      <th>8</th>\n",
       "      <td>AMST:2025</td>\n",
       "      <td>american-studies-ba</td>\n",
       "      <td>1</td>\n",
       "      <td>Sophomore</td>\n",
       "      <td>American Studies BA</td>\n",
       "    </tr>\n",
       "    <tr>\n",
       "      <th>9</th>\n",
       "      <td>AMST:3900</td>\n",
       "      <td>american-studies-ba</td>\n",
       "      <td>2</td>\n",
       "      <td>Sophomore</td>\n",
       "      <td>American Studies BA</td>\n",
       "    </tr>\n",
       "    <tr>\n",
       "      <th>10</th>\n",
       "      <td>AMST:1010</td>\n",
       "      <td>sport-studies-ba</td>\n",
       "      <td>1</td>\n",
       "      <td>Freshman</td>\n",
       "      <td>Sport Studies BA</td>\n",
       "    </tr>\n",
       "    <tr>\n",
       "      <th>11</th>\n",
       "      <td>RHET:1030</td>\n",
       "      <td>sport-studies-ba</td>\n",
       "      <td>1</td>\n",
       "      <td>Freshman</td>\n",
       "      <td>Sport Studies BA</td>\n",
       "    </tr>\n",
       "    <tr>\n",
       "      <th>12</th>\n",
       "      <td>CSI:1600</td>\n",
       "      <td>sport-studies-ba</td>\n",
       "      <td>1</td>\n",
       "      <td>Freshman</td>\n",
       "      <td>Sport Studies BA</td>\n",
       "    </tr>\n",
       "    <tr>\n",
       "      <th>13</th>\n",
       "      <td>SPST:1074</td>\n",
       "      <td>sport-studies-ba</td>\n",
       "      <td>2</td>\n",
       "      <td>Freshman</td>\n",
       "      <td>Sport Studies BA</td>\n",
       "    </tr>\n",
       "    <tr>\n",
       "      <th>14</th>\n",
       "      <td>ENGL:1200</td>\n",
       "      <td>sport-studies-ba</td>\n",
       "      <td>2</td>\n",
       "      <td>Freshman</td>\n",
       "      <td>Sport Studies BA</td>\n",
       "    </tr>\n",
       "    <tr>\n",
       "      <th>15</th>\n",
       "      <td>ANTH:1101</td>\n",
       "      <td>anthropology-ba</td>\n",
       "      <td>1</td>\n",
       "      <td>Freshman</td>\n",
       "      <td>Anthropology BA</td>\n",
       "    </tr>\n",
       "    <tr>\n",
       "      <th>16</th>\n",
       "      <td>RHET:1030</td>\n",
       "      <td>anthropology-ba</td>\n",
       "      <td>1</td>\n",
       "      <td>Freshman</td>\n",
       "      <td>Anthropology BA</td>\n",
       "    </tr>\n",
       "    <tr>\n",
       "      <th>17</th>\n",
       "      <td>CSI:1600</td>\n",
       "      <td>anthropology-ba</td>\n",
       "      <td>1</td>\n",
       "      <td>Freshman</td>\n",
       "      <td>Anthropology BA</td>\n",
       "    </tr>\n",
       "    <tr>\n",
       "      <th>18</th>\n",
       "      <td>ANTH:1301</td>\n",
       "      <td>anthropology-ba</td>\n",
       "      <td>2</td>\n",
       "      <td>Freshman</td>\n",
       "      <td>Anthropology BA</td>\n",
       "    </tr>\n",
       "    <tr>\n",
       "      <th>19</th>\n",
       "      <td>ENGL:1200</td>\n",
       "      <td>anthropology-ba</td>\n",
       "      <td>2</td>\n",
       "      <td>Freshman</td>\n",
       "      <td>Anthropology BA</td>\n",
       "    </tr>\n",
       "  </tbody>\n",
       "</table>\n",
       "</div>"
      ],
      "text/plain": [
       "     courseID                        major  semester       year  \\\n",
       "0   RHET:1030  african-american-studies-ba         1   Freshman   \n",
       "1    CSI:1600  african-american-studies-ba         1   Freshman   \n",
       "2   ENGL:1200  african-american-studies-ba         2   Freshman   \n",
       "3   AMST:1010          american-studies-ba         1   Freshman   \n",
       "4   RHET:1030          american-studies-ba         1   Freshman   \n",
       "5    CSI:1600          american-studies-ba         1   Freshman   \n",
       "6   AMST:2000          american-studies-ba         2   Freshman   \n",
       "7   ENGL:1200          american-studies-ba         2   Freshman   \n",
       "8   AMST:2025          american-studies-ba         1  Sophomore   \n",
       "9   AMST:3900          american-studies-ba         2  Sophomore   \n",
       "10  AMST:1010             sport-studies-ba         1   Freshman   \n",
       "11  RHET:1030             sport-studies-ba         1   Freshman   \n",
       "12   CSI:1600             sport-studies-ba         1   Freshman   \n",
       "13  SPST:1074             sport-studies-ba         2   Freshman   \n",
       "14  ENGL:1200             sport-studies-ba         2   Freshman   \n",
       "15  ANTH:1101              anthropology-ba         1   Freshman   \n",
       "16  RHET:1030              anthropology-ba         1   Freshman   \n",
       "17   CSI:1600              anthropology-ba         1   Freshman   \n",
       "18  ANTH:1301              anthropology-ba         2   Freshman   \n",
       "19  ENGL:1200              anthropology-ba         2   Freshman   \n",
       "\n",
       "                    major_alias  \n",
       "0   African American Studies BA  \n",
       "1   African American Studies BA  \n",
       "2   African American Studies BA  \n",
       "3           American Studies BA  \n",
       "4           American Studies BA  \n",
       "5           American Studies BA  \n",
       "6           American Studies BA  \n",
       "7           American Studies BA  \n",
       "8           American Studies BA  \n",
       "9           American Studies BA  \n",
       "10             Sport Studies BA  \n",
       "11             Sport Studies BA  \n",
       "12             Sport Studies BA  \n",
       "13             Sport Studies BA  \n",
       "14             Sport Studies BA  \n",
       "15              Anthropology BA  \n",
       "16              Anthropology BA  \n",
       "17              Anthropology BA  \n",
       "18              Anthropology BA  \n",
       "19              Anthropology BA  "
      ]
     },
     "execution_count": 7,
     "metadata": {},
     "output_type": "execute_result"
    }
   ],
   "source": [
    "df.head(20)"
   ]
  },
  {
   "cell_type": "code",
   "execution_count": 14,
   "metadata": {
    "collapsed": true
   },
   "outputs": [],
   "source": [
    "courses = df.to_dict(orient='records')"
   ]
  },
  {
   "cell_type": "code",
   "execution_count": 15,
   "metadata": {},
   "outputs": [
    {
     "data": {
      "text/plain": [
       "{'courseID': 'RHET:1030',\n",
       " 'major': 'african-american-studies-ba',\n",
       " 'major_alias': 'African American Studies BA',\n",
       " 'semester': 1,\n",
       " 'year': 'Freshman'}"
      ]
     },
     "execution_count": 15,
     "metadata": {},
     "output_type": "execute_result"
    }
   ],
   "source": [
    "courses[0]"
   ]
  },
  {
   "cell_type": "code",
   "execution_count": 17,
   "metadata": {},
   "outputs": [],
   "source": [
    "majors = {}\n",
    "\n",
    "for course in courses:\n",
    "    course_maj = course['major']\n",
    "    course_alias = course['major_alias']\n",
    "    \n",
    "    slim_course = {\n",
    "        'courseID': course['courseID'],\n",
    "        'year': course['year'],\n",
    "        'semester': course['semester']\n",
    "    }\n",
    "    \n",
    "    try:\n",
    "        majors[course_maj]['courses'].append(slim_course)\n",
    "    except:\n",
    "        majors[course_maj] = {\n",
    "            'alias': course_alias,\n",
    "            'major': course_maj\n",
    "        }\n",
    "        majors[course_maj]['courses'] = []\n",
    "        majors[course_maj]['courses'].append(slim_course)"
   ]
  },
  {
   "cell_type": "code",
   "execution_count": 19,
   "metadata": {
    "scrolled": false
   },
   "outputs": [
    {
     "data": {
      "text/plain": [
       "{'alias': 'Anthropology BA',\n",
       " 'courses': [{'courseID': 'ANTH:1101', 'semester': 1, 'year': 'Freshman'},\n",
       "  {'courseID': 'RHET:1030', 'semester': 1, 'year': 'Freshman'},\n",
       "  {'courseID': 'CSI:1600', 'semester': 1, 'year': 'Freshman'},\n",
       "  {'courseID': 'ANTH:1301', 'semester': 2, 'year': 'Freshman'},\n",
       "  {'courseID': 'ENGL:1200', 'semester': 2, 'year': 'Freshman'},\n",
       "  {'courseID': 'ANTH:1201', 'semester': 1, 'year': 'Sophomore'},\n",
       "  {'courseID': 'ANTH:1401', 'semester': 1, 'year': 'Sophomore'},\n",
       "  {'courseID': 'ANTH:1001', 'semester': 2, 'year': 'Sophomore'}],\n",
       " 'major': 'anthropology-ba'}"
      ]
     },
     "execution_count": 19,
     "metadata": {},
     "output_type": "execute_result"
    }
   ],
   "source": [
    "majors['anthropology-ba']"
   ]
  },
  {
   "cell_type": "code",
   "execution_count": 21,
   "metadata": {},
   "outputs": [],
   "source": [
    "import json\n",
    "with open('../data/major-plans.json', 'w') as f:\n",
    "    json.dump(majors, f)"
   ]
  },
  {
   "cell_type": "code",
   "execution_count": null,
   "metadata": {
    "collapsed": true
   },
   "outputs": [],
   "source": []
  }
 ],
 "metadata": {
  "kernelspec": {
   "display_name": "Python 3",
   "language": "python",
   "name": "python3"
  },
  "language_info": {
   "codemirror_mode": {
    "name": "ipython",
    "version": 3
   },
   "file_extension": ".py",
   "mimetype": "text/x-python",
   "name": "python",
   "nbconvert_exporter": "python",
   "pygments_lexer": "ipython3",
   "version": "3.6.1"
  }
 },
 "nbformat": 4,
 "nbformat_minor": 2
}
