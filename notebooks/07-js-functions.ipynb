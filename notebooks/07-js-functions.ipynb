{
 "cells": [
  {
   "cell_type": "markdown",
   "metadata": {},
   "source": [
    "# 07 - JavaScript Functions\n",
    "\n",
    "Notebook to iterate on the best functions for the chart."
   ]
  },
  {
   "cell_type": "code",
   "execution_count": 3,
   "metadata": {
    "collapsed": false
   },
   "outputs": [],
   "source": [
    "// libraries\n",
    "var fs = require('fs');\n",
    "var http = require('http');\n",
    "\n",
    "var d3 = require('d3');\n",
    "var d3_sankey = require('d3-sankey');\n",
    "\n",
    "var jsdom = require('jsdom');\n",
    "\n",
    "// files\n",
    "var f1 = '../data/indexed-courses.json'; // new line delimited"
   ]
  },
  {
   "cell_type": "markdown",
   "metadata": {},
   "source": [
    "### Reusable Functions"
   ]
  },
  {
   "cell_type": "code",
   "execution_count": 4,
   "metadata": {
    "code_folding": [],
    "collapsed": true
   },
   "outputs": [],
   "source": [
    "function read_json(f) {\n",
    "    var buffer = fs.readFileSync(f);\n",
    "    var contents = JSON.parse(buffer);\n",
    "    return contents;\n",
    "}\n",
    "\n",
    "// Function to create and return an svg for our virtual DOM\n",
    "function svgDOM(width, height) {\n",
    "  // Setup DOM\n",
    "  var document = new jsdom.JSDOM();\n",
    "  var body = d3.select(document.window.document.body);\n",
    "    \n",
    "  // Create svg node\n",
    "  return body.append('svg')\n",
    "    .attr('xmlns', 'http://www.w3.org/2000/svg')\n",
    "    .attr('xmlns:xlink', 'http://www.w3.org/1999/xlink')\n",
    "    .attr('width', width)\n",
    "    .attr('height', height);\n",
    "}\n"
   ]
  },
  {
   "cell_type": "markdown",
   "metadata": {},
   "source": [
    "### Application Specific Functions\n",
    "\n",
    "*Data Specific*"
   ]
  },
  {
   "cell_type": "code",
   "execution_count": 5,
   "metadata": {
    "code_folding": [
     82
    ],
    "collapsed": true
   },
   "outputs": [],
   "source": [
    "function create_course_graph(course, courses) {\n",
    "    var final_nodes = new Set(),\n",
    "        final_links = new Set(),\n",
    "        remaining_nodes = [],\n",
    "        next_nodes = [];\n",
    "    \n",
    "    var traverse = [{linkType : \"prereqs\",\n",
    "                      nodeType : \"source\"}];\n",
    "    \n",
    "    // sanity check!!\n",
    "    course = courses[course];\n",
    "    final_nodes.add(course.courseID);\n",
    "\n",
    "    // initially add all the prereqs from a class \n",
    "    // to BOTH the final and remaining nodes\n",
    "    course['prereqs'].forEach((link) => {\n",
    "        // set to check against\n",
    "        final_nodes.add(link['source']);\n",
    "        // links\n",
    "        final_links.add(link);\n",
    "        // list\n",
    "        remaining_nodes.push(link['source']);\n",
    "    });\n",
    "    \n",
    "    // map the courseIDs back to actual courses\n",
    "    final_nodes = Array.from(final_nodes).map(d => { return courses[d]; });\n",
    "    // Convert links too\n",
    "    final_links = Array.from(final_links);\n",
    "    \n",
    "    return {\"nodes\": final_nodes, \"links\": final_links};\n",
    "}\n",
    "\n",
    "function create_course_graph_extended(course, courses) {\n",
    "    var final_nodes = new Set(),\n",
    "        final_links = new Set(),\n",
    "        remaining_nodes = [],\n",
    "        next_nodes = [];\n",
    "    \n",
    "    var traverse = [{linkType : \"prereqs\",\n",
    "                      nodeType : \"source\"}];\n",
    "    \n",
    "    // sanity check!!\n",
    "    course = courses[course];\n",
    "    final_nodes.add(course.courseID);\n",
    "\n",
    "    // initially add all the prereqs from a class \n",
    "    // to BOTH the final and remaining nodes\n",
    "    course['prereqs'].forEach((link) => {\n",
    "        // set to check against\n",
    "        final_nodes.add(link['source']);\n",
    "        // links\n",
    "        final_links.add(link);\n",
    "        // list\n",
    "        remaining_nodes.push(link['source']);\n",
    "    });\n",
    "\n",
    "    // for each prereq, add it's prereqs\n",
    "    remaining_nodes.forEach(function(node) {\n",
    "        // get the course from it's ID\n",
    "        node = courses[node];\n",
    "\n",
    "        node['prereqs'].forEach(function(link) {\n",
    "\n",
    "            var prereq_id = link['source'];\n",
    "            if (final_nodes.has(prereq_id) == false) {\n",
    "                next_nodes.push(link['source']);\n",
    "                final_nodes.add(prereq_id);\n",
    "                final_links.add(link);\n",
    "            }\n",
    "        });\n",
    "\n",
    "    });\n",
    "    \n",
    "    // map the courseIDs back to actual courses\n",
    "    final_nodes = Array.from(final_nodes).map(d => { return courses[d]; });\n",
    "    // Convert links too\n",
    "    final_links = Array.from(final_links);\n",
    "    \n",
    "    return {\"nodes\": final_nodes, \"links\": final_links};\n",
    "}\n",
    "\n",
    "function get_dept_courses(dept, courses) {\n",
    "    var dept_courses = d3.values(courses)\n",
    "        .filter(d => { return d.department === dept; })\n",
    "        .map(d => { return d.courseID; });\n",
    "    \n",
    "    return dept_courses;\n",
    "}"
   ]
  },
  {
   "cell_type": "markdown",
   "metadata": {},
   "source": [
    "*Visualization*"
   ]
  },
  {
   "cell_type": "code",
   "execution_count": 15,
   "metadata": {
    "code_folding": [
     0
    ],
    "collapsed": true
   },
   "outputs": [],
   "source": [
    "function draw_chart(graph_orig) {\n",
    "    var graph = graph_orig;\n",
    "    \n",
    "    // sanity check\n",
    "    if (graph.links.length < 1 || graph.nodes.length < 1) {\n",
    "        console.log(\"No links, skipping.\");\n",
    "        return;\n",
    "    }\n",
    "    \n",
    "    var width = 960,\n",
    "        height = 600,\n",
    "        svg = svgDOM(width, height);\n",
    "\n",
    "    var sankey = d3_sankey.sankey()\n",
    "        .nodeId(function(d) { return d.courseID; })\n",
    "        .nodeAlign(d3_sankey.sankeyCenter)\n",
    "        .nodeWidth(15)\n",
    "        .nodePadding(5)\n",
    "        .size([width, height]);\n",
    "    \n",
    "    sankey(graph);\n",
    "\n",
    "    var link = svg.append(\"g\")\n",
    "        .attr(\"class\", \"links\")\n",
    "        .attr(\"fill\", \"none\")\n",
    "        .attr(\"stroke\", \"#000\")\n",
    "        .attr(\"stroke-opacity\", 0.2)\n",
    "      .selectAll(\"path\");\n",
    "    var node = svg.append(\"g\")\n",
    "        .attr(\"class\", \"nodes\")\n",
    "        .attr(\"font-family\", \"sans-serif\")\n",
    "        .attr(\"font-size\", 10)\n",
    "      .selectAll(\"g\");\n",
    "\n",
    "    link = link\n",
    "        .data(graph.links)\n",
    "        .enter().append(\"path\")\n",
    "        .attr(\"d\", d3_sankey.sankeyLinkHorizontal())\n",
    "        .attr('class', 'link')\n",
    "        .attr(\"stroke-width\", function(d) { return Math.max(1, d.width); });\n",
    "\n",
    "    node = node\n",
    "        .data(graph.nodes)\n",
    "        .enter().append(\"g\")\n",
    "        //.filter(function(d) { return (d['targetLinks'].length > 0) || (d['sourceLinks'].length > 0); })\n",
    "        .attr('class', 'node');\n",
    "    node.append(\"rect\")\n",
    "        .attr('class', 'node')\n",
    "        .attr(\"x\", function(d) { return d.x0; })\n",
    "        .attr(\"y\", function(d) { return d.y0; })\n",
    "        .attr(\"height\", function(d) { return d.y1 - d.y0; })\n",
    "        .attr(\"width\", function(d) { return d.x1 - d.x0; })\n",
    "      .attr(\"fill\", \"steelblue\")\n",
    "        //.attr(\"fill\", function(d) { return color_scale(d.department); })\n",
    "        .attr(\"stroke\", \"#000\");\n",
    "    node.append(\"text\")\n",
    "        .attr(\"x\", function(d) { return d.x0 - 6; })\n",
    "        .attr(\"y\", function(d) { return (d.y1 + d.y0) / 2; })\n",
    "        .attr(\"dy\", \"0.35em\")\n",
    "        .attr('class', '')\n",
    "        .attr(\"text-anchor\", \"end\")\n",
    "        .text(function(d) { return d.name; })\n",
    "      .filter(function(d) { return d.x0 < width / 2; })\n",
    "        .attr(\"x\", function(d) { return d.x1 + 6; })\n",
    "        .attr(\"text-anchor\", \"start\");\n",
    "\n",
    "    //return svg;\n",
    "    return $$.svg(svg.node().outerHTML);\n",
    "}"
   ]
  },
  {
   "cell_type": "markdown",
   "metadata": {},
   "source": [
    "### Data and Test Vars"
   ]
  },
  {
   "cell_type": "code",
   "execution_count": 16,
   "metadata": {
    "collapsed": false
   },
   "outputs": [],
   "source": [
    "var courses = read_json(f1);\n",
    "\n",
    "var algorithms = 'CS:3330';\n",
    "\n",
    "var algo_graph = create_course_graph(algorithms, courses);\n",
    "\n",
    "var algo_graph_extended = create_course_graph_extended(algorithms, courses);"
   ]
  },
  {
   "cell_type": "markdown",
   "metadata": {},
   "source": [
    "---"
   ]
  },
  {
   "cell_type": "code",
   "execution_count": 17,
   "metadata": {
    "collapsed": false
   },
   "outputs": [
    {
     "data": {
      "image/svg+xml": [
       "<svg xmlns=\"http://www.w3.org/2000/svg\" xmlns:xlink=\"http://www.w3.org/1999/xlink\" width=\"960\" height=\"600\"><g class=\"links\" fill=\"none\" stroke=\"#000\" stroke-opacity=\"0.2\"><path d=\"M15,73.12500000000003C480,73.12500000000003,480,80.625,945,80.625\" class=\"link\" stroke-width=\"146.25\"></path><path d=\"M15,224.3750000000001C480,224.3750000000001,480,226.875,945,226.875\" class=\"link\" stroke-width=\"146.25\"></path><path d=\"M15,375.625C480,375.625,480,373.125,945,373.125\" class=\"link\" stroke-width=\"146.25\"></path><path d=\"M15,526.8750000000001C480,526.8750000000001,480,519.375,945,519.375\" class=\"link\" stroke-width=\"146.25\"></path></g><g class=\"nodes\" font-family=\"sans-serif\" font-size=\"10\"><g class=\"node\"><rect class=\"node\" x=\"945\" y=\"7.499999999999994\" height=\"585\" width=\"15\" fill=\"steelblue\" stroke=\"#000\"></rect><text x=\"939\" y=\"300\" dy=\"0.35em\" class=\"\" text-anchor=\"end\">Algorithms</text></g><g class=\"node\"><rect class=\"node\" x=\"0\" y=\"2.842170943040401e-14\" height=\"146.25000000000009\" width=\"15\" fill=\"steelblue\" stroke=\"#000\"></rect><text x=\"21\" y=\"73.12500000000007\" dy=\"0.35em\" class=\"\" text-anchor=\"start\">Discrete Structures</text></g><g class=\"node\"><rect class=\"node\" x=\"0\" y=\"151.2500000000001\" height=\"146.2499999999999\" width=\"15\" fill=\"steelblue\" stroke=\"#000\"></rect><text x=\"21\" y=\"224.37500000000006\" dy=\"0.35em\" class=\"\" text-anchor=\"start\">Engineer Math I Single Variable Calculus</text></g><g class=\"node\"><rect class=\"node\" x=\"0\" y=\"302.5\" height=\"146.2500000000001\" width=\"15\" fill=\"steelblue\" stroke=\"#000\"></rect><text x=\"21\" y=\"375.62500000000006\" dy=\"0.35em\" class=\"\" text-anchor=\"start\">Calculus I</text></g><g class=\"node\"><rect class=\"node\" x=\"0\" y=\"453.7500000000001\" height=\"146.2499999999999\" width=\"15\" fill=\"steelblue\" stroke=\"#000\"></rect><text x=\"21\" y=\"526.875\" dy=\"0.35em\" class=\"\" text-anchor=\"start\">Computer Science II: Data Structures</text></g></g></svg>"
      ]
     },
     "execution_count": 17,
     "metadata": {},
     "output_type": "execute_result"
    }
   ],
   "source": [
    "draw_chart(algo_graph)"
   ]
  },
  {
   "cell_type": "code",
   "execution_count": 18,
   "metadata": {
    "collapsed": false
   },
   "outputs": [
    {
     "data": {
      "image/svg+xml": [
       "<svg xmlns=\"http://www.w3.org/2000/svg\" xmlns:xlink=\"http://www.w3.org/1999/xlink\" width=\"960\" height=\"600\"><g class=\"links\" fill=\"none\" stroke=\"#000\" stroke-opacity=\"0.2\"><path d=\"M487.5,507.24999999999966C716.25,507.24999999999966,716.25,488.8222361569989,945,488.8222361569989\" class=\"link\" stroke-width=\"58.5\"></path><path d=\"M487.5,29.24999999999943C716.25,29.24999999999943,716.25,371.8222361569989,945,371.8222361569989\" class=\"link\" stroke-width=\"58.5\"></path><path d=\"M487.5,570.7499999999997C716.25,570.7499999999997,716.25,547.3222361569989,945,547.3222361569989\" class=\"link\" stroke-width=\"58.5\"></path><path d=\"M487.5,385.2499999999999C716.25,385.2499999999999,716.25,430.3222361569989,945,430.3222361569989\" class=\"link\" stroke-width=\"58.5\"></path><path d=\"M15,126.25000000000057C243.75,126.25000000000057,243.75,29.24999999999943,472.5,29.24999999999943\" class=\"link\" stroke-width=\"58.5\"></path><path d=\"M15,189.75000000000057C243.75,189.75000000000057,243.75,87.74999999999943,472.5,87.74999999999943\" class=\"link\" stroke-width=\"58.5\"></path><path d=\"M15,253.25000000000057C243.75,253.25000000000057,243.75,146.24999999999943,472.5,146.24999999999943\" class=\"link\" stroke-width=\"58.5\"></path><path d=\"M15,316.7500000000002C243.75,316.7500000000002,243.75,204.74999999999943,472.5,204.74999999999943\" class=\"link\" stroke-width=\"58.5\"></path><path d=\"M15,380.25C243.75,380.25,243.75,263.24999999999943,472.5,263.24999999999943\" class=\"link\" stroke-width=\"58.5\"></path><path d=\"M15,443.75C243.75,443.75,243.75,321.74999999999943,472.5,321.74999999999943\" class=\"link\" stroke-width=\"58.5\"></path><path d=\"M15,507.25C243.75,507.25,243.75,385.2499999999999,472.5,385.2499999999999\" class=\"link\" stroke-width=\"58.5\"></path><path d=\"M15,570.75C243.75,570.75,243.75,443.7499999999999,472.5,443.7499999999999\" class=\"link\" stroke-width=\"58.5\"></path></g><g class=\"nodes\" font-family=\"sans-serif\" font-size=\"10\"><g class=\"node\"><rect class=\"node\" x=\"945\" y=\"342.5722361569989\" height=\"234.0000000000001\" width=\"15\" fill=\"steelblue\" stroke=\"#000\"></rect><text x=\"939\" y=\"459.57223615699894\" dy=\"0.35em\" class=\"\" text-anchor=\"end\">Algorithms</text></g><g class=\"node\"><rect class=\"node\" x=\"472.5\" y=\"477.99999999999966\" height=\"58.5\" width=\"15\" fill=\"steelblue\" stroke=\"#000\"></rect><text x=\"493.5\" y=\"507.24999999999966\" dy=\"0.35em\" class=\"\" text-anchor=\"start\">Discrete Structures</text></g><g class=\"node\"><rect class=\"node\" x=\"472.5\" y=\"-5.684341886080801e-13\" height=\"351.00000000000045\" width=\"15\" fill=\"steelblue\" stroke=\"#000\"></rect><text x=\"493.5\" y=\"175.49999999999966\" dy=\"0.35em\" class=\"\" text-anchor=\"start\">Engineer Math I Single Variable Calculus</text></g><g class=\"node\"><rect class=\"node\" x=\"472.5\" y=\"541.4999999999997\" height=\"58.50000000000034\" width=\"15\" fill=\"steelblue\" stroke=\"#000\"></rect><text x=\"493.5\" y=\"570.7499999999998\" dy=\"0.35em\" class=\"\" text-anchor=\"start\">Calculus I</text></g><g class=\"node\"><rect class=\"node\" x=\"472.5\" y=\"355.9999999999999\" height=\"116.99999999999977\" width=\"15\" fill=\"steelblue\" stroke=\"#000\"></rect><text x=\"493.5\" y=\"414.4999999999998\" dy=\"0.35em\" class=\"\" text-anchor=\"start\">Computer Science II: Data Structures</text></g><g class=\"node\"><rect class=\"node\" x=\"0\" y=\"97.00000000000057\" height=\"58.5\" width=\"15\" fill=\"steelblue\" stroke=\"#000\"></rect><text x=\"21\" y=\"126.25000000000057\" dy=\"0.35em\" class=\"\" text-anchor=\"start\">Calculus and Matrix Algebra for Business</text></g><g class=\"node\"><rect class=\"node\" x=\"0\" y=\"160.50000000000057\" height=\"58.5\" width=\"15\" fill=\"steelblue\" stroke=\"#000\"></rect><text x=\"21\" y=\"189.75000000000057\" dy=\"0.35em\" class=\"\" text-anchor=\"start\">Elementary Functions</text></g><g class=\"node\"><rect class=\"node\" x=\"0\" y=\"224.00000000000057\" height=\"58.49999999999966\" width=\"15\" fill=\"steelblue\" stroke=\"#000\"></rect><text x=\"21\" y=\"253.2500000000004\" dy=\"0.35em\" class=\"\" text-anchor=\"start\">Calculus for the Biological Sciences</text></g><g class=\"node\"><rect class=\"node\" x=\"0\" y=\"287.5000000000002\" height=\"58.49999999999977\" width=\"15\" fill=\"steelblue\" stroke=\"#000\"></rect><text x=\"21\" y=\"316.7500000000001\" dy=\"0.35em\" class=\"\" text-anchor=\"start\">Trigonometry</text></g><g class=\"node\"><rect class=\"node\" x=\"0\" y=\"351\" height=\"58.5\" width=\"15\" fill=\"steelblue\" stroke=\"#000\"></rect><text x=\"21\" y=\"380.25\" dy=\"0.35em\" class=\"\" text-anchor=\"start\">College Algebra</text></g><g class=\"node\"><rect class=\"node\" x=\"0\" y=\"414.5\" height=\"58.5\" width=\"15\" fill=\"steelblue\" stroke=\"#000\"></rect><text x=\"21\" y=\"443.75\" dy=\"0.35em\" class=\"\" text-anchor=\"start\">Mathematics for Business</text></g><g class=\"node\"><rect class=\"node\" x=\"0\" y=\"478\" height=\"58.5\" width=\"15\" fill=\"steelblue\" stroke=\"#000\"></rect><text x=\"21\" y=\"507.25\" dy=\"0.35em\" class=\"\" text-anchor=\"start\">Computer Science I: Fundamentals</text></g><g class=\"node\"><rect class=\"node\" x=\"0\" y=\"541.5\" height=\"58.5\" width=\"15\" fill=\"steelblue\" stroke=\"#000\"></rect><text x=\"21\" y=\"570.75\" dy=\"0.35em\" class=\"\" text-anchor=\"start\">Computers in Engineering</text></g></g></svg>"
      ]
     },
     "execution_count": 18,
     "metadata": {},
     "output_type": "execute_result"
    }
   ],
   "source": [
    "draw_chart(algo_graph_extended);"
   ]
  },
  {
   "cell_type": "code",
   "execution_count": 10,
   "metadata": {
    "collapsed": false
   },
   "outputs": [],
   "source": [
    "var cs_courses = get_dept_courses('CS', courses);"
   ]
  },
  {
   "cell_type": "code",
   "execution_count": 25,
   "metadata": {
    "collapsed": false
   },
   "outputs": [
    {
     "data": {
      "image/svg+xml": [
       "<svg xmlns=\"http://www.w3.org/2000/svg\" xmlns:xlink=\"http://www.w3.org/1999/xlink\" width=\"960\" height=\"600\"><g class=\"links\" fill=\"none\" stroke=\"#000\" stroke-opacity=\"0.2\"><path d=\"M487.5,103.33333333333368C716.25,103.33333333333368,716.25,300.0000000000001,945,300.0000000000001\" class=\"link\" stroke-width=\"196.66666666666666\"></path><path d=\"M15,98.33333333333347C243.75,98.33333333333347,243.75,103.33333333333368,472.5,103.33333333333368\" class=\"link\" stroke-width=\"196.66666666666666\"></path><path d=\"M15,300.0000000000003C243.75,300.0000000000003,243.75,300.00000000000034,472.5,300.00000000000034\" class=\"link\" stroke-width=\"196.66666666666666\"></path><path d=\"M15,501.6666666666667C243.75,501.6666666666667,243.75,496.66666666666697,472.5,496.66666666666697\" class=\"link\" stroke-width=\"196.66666666666666\"></path></g><g class=\"nodes\" font-family=\"sans-serif\" font-size=\"10\"><g class=\"node\"><rect class=\"node\" x=\"945\" y=\"201.6666666666668\" height=\"196.66666666666669\" width=\"15\" fill=\"steelblue\" stroke=\"#000\"></rect><text x=\"939\" y=\"300.0000000000001\" dy=\"0.35em\" class=\"\" text-anchor=\"end\">Corporate Finance</text></g><g class=\"node\"><rect class=\"node\" x=\"472.5\" y=\"5.000000000000352\" height=\"589.9999999999997\" width=\"15\" fill=\"steelblue\" stroke=\"#000\"></rect><text x=\"493.5\" y=\"300.00000000000017\" dy=\"0.35em\" class=\"\" text-anchor=\"start\">Introductory Financial Management</text></g><g class=\"node\"><rect class=\"node\" x=\"0\" y=\"1.4210854715202004e-13\" height=\"196.66666666666683\" width=\"15\" fill=\"steelblue\" stroke=\"#000\"></rect><text x=\"21\" y=\"98.33333333333356\" dy=\"0.35em\" class=\"\" text-anchor=\"start\">Introduction to Financial Accounting</text></g><g class=\"node\"><rect class=\"node\" x=\"0\" y=\"201.66666666666697\" height=\"196.6666666666664\" width=\"15\" fill=\"steelblue\" stroke=\"#000\"></rect><text x=\"21\" y=\"300.00000000000017\" dy=\"0.35em\" class=\"\" text-anchor=\"start\">Principles of Microeconomics</text></g><g class=\"node\"><rect class=\"node\" x=\"0\" y=\"403.33333333333337\" height=\"196.66666666666663\" width=\"15\" fill=\"steelblue\" stroke=\"#000\"></rect><text x=\"21\" y=\"501.6666666666667\" dy=\"0.35em\" class=\"\" text-anchor=\"start\">Principles of Macroeconomics</text></g></g></svg>"
      ]
     },
     "execution_count": 25,
     "metadata": {},
     "output_type": "execute_result"
    }
   ],
   "source": [
    "draw_chart(create_course_graph_extended('FIN:3300', courses))"
   ]
  },
  {
   "cell_type": "code",
   "execution_count": null,
   "metadata": {
    "collapsed": true
   },
   "outputs": [],
   "source": []
  }
 ],
 "metadata": {
  "kernelspec": {
   "display_name": "Javascript (Node.js)",
   "language": "javascript",
   "name": "javascript"
  },
  "language_info": {
   "file_extension": ".js",
   "mimetype": "application/javascript",
   "name": "javascript",
   "version": "6.10.0"
  }
 },
 "nbformat": 4,
 "nbformat_minor": 2
}
