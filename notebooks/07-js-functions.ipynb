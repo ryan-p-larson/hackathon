{
 "cells": [
  {
   "cell_type": "markdown",
   "metadata": {},
   "source": [
    "# 07 - JavaScript Functions\n",
    "\n",
    "Notebook to iterate on the best functions for the chart."
   ]
  },
  {
   "cell_type": "code",
   "execution_count": 1,
   "metadata": {
    "collapsed": true
   },
   "outputs": [],
   "source": [
    "// libraries\n",
    "var fs = require('fs');\n",
    "var http = require('http');\n",
    "\n",
    "var d3 = require('d3');\n",
    "var d3_sankey = require('d3-sankey');\n",
    "\n",
    "var jsdom = require('jsdom');\n",
    "\n",
    "// files\n",
    "var f1 = '../data/indexed-courses.json'; // new line delimited"
   ]
  },
  {
   "cell_type": "markdown",
   "metadata": {},
   "source": [
    "### Reusable Functions"
   ]
  },
  {
   "cell_type": "code",
   "execution_count": 2,
   "metadata": {
    "code_folding": [
     0,
     7
    ],
    "collapsed": true
   },
   "outputs": [],
   "source": [
    "function read_json(f) {\n",
    "    var buffer = fs.readFileSync(f);\n",
    "    var contents = JSON.parse(buffer);\n",
    "    return contents;\n",
    "}\n",
    "\n",
    "// Function to create and return an svg for our virtual DOM\n",
    "function svgDOM(width, height) {\n",
    "  // Setup DOM\n",
    "  var document = new jsdom.JSDOM();\n",
    "  var body = d3.select(document.window.document.body);\n",
    "    \n",
    "  // Create svg node\n",
    "  return body.append('svg')\n",
    "    .attr('xmlns', 'http://www.w3.org/2000/svg')\n",
    "    .attr('xmlns:xlink', 'http://www.w3.org/1999/xlink')\n",
    "    .attr('width', width)\n",
    "    .attr('height', height);\n",
    "}"
   ]
  },
  {
   "cell_type": "markdown",
   "metadata": {},
   "source": [
    "### Application Specific Functions\n",
    "\n",
    "*Data Specific*"
   ]
  },
  {
   "cell_type": "code",
   "execution_count": 3,
   "metadata": {
    "code_folding": [
     0,
     32,
     81
    ],
    "collapsed": true
   },
   "outputs": [],
   "source": [
    "function create_course_graph(course, courses) {\n",
    "    var final_nodes = new Set(),\n",
    "        final_links = new Set(),\n",
    "        remaining_nodes = [],\n",
    "        next_nodes = [];\n",
    "    \n",
    "    var traverse = [{linkType : \"prereqs\",\n",
    "                      nodeType : \"source\"}];\n",
    "    \n",
    "    // sanity check!!\n",
    "    course = courses[course];\n",
    "    final_nodes.add(course.courseID);\n",
    "\n",
    "    // initially add all the prereqs from a class \n",
    "    // to BOTH the final and remaining nodes\n",
    "    course['prereqs'].forEach((link) => {\n",
    "        // set to check against\n",
    "        final_nodes.add(link['source']);\n",
    "        // links\n",
    "        final_links.add(link);\n",
    "        // list\n",
    "        remaining_nodes.push(link['source']);\n",
    "    });\n",
    "    \n",
    "    // map the courseIDs back to actual courses\n",
    "    final_nodes = Array.from(final_nodes).map(d => { return courses[d]; });\n",
    "    // Convert links too\n",
    "    final_links = Array.from(final_links);\n",
    "    \n",
    "    return {\"nodes\": final_nodes, \"links\": final_links};\n",
    "}\n",
    "\n",
    "function create_course_graph_extended(course, courses) {\n",
    "    var final_nodes = new Set(),\n",
    "        final_links = new Set(),\n",
    "        remaining_nodes = [],\n",
    "        next_nodes = [];\n",
    "    \n",
    "    var traverse = [{linkType : \"prereqs\",\n",
    "                      nodeType : \"source\"}];\n",
    "    \n",
    "    // sanity check!!\n",
    "    course = courses[course];\n",
    "    final_nodes.add(course.courseID);\n",
    "\n",
    "    // initially add all the prereqs from a class \n",
    "    // to BOTH the final and remaining nodes\n",
    "    course['prereqs'].forEach((link) => {\n",
    "        // set to check against\n",
    "        final_nodes.add(link['source']);\n",
    "        // links\n",
    "        final_links.add(link);\n",
    "        // list\n",
    "        remaining_nodes.push(link['source']);\n",
    "    });\n",
    "\n",
    "    // for each prereq, add it's prereqs\n",
    "    remaining_nodes.forEach(function(node) {\n",
    "        // get the course from it's ID\n",
    "        node = courses[node];\n",
    "\n",
    "        node['prereqs'].forEach(function(link) {\n",
    "\n",
    "            var prereq_id = link['source'];\n",
    "            if (final_nodes.has(prereq_id) == false) {\n",
    "                next_nodes.push(link['source']);\n",
    "                final_nodes.add(prereq_id);\n",
    "                final_links.add(link);\n",
    "            }\n",
    "        });\n",
    "\n",
    "    });\n",
    "    \n",
    "    // map the courseIDs back to actual courses\n",
    "    final_nodes = Array.from(final_nodes).map(d => { return courses[d]; });\n",
    "    // Convert links too\n",
    "    final_links = Array.from(final_links);\n",
    "    \n",
    "    return {\"nodes\": final_nodes, \"links\": final_links};\n",
    "}\n",
    "\n",
    "function get_dept_courses(dept, courses) {\n",
    "    var dept_courses = d3.values(courses)\n",
    "        .filter(d => { return d.department === dept; })\n",
    "        .map(d => { return d.courseID; });\n",
    "    \n",
    "    return dept_courses;\n",
    "}"
   ]
  },
  {
   "cell_type": "code",
   "execution_count": 4,
   "metadata": {
    "code_folding": [
     0,
     24
    ],
    "collapsed": true
   },
   "outputs": [],
   "source": [
    "function create_major_graph(course_list, courses) {\n",
    "    var final_nodes = new Set(),\n",
    "        final_links = new Set();\n",
    "    \n",
    "    course_list.forEach(d => {\n",
    "        // add ID to final so we can check legality of links later\n",
    "        final_nodes.add(d);\n",
    "        // Grab course's prereqs\n",
    "        var course =  courses[d];\n",
    "        \n",
    "        course.prereqs.forEach(p => {\n",
    "            var prereq_id = p.source;\n",
    "            if (final_nodes.has(prereq_id)) { final_links.add(p); }\n",
    "        });\n",
    "    });\n",
    "    \n",
    "    // map the courseIDs back to actual courses\n",
    "    final_nodes = Array.from(final_nodes).map(d => { return courses[d]; });\n",
    "    // Convert links too\n",
    "    final_links = Array.from(final_links);\n",
    "    \n",
    "    return {\"nodes\": final_nodes, \"links\": final_links};\n",
    "}\n",
    "\n",
    "function create_dept_graph(dept, courses) {\n",
    "    var dept_classes = get_dept_courses(dept, courses);\n",
    "    var dept_graph = create_major_graph(dept_classes, courses);\n",
    "    return dept_graph;\n",
    "}"
   ]
  },
  {
   "cell_type": "markdown",
   "metadata": {},
   "source": [
    "*Visualization*"
   ]
  },
  {
   "cell_type": "code",
   "execution_count": 27,
   "metadata": {
    "code_folding": [
     0
    ],
    "collapsed": true
   },
   "outputs": [],
   "source": [
    "function draw_chart(graph_orig) {\n",
    "    var graph = Object.assign(graph_orig);\n",
    "    \n",
    "    // sanity check\n",
    "    if (graph.links.length < 1 || graph.nodes.length < 1) {\n",
    "        console.log(\"No links, skipping.\");\n",
    "        return;\n",
    "    }\n",
    "    \n",
    "    var width = 960,\n",
    "        height = 320,\n",
    "        svg = svgDOM(width, height);\n",
    "    \n",
    "    var departments = graph.nodes\n",
    "        .map(d => { return d.department; })\n",
    "        .filter(function(value, index, self) { \n",
    "            return self.indexOf(value) === index;\n",
    "        });\n",
    "    var color_scale = d3.scaleOrdinal(d3.schemeCategory10)\n",
    "        .domain(departments);\n",
    "\n",
    "    var sankey = d3_sankey.sankey()\n",
    "        .nodeId(function(d) { return d.courseID; })\n",
    "        .nodeAlign(d3_sankey.sankeyCenter)\n",
    "        .nodeWidth(15)\n",
    "        .nodePadding(5)\n",
    "        .size([width, height]);\n",
    "    \n",
    "    sankey(graph);\n",
    "\n",
    "    var link = svg.append(\"g\")\n",
    "        .attr(\"class\", \"links\")\n",
    "        .attr(\"fill\", \"none\")\n",
    "        .attr(\"stroke\", \"#000\")\n",
    "        .attr(\"stroke-opacity\", 0.2)\n",
    "      .selectAll(\"path\");\n",
    "    var node = svg.append(\"g\")\n",
    "        .attr(\"class\", \"nodes\")\n",
    "        .attr(\"font-family\", \"sans-serif\")\n",
    "        .attr(\"font-size\", 10)\n",
    "      .selectAll(\"g\");\n",
    "\n",
    "    link = link\n",
    "        .data(graph.links)\n",
    "        .enter().append(\"path\")\n",
    "        .attr(\"d\", d3_sankey.sankeyLinkHorizontal())\n",
    "        .attr('class', 'link')\n",
    "        .attr(\"stroke-width\", function(d) { return Math.max(1, d.width); });\n",
    "    link.append(\"title\")\n",
    "        .text(function(d) { return d.source.name + \" → \" + d.target.name; });\n",
    "\n",
    "    node = node\n",
    "        .data(graph.nodes)\n",
    "        .enter().append(\"g\")\n",
    "        .filter(function(d) { return (d['targetLinks'].length > 0) || (d['sourceLinks'].length > 0); })\n",
    "        .attr('class', 'node');\n",
    "    node.append(\"rect\")\n",
    "        .attr('id', d => { return d.courseID; })\n",
    "        .attr('class', 'node')\n",
    "        .attr(\"x\", function(d) { return d.x0; })\n",
    "        .attr(\"y\", function(d) { return d.y0; })\n",
    "        .attr(\"height\", function(d) { return d.y1 - d.y0; })\n",
    "        .attr(\"width\", function(d) { return d.x1 - d.x0; })\n",
    "        .attr(\"fill\", function(d) { return color_scale(d.department); })\n",
    "        .attr(\"stroke\", \"#000\");\n",
    "    var course_names = node.append(\"text\")\n",
    "        .attr(\"x\", function(d) { return d.x0 - 6; })\n",
    "        .attr(\"y\", function(d) { return (d.y1 + d.y0) / 2; })\n",
    "        .attr(\"dy\", \"0.35em\")\n",
    "        .attr('class', 'courseName')\n",
    "        .attr(\"text-anchor\", \"end\")\n",
    "        .text(function(d) { return d.name; })\n",
    "      .filter(function(d) { return d.x0 < width / 2; })\n",
    "        .attr(\"x\", function(d) { return d.x1 + 6; })\n",
    "        .attr(\"text-anchor\", \"start\");\n",
    "    node.append(\"title\")\n",
    "        .text(function(d) { return d.name + \"\\n\" + d.department; });\n",
    "\n",
    "    //return svg;\n",
    "    return $$.svg(svg.node().outerHTML);\n",
    "}"
   ]
  },
  {
   "cell_type": "markdown",
   "metadata": {},
   "source": [
    "### Data and Test Vars"
   ]
  },
  {
   "cell_type": "code",
   "execution_count": 28,
   "metadata": {},
   "outputs": [],
   "source": [
    "var courses = read_json(f1);\n",
    "\n",
    "var algorithms = 'CS:3330';\n",
    "\n",
    "var algo_graph = create_course_graph(algorithms, courses);\n",
    "\n",
    "var algo_graph_extended = create_course_graph_extended(algorithms, courses);"
   ]
  },
  {
   "cell_type": "markdown",
   "metadata": {},
   "source": [
    "---\n",
    "\n",
    "\n",
    "***Single Courses***"
   ]
  },
  {
   "cell_type": "code",
   "execution_count": 29,
   "metadata": {},
   "outputs": [
    {
     "data": {
      "image/svg+xml": [
       "<svg xmlns=\"http://www.w3.org/2000/svg\" xmlns:xlink=\"http://www.w3.org/1999/xlink\" width=\"960\" height=\"320\"><g class=\"links\" fill=\"none\" stroke=\"#000\" stroke-opacity=\"0.2\"><path d=\"M15,38.1250000000001C480,38.1250000000001,480,45.624999999999986,945,45.624999999999986\" class=\"link\" stroke-width=\"76.25\"><title>Discrete Structures → Algorithms</title></path><path d=\"M15,119.37500000000006C480,119.37500000000006,480,121.87499999999999,945,121.87499999999999\" class=\"link\" stroke-width=\"76.25\"><title>Computer Science II: Data Structures → Algorithms</title></path><path d=\"M15,200.625C480,200.625,480,198.125,945,198.125\" class=\"link\" stroke-width=\"76.25\"><title>Engineer Math I Single Variable Calculus → Algorithms</title></path><path d=\"M15,281.875C480,281.875,480,274.375,945,274.375\" class=\"link\" stroke-width=\"76.25\"><title>Calculus I → Algorithms</title></path></g><g class=\"nodes\" font-family=\"sans-serif\" font-size=\"10\"><g class=\"node\"><rect id=\"CS:3330\" class=\"node\" x=\"945\" y=\"7.499999999999988\" height=\"305.00000000000006\" width=\"15\" fill=\"#1f77b4\" stroke=\"#000\"></rect><text x=\"939\" y=\"160.00000000000003\" dy=\"0.35em\" class=\"courseName\" text-anchor=\"end\">Algorithms</text><title>Algorithms\n",
       "CS</title></g><g class=\"node\"><rect id=\"CS:2210\" class=\"node\" x=\"0\" y=\"9.947598300641403e-14\" height=\"76.24999999999996\" width=\"15\" fill=\"#1f77b4\" stroke=\"#000\"></rect><text x=\"21\" y=\"38.12500000000008\" dy=\"0.35em\" class=\"courseName\" text-anchor=\"start\">Discrete Structures</text><title>Discrete Structures\n",
       "CS</title></g><g class=\"node\"><rect id=\"CS:2230\" class=\"node\" x=\"0\" y=\"81.25000000000006\" height=\"76.24999999999994\" width=\"15\" fill=\"#1f77b4\" stroke=\"#000\"></rect><text x=\"21\" y=\"119.37500000000003\" dy=\"0.35em\" class=\"courseName\" text-anchor=\"start\">Computer Science II: Data Structures</text><title>Computer Science II: Data Structures\n",
       "CS</title></g><g class=\"node\"><rect id=\"MATH:1550\" class=\"node\" x=\"0\" y=\"162.5\" height=\"76.25\" width=\"15\" fill=\"#ff7f0e\" stroke=\"#000\"></rect><text x=\"21\" y=\"200.625\" dy=\"0.35em\" class=\"courseName\" text-anchor=\"start\">Engineer Math I Single Variable Calculus</text><title>Engineer Math I Single Variable Calculus\n",
       "MATH</title></g><g class=\"node\"><rect id=\"MATH:1850\" class=\"node\" x=\"0\" y=\"243.75\" height=\"76.25\" width=\"15\" fill=\"#ff7f0e\" stroke=\"#000\"></rect><text x=\"21\" y=\"281.875\" dy=\"0.35em\" class=\"courseName\" text-anchor=\"start\">Calculus I</text><title>Calculus I\n",
       "MATH</title></g></g></svg>"
      ]
     },
     "execution_count": 29,
     "metadata": {},
     "output_type": "execute_result"
    }
   ],
   "source": [
    "draw_chart(algo_graph)"
   ]
  },
  {
   "cell_type": "code",
   "execution_count": 8,
   "metadata": {},
   "outputs": [
    {
     "data": {
      "image/svg+xml": [
       "<svg xmlns=\"http://www.w3.org/2000/svg\" xmlns:xlink=\"http://www.w3.org/1999/xlink\" width=\"960\" height=\"320\"><g class=\"links\" fill=\"none\" stroke=\"#000\" stroke-opacity=\"0.2\"><path d=\"M487.5,269.25C716.25,269.25,716.25,258.4457812442474,945,258.4457812442474\" class=\"link\" stroke-width=\"30.5\"><title>Discrete Structures → Algorithms</title></path><path d=\"M487.5,15.249999999999758C716.25,15.249999999999758,716.25,197.44578124424743,945,197.44578124424743\" class=\"link\" stroke-width=\"30.5\"><title>Engineer Math I Single Variable Calculus → Algorithms</title></path><path d=\"M487.5,304.75C716.25,304.75,716.25,288.9457812442474,945,288.9457812442474\" class=\"link\" stroke-width=\"30.5\"><title>Calculus I → Algorithms</title></path><path d=\"M487.5,203.25C716.25,203.25,716.25,227.94578124424743,945,227.94578124424743\" class=\"link\" stroke-width=\"30.5\"><title>Computer Science II: Data Structures → Algorithms</title></path><path d=\"M15,56.25000000000023C243.75,56.25000000000023,243.75,15.249999999999758,472.5,15.249999999999758\" class=\"link\" stroke-width=\"30.5\"><title>Calculus and Matrix Algebra for Business → Engineer Math I Single Variable Calculus</title></path><path d=\"M15,91.75000000000023C243.75,91.75000000000023,243.75,45.74999999999976,472.5,45.74999999999976\" class=\"link\" stroke-width=\"30.5\"><title>Elementary Functions → Engineer Math I Single Variable Calculus</title></path><path d=\"M15,127.25000000000028C243.75,127.25000000000028,243.75,76.24999999999976,472.5,76.24999999999976\" class=\"link\" stroke-width=\"30.5\"><title>Calculus for the Biological Sciences → Engineer Math I Single Variable Calculus</title></path><path d=\"M15,162.75000000000017C243.75,162.75000000000017,243.75,106.74999999999976,472.5,106.74999999999976\" class=\"link\" stroke-width=\"30.5\"><title>Trigonometry → Engineer Math I Single Variable Calculus</title></path><path d=\"M15,198.25000000000017C243.75,198.25000000000017,243.75,137.24999999999977,472.5,137.24999999999977\" class=\"link\" stroke-width=\"30.5\"><title>College Algebra → Engineer Math I Single Variable Calculus</title></path><path d=\"M15,233.75000000000017C243.75,233.75000000000017,243.75,167.74999999999977,472.5,167.74999999999977\" class=\"link\" stroke-width=\"30.5\"><title>Mathematics for Business → Engineer Math I Single Variable Calculus</title></path><path d=\"M15,269.2500000000001C243.75,269.2500000000001,243.75,203.25,472.5,203.25\" class=\"link\" stroke-width=\"30.5\"><title>Computer Science I: Fundamentals → Computer Science II: Data Structures</title></path><path d=\"M15,304.75000000000006C243.75,304.75000000000006,243.75,233.75,472.5,233.75\" class=\"link\" stroke-width=\"30.5\"><title>Computers in Engineering → Computer Science II: Data Structures</title></path></g><g class=\"nodes\" font-family=\"sans-serif\" font-size=\"10\"><g class=\"node\"><rect id=\"CS:3330\" class=\"node\" x=\"945\" y=\"182.19578124424743\" height=\"121.99999999999994\" width=\"15\" fill=\"#1f77b4\" stroke=\"#000\"></rect><text x=\"939\" y=\"243.1957812442474\" dy=\"0.35em\" class=\"courseName\" text-anchor=\"end\">Algorithms</text><title>Algorithms\n",
       "CS</title></g><g class=\"node\"><rect id=\"CS:2210\" class=\"node\" x=\"472.5\" y=\"254\" height=\"30.5\" width=\"15\" fill=\"#1f77b4\" stroke=\"#000\"></rect><text x=\"493.5\" y=\"269.25\" dy=\"0.35em\" class=\"courseName\" text-anchor=\"start\">Discrete Structures</text><title>Discrete Structures\n",
       "CS</title></g><g class=\"node\"><rect id=\"MATH:1550\" class=\"node\" x=\"472.5\" y=\"-2.4158453015843406e-13\" height=\"183.00000000000023\" width=\"15\" fill=\"#ff7f0e\" stroke=\"#000\"></rect><text x=\"493.5\" y=\"91.49999999999989\" dy=\"0.35em\" class=\"courseName\" text-anchor=\"start\">Engineer Math I Single Variable Calculus</text><title>Engineer Math I Single Variable Calculus\n",
       "MATH</title></g><g class=\"node\"><rect id=\"MATH:1850\" class=\"node\" x=\"472.5\" y=\"289.5\" height=\"30.5\" width=\"15\" fill=\"#ff7f0e\" stroke=\"#000\"></rect><text x=\"493.5\" y=\"304.75\" dy=\"0.35em\" class=\"courseName\" text-anchor=\"start\">Calculus I</text><title>Calculus I\n",
       "MATH</title></g><g class=\"node\"><rect id=\"CS:2230\" class=\"node\" x=\"472.5\" y=\"188\" height=\"61\" width=\"15\" fill=\"#1f77b4\" stroke=\"#000\"></rect><text x=\"493.5\" y=\"218.5\" dy=\"0.35em\" class=\"courseName\" text-anchor=\"start\">Computer Science II: Data Structures</text><title>Computer Science II: Data Structures\n",
       "CS</title></g><g class=\"node\"><rect id=\"MATH:1380\" class=\"node\" x=\"0\" y=\"41.00000000000023\" height=\"30.5\" width=\"15\" fill=\"#ff7f0e\" stroke=\"#000\"></rect><text x=\"21\" y=\"56.25000000000023\" dy=\"0.35em\" class=\"courseName\" text-anchor=\"start\">Calculus and Matrix Algebra for Business</text><title>Calculus and Matrix Algebra for Business\n",
       "MATH</title></g><g class=\"node\"><rect id=\"MATH:1020\" class=\"node\" x=\"0\" y=\"76.50000000000023\" height=\"30.500000000000057\" width=\"15\" fill=\"#ff7f0e\" stroke=\"#000\"></rect><text x=\"21\" y=\"91.75000000000026\" dy=\"0.35em\" class=\"courseName\" text-anchor=\"start\">Elementary Functions</text><title>Elementary Functions\n",
       "MATH</title></g><g class=\"node\"><rect id=\"MATH:1460\" class=\"node\" x=\"0\" y=\"112.00000000000028\" height=\"30.499999999999886\" width=\"15\" fill=\"#ff7f0e\" stroke=\"#000\"></rect><text x=\"21\" y=\"127.25000000000023\" dy=\"0.35em\" class=\"courseName\" text-anchor=\"start\">Calculus for the Biological Sciences</text><title>Calculus for the Biological Sciences\n",
       "MATH</title></g><g class=\"node\"><rect id=\"MATH:1010\" class=\"node\" x=\"0\" y=\"147.50000000000017\" height=\"30.5\" width=\"15\" fill=\"#ff7f0e\" stroke=\"#000\"></rect><text x=\"21\" y=\"162.75000000000017\" dy=\"0.35em\" class=\"courseName\" text-anchor=\"start\">Trigonometry</text><title>Trigonometry\n",
       "MATH</title></g><g class=\"node\"><rect id=\"MATH:1005\" class=\"node\" x=\"0\" y=\"183.00000000000017\" height=\"30.5\" width=\"15\" fill=\"#ff7f0e\" stroke=\"#000\"></rect><text x=\"21\" y=\"198.25000000000017\" dy=\"0.35em\" class=\"courseName\" text-anchor=\"start\">College Algebra</text><title>College Algebra\n",
       "MATH</title></g><g class=\"node\"><rect id=\"MATH:1340\" class=\"node\" x=\"0\" y=\"218.50000000000017\" height=\"30.499999999999943\" width=\"15\" fill=\"#ff7f0e\" stroke=\"#000\"></rect><text x=\"21\" y=\"233.75000000000014\" dy=\"0.35em\" class=\"courseName\" text-anchor=\"start\">Mathematics for Business</text><title>Mathematics for Business\n",
       "MATH</title></g><g class=\"node\"><rect id=\"CS:1210\" class=\"node\" x=\"0\" y=\"254.0000000000001\" height=\"30.499999999999943\" width=\"15\" fill=\"#1f77b4\" stroke=\"#000\"></rect><text x=\"21\" y=\"269.2500000000001\" dy=\"0.35em\" class=\"courseName\" text-anchor=\"start\">Computer Science I: Fundamentals</text><title>Computer Science I: Fundamentals\n",
       "CS</title></g><g class=\"node\"><rect id=\"ENGR:2730\" class=\"node\" x=\"0\" y=\"289.50000000000006\" height=\"30.499999999999943\" width=\"15\" fill=\"#2ca02c\" stroke=\"#000\"></rect><text x=\"21\" y=\"304.75\" dy=\"0.35em\" class=\"courseName\" text-anchor=\"start\">Computers in Engineering</text><title>Computers in Engineering\n",
       "ENGR</title></g></g></svg>"
      ]
     },
     "execution_count": 8,
     "metadata": {},
     "output_type": "execute_result"
    }
   ],
   "source": [
    "draw_chart(algo_graph_extended);"
   ]
  },
  {
   "cell_type": "markdown",
   "metadata": {},
   "source": [
    "***Departmental Courses***"
   ]
  },
  {
   "cell_type": "code",
   "execution_count": 9,
   "metadata": {},
   "outputs": [
    {
     "data": {
      "image/svg+xml": [
       "<svg xmlns=\"http://www.w3.org/2000/svg\" xmlns:xlink=\"http://www.w3.org/1999/xlink\" width=\"960\" height=\"320\"><g class=\"links\" fill=\"none\" stroke=\"#000\" stroke-opacity=\"0.2\"><path d=\"M15,19.19642857142823C165,19.19642857142823,165,19.054161349835596,315,19.054161349835596\" class=\"link\" stroke-width=\"8.392857142857142\"><title>Introduction to Computer Science → Programming for Informatics</title></path><path d=\"M330,79.37499999999996C480,79.37499999999996,480,63.86082772531151,630,63.86082772531151\" class=\"link\" stroke-width=\"8.392857142857142\"><title>Computer Science I: Fundamentals → Programming Practice</title></path><path d=\"M330,27.447018492692735C480,27.447018492692735,480,55.46797058245436,630,55.46797058245436\" class=\"link\" stroke-width=\"8.392857142857142\"><title>Programming for Informatics → Programming Practice</title></path><path d=\"M15,27.589285714285374C165,27.589285714285374,165,57.62558992126418,315,57.62558992126418\" class=\"link\" stroke-width=\"8.392857142857142\"><title>Introduction to Computer Science → Human-Computer Interaction</title></path><path d=\"M15,91.33928571428534C165,91.33928571428534,165,181.6964285714285,315,181.6964285714285\" class=\"link\" stroke-width=\"8.392857142857142\"><title>Discrete Structures → Computer Organization</title></path><path d=\"M15,188.6607142857139C165,188.6607142857139,165,190.08928571428564,315,190.08928571428564\" class=\"link\" stroke-width=\"8.392857142857142\"><title>Computer Science II: Data Structures → Computer Organization</title></path><path d=\"M15,108.12499999999962C165,108.12499999999962,165,211.8749999999999,315,211.8749999999999\" class=\"link\" stroke-width=\"8.392857142857142\"><title>Discrete Structures → Object-Oriented Software Development</title></path><path d=\"M15,205.44642857142819C165,205.44642857142819,165,220.26785714285703,315,220.26785714285703\" class=\"link\" stroke-width=\"8.392857142857142\"><title>Computer Science II: Data Structures → Object-Oriented Software Development</title></path><path d=\"M330,87.7678571428571C480,87.7678571428571,480,85.6465420110258,630,85.6465420110258\" class=\"link\" stroke-width=\"8.392857142857142\"><title>Computer Science I: Fundamentals → Programming Languages and Tools                                            Programming with Java</title></path><path d=\"M330,35.83987563554988C480,35.83987563554988,480,77.25368486816866,630,77.25368486816866\" class=\"link\" stroke-width=\"8.392857142857142\"><title>Programming for Informatics → Programming Languages and Tools                                            Programming with Java</title></path><path d=\"M15,82.9464285714282C322.5,82.9464285714282,322.5,167.89055239388196,630,167.89055239388196\" class=\"link\" stroke-width=\"8.392857142857142\"><title>Discrete Structures → Operating Systems</title></path><path d=\"M15,180.26785714285677C322.5,180.26785714285677,322.5,176.2834095367391,630,176.2834095367391\" class=\"link\" stroke-width=\"8.392857142857142\"><title>Computer Science II: Data Structures → Operating Systems</title></path><path d=\"M330,190.08928571428564C480,190.08928571428564,480,184.67626667959624,630,184.67626667959624\" class=\"link\" stroke-width=\"8.392857142857142\"><title>Computer Organization → Operating Systems</title></path><path d=\"M330,198.48214285714278C480,198.48214285714278,480,228.24769525102485,630,228.24769525102485\" class=\"link\" stroke-width=\"8.392857142857142\"><title>Computer Organization → Intro to Networks and Their Applications</title></path><path d=\"M15,74.55357142857106C322.5,74.55357142857106,322.5,129.31912382245338,630,129.31912382245338\" class=\"link\" stroke-width=\"8.392857142857142\"><title>Discrete Structures → Programming Language Concepts</title></path><path d=\"M15,171.87499999999963C322.5,171.87499999999963,322.5,137.71198096531054,630,137.71198096531054\" class=\"link\" stroke-width=\"8.392857142857142\"><title>Computer Science II: Data Structures → Programming Language Concepts</title></path><path d=\"M330,211.8749999999999C480,211.8749999999999,480,154.49769525102482,630,154.49769525102482\" class=\"link\" stroke-width=\"8.392857142857142\"><title>Object-Oriented Software Development → Programming Language Concepts</title></path><path d=\"M330,181.6964285714285C480,181.6964285714285,480,146.10483810816768,630,146.10483810816768\" class=\"link\" stroke-width=\"8.392857142857142\"><title>Computer Organization → Programming Language Concepts</title></path><path d=\"M330,57.62558992126418C480,57.62558992126418,480,32.22029763750235,630,32.22029763750235\" class=\"link\" stroke-width=\"8.392857142857142\"><title>Human-Computer Interaction → Informatics Project</title></path><path d=\"M330,19.054161349835596C480,19.054161349835596,480,23.82744049464521,630,23.82744049464521\" class=\"link\" stroke-width=\"8.392857142857142\"><title>Programming for Informatics → Informatics Project</title></path><path d=\"M330,96.16071428571423C480,96.16071428571423,480,107.43225629674005,630,107.43225629674005\" class=\"link\" stroke-width=\"8.392857142857142\"><title>Computer Science I: Fundamentals → Topics in Computer Science I                                            JavaScript and JQuery</title></path><path d=\"M330,44.23273277840702C480,44.23273277840702,480,99.03939915388291,630,99.03939915388291\" class=\"link\" stroke-width=\"8.392857142857142\"><title>Programming for Informatics → Topics in Computer Science I                                            JavaScript and JQuery</title></path><path d=\"M15,252.41071428571394C165,252.41071428571394,165,302.41071428571445,315,302.41071428571445\" class=\"link\" stroke-width=\"8.392857142857142\"><title>Algorithms → Logic in Computer Science</title></path><path d=\"M15,124.9107142857139C165,124.9107142857139,165,272.23214285714306,315,272.23214285714306\" class=\"link\" stroke-width=\"8.392857142857142\"><title>Discrete Structures → Database Systems</title></path><path d=\"M15,244.0178571428568C165,244.0178571428568,165,289.0178571428574,315,289.0178571428574\" class=\"link\" stroke-width=\"8.392857142857142\"><title>Algorithms → Database Systems</title></path><path d=\"M15,222.23214285714246C165,222.23214285714246,165,280.6250000000002,315,280.6250000000002\" class=\"link\" stroke-width=\"8.392857142857142\"><title>Computer Science II: Data Structures → Database Systems</title></path><path d=\"M15,99.73214285714248C322.5,99.73214285714248,322.5,198.0691238224534,630,198.0691238224534\" class=\"link\" stroke-width=\"8.392857142857142\"><title>Discrete Structures → Mobile Computing</title></path><path d=\"M330,220.26785714285703C480,220.26785714285703,480,214.85483810816768,630,214.85483810816768\" class=\"link\" stroke-width=\"8.392857142857142\"><title>Object-Oriented Software Development → Mobile Computing</title></path><path d=\"M15,197.05357142857105C322.5,197.05357142857105,322.5,206.46198096531054,630,206.46198096531054\" class=\"link\" stroke-width=\"8.392857142857142\"><title>Computer Science II: Data Structures → Mobile Computing</title></path><path d=\"M15,116.51785714285676C165,116.51785714285676,165,250.44642857142838,315,250.44642857142838\" class=\"link\" stroke-width=\"8.392857142857142\"><title>Discrete Structures → High Performance and Parallel Computing</title></path><path d=\"M15,213.83928571428532C165,213.83928571428532,165,258.8392857142855,315,258.8392857142855\" class=\"link\" stroke-width=\"8.392857142857142\"><title>Computer Science II: Data Structures → High Performance and Parallel Computing</title></path><path d=\"M15,40.982142857142506C165,40.982142857142506,165,109.55357142857137,315,109.55357142857137\" class=\"link\" stroke-width=\"8.392857142857142\"><title>Discrete Structures → Topics in Computer Science II                                            Peer-to-Peer and Social Networks</title></path><path d=\"M15,138.30357142857108C165,138.30357142857108,165,143.12499999999994,315,143.12499999999994\" class=\"link\" stroke-width=\"8.392857142857142\"><title>Computer Science II: Data Structures → Topics in Computer Science II                                            Peer-to-Peer and Social Networks</title></path><path d=\"M15,49.374999999999645C165,49.374999999999645,165,117.94642857142851,315,117.94642857142851\" class=\"link\" stroke-width=\"8.392857142857142\"><title>Discrete Structures → Topics in Computer Science II                                            Peer-to-Peer and Social Networks</title></path><path d=\"M15,146.6964285714282C165,146.6964285714282,165,151.51785714285708,315,151.51785714285708\" class=\"link\" stroke-width=\"8.392857142857142\"><title>Computer Science II: Data Structures → Topics in Computer Science II                                            Peer-to-Peer and Social Networks</title></path><path d=\"M15,57.76785714285678C165,57.76785714285678,165,126.33928571428565,315,126.33928571428565\" class=\"link\" stroke-width=\"8.392857142857142\"><title>Discrete Structures → Topics in Computer Science II                                            Peer-to-Peer and Social Networks</title></path><path d=\"M15,155.08928571428535C165,155.08928571428535,165,159.91071428571422,315,159.91071428571422\" class=\"link\" stroke-width=\"8.392857142857142\"><title>Computer Science II: Data Structures → Topics in Computer Science II                                            Peer-to-Peer and Social Networks</title></path><path d=\"M15,66.16071428571392C165,66.16071428571392,165,134.7321428571428,315,134.7321428571428\" class=\"link\" stroke-width=\"8.392857142857142\"><title>Discrete Structures → Topics in Computer Science II                                            Peer-to-Peer and Social Networks</title></path><path d=\"M15,163.4821428571425C165,163.4821428571425,165,168.30357142857136,315,168.30357142857136\" class=\"link\" stroke-width=\"8.392857142857142\"><title>Computer Science II: Data Structures → Topics in Computer Science II                                            Peer-to-Peer and Social Networks</title></path><path d=\"M15,260.80357142857105C165,260.80357142857105,165,315.80357142857144,315,315.80357142857144\" class=\"link\" stroke-width=\"8.392857142857142\"><title>Algorithms → Limits of Computation</title></path><path d=\"M645,167.89055239388196C795,167.89055239388196,795,196.0506757159019,945,196.0506757159019\" class=\"link\" stroke-width=\"8.392857142857142\"><title>Operating Systems → Distributed Systems and Algorithms</title></path><path d=\"M15,235.62499999999966C480,235.62499999999966,480,204.44353285875903,945,204.44353285875903\" class=\"link\" stroke-width=\"8.392857142857142\"><title>Algorithms → Distributed Systems and Algorithms</title></path><path d=\"M330,228.66071428571416C480,228.66071428571416,480,241.64055239388202,630,241.64055239388202\" class=\"link\" stroke-width=\"8.392857142857142\"><title>Object-Oriented Software Development → Fundamentals of Software Engineering</title></path><path d=\"M330,237.0535714285713C480,237.0535714285713,480,255.03340953673936,630,255.03340953673936\" class=\"link\" stroke-width=\"8.392857142857142\"><title>Object-Oriented Software Development → Formal Methods in Software Engineering</title></path></g><g class=\"nodes\" font-family=\"sans-serif\" font-size=\"10\"><g></g><g></g><g></g><g class=\"node\"><rect id=\"CS:1110\" class=\"node\" x=\"0\" y=\"14.999999999999659\" height=\"16.785714285714278\" width=\"15\" fill=\"#1f77b4\" stroke=\"#000\"></rect><text x=\"21\" y=\"23.392857142856798\" dy=\"0.35em\" class=\"courseName\" text-anchor=\"start\">Introduction to Computer Science</text><title>Introduction to Computer Science\n",
       "CS</title></g><g class=\"node\"><rect id=\"CS:1210\" class=\"node\" x=\"315\" y=\"75.17857142857139\" height=\"25.178571428571416\" width=\"15\" fill=\"#1f77b4\" stroke=\"#000\"></rect><text x=\"336\" y=\"87.7678571428571\" dy=\"0.35em\" class=\"courseName\" text-anchor=\"start\">Computer Science I: Fundamentals</text><title>Computer Science I: Fundamentals\n",
       "CS</title></g><g class=\"node\"><rect id=\"CS:2110\" class=\"node\" x=\"315\" y=\"14.857732778407023\" height=\"33.571428571428584\" width=\"15\" fill=\"#1f77b4\" stroke=\"#000\"></rect><text x=\"336\" y=\"31.643447064121318\" dy=\"0.35em\" class=\"courseName\" text-anchor=\"start\">Programming for Informatics</text><title>Programming for Informatics\n",
       "CS</title></g><g class=\"node\"><rect id=\"CS:2111\" class=\"node\" x=\"630\" y=\"51.271542011025794\" height=\"16.7857142857143\" width=\"15\" fill=\"#1f77b4\" stroke=\"#000\"></rect><text x=\"624\" y=\"59.66439915388294\" dy=\"0.35em\" class=\"courseName\" text-anchor=\"end\">Programming Practice</text><title>Programming Practice\n",
       "CS</title></g><g class=\"node\"><rect id=\"CS:2210\" class=\"node\" x=\"0\" y=\"36.78571428571394\" height=\"92.32142857142856\" width=\"15\" fill=\"#1f77b4\" stroke=\"#000\"></rect><text x=\"21\" y=\"82.94642857142821\" dy=\"0.35em\" class=\"courseName\" text-anchor=\"start\">Discrete Structures</text><title>Discrete Structures\n",
       "CS</title></g><g class=\"node\"><rect id=\"CS:2230\" class=\"node\" x=\"0\" y=\"134.1071428571425\" height=\"92.32142857142858\" width=\"15\" fill=\"#1f77b4\" stroke=\"#000\"></rect><text x=\"21\" y=\"180.26785714285677\" dy=\"0.35em\" class=\"courseName\" text-anchor=\"start\">Computer Science II: Data Structures</text><title>Computer Science II: Data Structures\n",
       "CS</title></g><g class=\"node\"><rect id=\"CS:2520\" class=\"node\" x=\"315\" y=\"53.42916134983561\" height=\"8.392857142857146\" width=\"15\" fill=\"#1f77b4\" stroke=\"#000\"></rect><text x=\"336\" y=\"57.62558992126418\" dy=\"0.35em\" class=\"courseName\" text-anchor=\"start\">Human-Computer Interaction</text><title>Human-Computer Interaction\n",
       "CS</title></g><g class=\"node\"><rect id=\"CS:2630\" class=\"node\" x=\"315\" y=\"177.49999999999991\" height=\"25.178571428571388\" width=\"15\" fill=\"#1f77b4\" stroke=\"#000\"></rect><text x=\"336\" y=\"190.0892857142856\" dy=\"0.35em\" class=\"courseName\" text-anchor=\"start\">Computer Organization</text><title>Computer Organization\n",
       "CS</title></g><g class=\"node\"><rect id=\"CS:2820\" class=\"node\" x=\"315\" y=\"207.6785714285713\" height=\"33.5714285714285\" width=\"15\" fill=\"#1f77b4\" stroke=\"#000\"></rect><text x=\"336\" y=\"224.46428571428555\" dy=\"0.35em\" class=\"courseName\" text-anchor=\"start\">Object-Oriented Software Development</text><title>Object-Oriented Software Development\n",
       "CS</title></g><g class=\"node\"><rect id=\"CS:3210\" class=\"node\" x=\"630\" y=\"73.05725629674009\" height=\"16.78571428571425\" width=\"15\" fill=\"#1f77b4\" stroke=\"#000\"></rect><text x=\"624\" y=\"81.45011343959722\" dy=\"0.35em\" class=\"courseName\" text-anchor=\"end\">Programming Languages and Tools                                            Programming with Java</text><title>Programming Languages and Tools                                            Programming with Java\n",
       "CS</title></g><g class=\"node\"><rect id=\"CS:3330\" class=\"node\" x=\"0\" y=\"231.42857142857108\" height=\"33.571428571428925\" width=\"15\" fill=\"#1f77b4\" stroke=\"#000\"></rect><text x=\"21\" y=\"248.21428571428555\" dy=\"0.35em\" class=\"courseName\" text-anchor=\"start\">Algorithms</text><title>Algorithms\n",
       "CS</title></g><g class=\"node\"><rect id=\"CS:3620\" class=\"node\" x=\"630\" y=\"163.69412382245338\" height=\"25.178571428571445\" width=\"15\" fill=\"#1f77b4\" stroke=\"#000\"></rect><text x=\"624\" y=\"176.2834095367391\" dy=\"0.35em\" class=\"courseName\" text-anchor=\"end\">Operating Systems</text><title>Operating Systems\n",
       "CS</title></g><g class=\"node\"><rect id=\"CS:3640\" class=\"node\" x=\"630\" y=\"224.05126667959627\" height=\"8.392857142857167\" width=\"15\" fill=\"#1f77b4\" stroke=\"#000\"></rect><text x=\"624\" y=\"228.24769525102485\" dy=\"0.35em\" class=\"courseName\" text-anchor=\"end\">Intro to Networks and Their Applications</text><title>Intro to Networks and Their Applications\n",
       "CS</title></g><g></g><g class=\"node\"><rect id=\"CS:3820\" class=\"node\" x=\"630\" y=\"125.12269525102481\" height=\"33.57142857142857\" width=\"15\" fill=\"#1f77b4\" stroke=\"#000\"></rect><text x=\"624\" y=\"141.9084095367391\" dy=\"0.35em\" class=\"courseName\" text-anchor=\"end\">Programming Language Concepts</text><title>Programming Language Concepts\n",
       "CS</title></g><g class=\"node\"><rect id=\"CS:3910\" class=\"node\" x=\"630\" y=\"19.631011923216636\" height=\"16.785714285714295\" width=\"15\" fill=\"#1f77b4\" stroke=\"#000\"></rect><text x=\"624\" y=\"28.023869066073786\" dy=\"0.35em\" class=\"courseName\" text-anchor=\"end\">Informatics Project</text><title>Informatics Project\n",
       "CS</title></g><g class=\"node\"><rect id=\"CS:3980\" class=\"node\" x=\"630\" y=\"94.84297058245434\" height=\"16.78571428571425\" width=\"15\" fill=\"#1f77b4\" stroke=\"#000\"></rect><text x=\"624\" y=\"103.23582772531147\" dy=\"0.35em\" class=\"courseName\" text-anchor=\"end\">Topics in Computer Science I                                            JavaScript and JQuery</text><title>Topics in Computer Science I                                            JavaScript and JQuery\n",
       "CS</title></g><g></g><g class=\"node\"><rect id=\"CS:4350\" class=\"node\" x=\"315\" y=\"298.2142857142859\" height=\"8.392857142856997\" width=\"15\" fill=\"#1f77b4\" stroke=\"#000\"></rect><text x=\"336\" y=\"302.4107142857144\" dy=\"0.35em\" class=\"courseName\" text-anchor=\"start\">Logic in Computer Science</text><title>Logic in Computer Science\n",
       "CS</title></g><g class=\"node\"><rect id=\"CS:4400\" class=\"node\" x=\"315\" y=\"268.0357142857145\" height=\"25.178571428571388\" width=\"15\" fill=\"#1f77b4\" stroke=\"#000\"></rect><text x=\"336\" y=\"280.6250000000002\" dy=\"0.35em\" class=\"courseName\" text-anchor=\"start\">Database Systems</text><title>Database Systems\n",
       "CS</title></g><g></g><g class=\"node\"><rect id=\"CS:4630\" class=\"node\" x=\"630\" y=\"193.87269525102482\" height=\"25.178571428571445\" width=\"15\" fill=\"#1f77b4\" stroke=\"#000\"></rect><text x=\"624\" y=\"206.46198096531054\" dy=\"0.35em\" class=\"courseName\" text-anchor=\"end\">Mobile Computing</text><title>Mobile Computing\n",
       "CS</title></g><g class=\"node\"><rect id=\"CS:4700\" class=\"node\" x=\"315\" y=\"246.2499999999998\" height=\"16.785714285714704\" width=\"15\" fill=\"#1f77b4\" stroke=\"#000\"></rect><text x=\"336\" y=\"254.64285714285717\" dy=\"0.35em\" class=\"courseName\" text-anchor=\"start\">High Performance and Parallel Computing</text><title>High Performance and Parallel Computing\n",
       "CS</title></g><g class=\"node\"><rect id=\"CS:4980\" class=\"node\" x=\"315\" y=\"105.3571428571428\" height=\"67.14285714285711\" width=\"15\" fill=\"#1f77b4\" stroke=\"#000\"></rect><text x=\"336\" y=\"138.92857142857136\" dy=\"0.35em\" class=\"courseName\" text-anchor=\"start\">Topics in Computer Science II                                            Peer-to-Peer and Social Networks</text><title>Topics in Computer Science II                                            Peer-to-Peer and Social Networks\n",
       "CS</title></g><g></g><g></g><g class=\"node\"><rect id=\"CS:5340\" class=\"node\" x=\"315\" y=\"311.6071428571429\" height=\"8.39285714285711\" width=\"15\" fill=\"#1f77b4\" stroke=\"#000\"></rect><text x=\"336\" y=\"315.80357142857144\" dy=\"0.35em\" class=\"courseName\" text-anchor=\"start\">Limits of Computation</text><title>Limits of Computation\n",
       "CS</title></g><g class=\"node\"><rect id=\"CS:5620\" class=\"node\" x=\"945\" y=\"191.8542471444733\" height=\"16.785714285714278\" width=\"15\" fill=\"#1f77b4\" stroke=\"#000\"></rect><text x=\"939\" y=\"200.24710428733044\" dy=\"0.35em\" class=\"courseName\" text-anchor=\"end\">Distributed Systems and Algorithms</text><title>Distributed Systems and Algorithms\n",
       "CS</title></g><g></g><g class=\"node\"><rect id=\"CS:5800\" class=\"node\" x=\"630\" y=\"237.44412382245343\" height=\"8.392857142857338\" width=\"15\" fill=\"#1f77b4\" stroke=\"#000\"></rect><text x=\"624\" y=\"241.6405523938821\" dy=\"0.35em\" class=\"courseName\" text-anchor=\"end\">Fundamentals of Software Engineering</text><title>Fundamentals of Software Engineering\n",
       "CS</title></g><g class=\"node\"><rect id=\"CS:5810\" class=\"node\" x=\"630\" y=\"250.83698096531077\" height=\"8.39285714285711\" width=\"15\" fill=\"#1f77b4\" stroke=\"#000\"></rect><text x=\"624\" y=\"255.03340953673933\" dy=\"0.35em\" class=\"courseName\" text-anchor=\"end\">Formal Methods in Software Engineering</text><title>Formal Methods in Software Engineering\n",
       "CS</title></g><g></g><g></g><g></g><g></g><g></g></g></svg>"
      ]
     },
     "execution_count": 9,
     "metadata": {},
     "output_type": "execute_result"
    }
   ],
   "source": [
    "// reusing courses from above calls ^^\n",
    "var cs_courses = create_dept_graph('CS', courses);\n",
    "draw_chart(cs_courses);"
   ]
  },
  {
   "cell_type": "code",
   "execution_count": 20,
   "metadata": {},
   "outputs": [
    {
     "data": {
      "image/svg+xml": [
       "<svg xmlns=\"http://www.w3.org/2000/svg\" xmlns:xlink=\"http://www.w3.org/1999/xlink\" width=\"960\" height=\"320\"><g class=\"links\" fill=\"none\" stroke=\"#000\" stroke-opacity=\"0.2\"><path d=\"M15,289.5964260809544C125.625,289.5964260809544,125.625,271.5517241379309,236.25,271.5517241379309\" class=\"link\" stroke-width=\"9.655172413793103\"><title>Introduction to Computer Science → Programming for Informatics</title></path><path d=\"M15,230.55405708988226C243.75,230.55405708988226,243.75,232.586206896552,472.5,232.586206896552\" class=\"link\" stroke-width=\"9.655172413793103\"><title>Computer Science I: Fundamentals → Programming Practice</title></path><path d=\"M251.25,271.5517241379309C361.875,271.5517241379309,361.875,242.2413793103451,472.5,242.2413793103451\" class=\"link\" stroke-width=\"9.655172413793103\"><title>Programming for Informatics → Programming Practice</title></path><path d=\"M15,220.89888467608915C125.625,220.89888467608915,125.625,150.6896551724136,236.25,150.6896551724136\" class=\"link\" stroke-width=\"9.655172413793103\"><title>Computer Science I: Fundamentals → Computer Science II: Data Structures</title></path><path d=\"M15,299.2515984947475C125.625,299.2515984947475,125.625,315.17241379310343,236.25,315.17241379310343\" class=\"link\" stroke-width=\"9.655172413793103\"><title>Introduction to Computer Science → Human-Computer Interaction</title></path><path d=\"M251.25,68.44827586206883C361.875,68.44827586206883,361.875,87.0689655172417,472.5,87.0689655172417\" class=\"link\" stroke-width=\"9.655172413793103\"><title>Discrete Structures → Computer Organization</title></path><path d=\"M251.25,189.31034482758605C361.875,189.31034482758605,361.875,96.7241379310348,472.5,96.7241379310348\" class=\"link\" stroke-width=\"9.655172413793103\"><title>Computer Science II: Data Structures → Computer Organization</title></path><path d=\"M251.25,107.06896551724127C361.875,107.06896551724127,361.875,164.65517241379342,472.5,164.65517241379342\" class=\"link\" stroke-width=\"9.655172413793103\"><title>Discrete Structures → Object-Oriented Software Development</title></path><path d=\"M251.25,227.9310344827585C361.875,227.9310344827585,361.875,174.31034482758653,472.5,174.31034482758653\" class=\"link\" stroke-width=\"9.655172413793103\"><title>Computer Science II: Data Structures → Object-Oriented Software Development</title></path><path d=\"M15,240.20922950367537C243.75,240.20922950367537,243.75,256.8965517241382,472.5,256.8965517241382\" class=\"link\" stroke-width=\"9.655172413793103\"><title>Computer Science I: Fundamentals → Programming Languages and Tools                                            Programming with Java</title></path><path d=\"M251.25,281.20689655172396C361.875,281.20689655172396,361.875,266.5517241379313,472.5,266.5517241379313\" class=\"link\" stroke-width=\"9.655172413793103\"><title>Programming for Informatics → Programming Languages and Tools                                            Programming with Java</title></path><path d=\"M251.25,87.75862068965505C361.875,87.75862068965505,361.875,121.034482758621,472.5,121.034482758621\" class=\"link\" stroke-width=\"9.655172413793103\"><title>Discrete Structures → Algorithms</title></path><path d=\"M251.25,208.62068965517227C361.875,208.62068965517227,361.875,130.6896551724141,472.5,130.6896551724141\" class=\"link\" stroke-width=\"9.655172413793103\"><title>Computer Science II: Data Structures → Algorithms</title></path><path d=\"M251.25,97.41379310344816C480,97.41379310344816,480,154.65517241379325,708.75,154.65517241379325\" class=\"link\" stroke-width=\"9.655172413793103\"><title>Discrete Structures → Operating Systems</title></path><path d=\"M251.25,218.27586206896538C480,218.27586206896538,480,173.96551724137947,708.75,173.96551724137947\" class=\"link\" stroke-width=\"9.655172413793103\"><title>Computer Science II: Data Structures → Operating Systems</title></path><path d=\"M487.5,96.7241379310348C598.125,96.7241379310348,598.125,164.31034482758636,708.75,164.31034482758636\" class=\"link\" stroke-width=\"9.655172413793103\"><title>Computer Organization → Operating Systems</title></path><path d=\"M487.5,106.37931034482791C598.125,106.37931034482791,598.125,256.551724137931,708.75,256.551724137931\" class=\"link\" stroke-width=\"9.655172413793103\"><title>Computer Organization → Intro to Networks and Their Applications</title></path><path d=\"M251.25,78.10344827586194C480,78.10344827586194,480,111.03448275862088,708.75,111.03448275862088\" class=\"link\" stroke-width=\"9.655172413793103\"><title>Discrete Structures → Programming Language Concepts</title></path><path d=\"M251.25,198.96551724137916C480,198.96551724137916,480,130.3448275862071,708.75,130.3448275862071\" class=\"link\" stroke-width=\"9.655172413793103\"><title>Computer Science II: Data Structures → Programming Language Concepts</title></path><path d=\"M487.5,164.65517241379342C598.125,164.65517241379342,598.125,140.0000000000002,708.75,140.0000000000002\" class=\"link\" stroke-width=\"9.655172413793103\"><title>Object-Oriented Software Development → Programming Language Concepts</title></path><path d=\"M487.5,87.0689655172417C598.125,87.0689655172417,598.125,120.68965517241399,708.75,120.68965517241399\" class=\"link\" stroke-width=\"9.655172413793103\"><title>Computer Organization → Programming Language Concepts</title></path><path d=\"M251.25,315.17241379310343C361.875,315.17241379310343,361.875,315.1724137931035,472.5,315.1724137931035\" class=\"link\" stroke-width=\"9.655172413793103\"><title>Human-Computer Interaction → Informatics Project</title></path><path d=\"M251.25,300.5172413793101C361.875,300.5172413793101,361.875,305.5172413793104,472.5,305.5172413793104\" class=\"link\" stroke-width=\"9.655172413793103\"><title>Programming for Informatics → Informatics Project</title></path><path d=\"M15,249.86440191746848C243.75,249.86440191746848,243.75,281.20689655172424,472.5,281.20689655172424\" class=\"link\" stroke-width=\"9.655172413793103\"><title>Computer Science I: Fundamentals → Topics in Computer Science I                                            JavaScript and JQuery</title></path><path d=\"M251.25,290.86206896551704C361.875,290.86206896551704,361.875,290.8620689655173,472.5,290.8620689655173\" class=\"link\" stroke-width=\"9.655172413793103\"><title>Programming for Informatics → Topics in Computer Science I                                            JavaScript and JQuery</title></path><path d=\"M487.5,140.3448275862072C598.125,140.3448275862072,598.125,271.20689655172407,708.75,271.20689655172407\" class=\"link\" stroke-width=\"9.655172413793103\"><title>Algorithms → Logic in Computer Science</title></path><path d=\"M251.25,116.72413793103438C480,116.72413793103438,480,188.62068965517253,708.75,188.62068965517253\" class=\"link\" stroke-width=\"9.655172413793103\"><title>Discrete Structures → Database Systems</title></path><path d=\"M487.5,130.6896551724141C598.125,130.6896551724141,598.125,198.27586206896564,708.75,198.27586206896564\" class=\"link\" stroke-width=\"9.655172413793103\"><title>Algorithms → Database Systems</title></path><path d=\"M251.25,237.5862068965516C480,237.5862068965516,480,207.93103448275875,708.75,207.93103448275875\" class=\"link\" stroke-width=\"9.655172413793103\"><title>Computer Science II: Data Structures → Database Systems</title></path><path d=\"M251.25,136.03448275862058C480,136.03448275862058,480,222.58620689655183,708.75,222.58620689655183\" class=\"link\" stroke-width=\"9.655172413793103\"><title>Discrete Structures → Mobile Computing</title></path><path d=\"M487.5,174.31034482758653C598.125,174.31034482758653,598.125,241.89655172413805,708.75,241.89655172413805\" class=\"link\" stroke-width=\"9.655172413793103\"><title>Object-Oriented Software Development → Mobile Computing</title></path><path d=\"M251.25,256.89655172413785C480,256.89655172413785,480,232.24137931034494,708.75,232.24137931034494\" class=\"link\" stroke-width=\"9.655172413793103\"><title>Computer Science II: Data Structures → Mobile Computing</title></path><path d=\"M251.25,126.37931034482749C361.875,126.37931034482749,361.875,208.27586206896584,472.5,208.27586206896584\" class=\"link\" stroke-width=\"9.655172413793103\"><title>Discrete Structures → High Performance and Parallel Computing</title></path><path d=\"M251.25,247.2413793103447C361.875,247.2413793103447,361.875,217.93103448275895,472.5,217.93103448275895\" class=\"link\" stroke-width=\"9.655172413793103\"><title>Computer Science II: Data Structures → High Performance and Parallel Computing</title></path><path d=\"M251.25,29.82758620689641C361.875,29.82758620689641,361.875,4.8275862068967506,472.5,4.8275862068967506\" class=\"link\" stroke-width=\"9.655172413793103\"><title>Discrete Structures → Topics in Computer Science II                                            Peer-to-Peer and Social Networks</title></path><path d=\"M251.25,150.6896551724136C361.875,150.6896551724136,361.875,43.44827586206917,472.5,43.44827586206917\" class=\"link\" stroke-width=\"9.655172413793103\"><title>Computer Science II: Data Structures → Topics in Computer Science II                                            Peer-to-Peer and Social Networks</title></path><path d=\"M251.25,39.48275862068951C361.875,39.48275862068951,361.875,14.482758620689854,472.5,14.482758620689854\" class=\"link\" stroke-width=\"9.655172413793103\"><title>Discrete Structures → Topics in Computer Science II                                            Peer-to-Peer and Social Networks</title></path><path d=\"M251.25,160.34482758620672C361.875,160.34482758620672,361.875,53.10344827586226,472.5,53.10344827586226\" class=\"link\" stroke-width=\"9.655172413793103\"><title>Computer Science II: Data Structures → Topics in Computer Science II                                            Peer-to-Peer and Social Networks</title></path><path d=\"M251.25,49.13793103448262C361.875,49.13793103448262,361.875,24.137931034482957,472.5,24.137931034482957\" class=\"link\" stroke-width=\"9.655172413793103\"><title>Discrete Structures → Topics in Computer Science II                                            Peer-to-Peer and Social Networks</title></path><path d=\"M251.25,169.99999999999983C361.875,169.99999999999983,361.875,62.75862068965537,472.5,62.75862068965537\" class=\"link\" stroke-width=\"9.655172413793103\"><title>Computer Science II: Data Structures → Topics in Computer Science II                                            Peer-to-Peer and Social Networks</title></path><path d=\"M251.25,58.793103448275716C361.875,58.793103448275716,361.875,33.79310344827606,472.5,33.79310344827606\" class=\"link\" stroke-width=\"9.655172413793103\"><title>Discrete Structures → Topics in Computer Science II                                            Peer-to-Peer and Social Networks</title></path><path d=\"M251.25,179.65517241379294C361.875,179.65517241379294,361.875,72.41379310344847,472.5,72.41379310344847\" class=\"link\" stroke-width=\"9.655172413793103\"><title>Computer Science II: Data Structures → Topics in Computer Science II                                            Peer-to-Peer and Social Networks</title></path><path d=\"M487.5,150.0000000000003C598.125,150.0000000000003,598.125,285.86206896551715,708.75,285.86206896551715\" class=\"link\" stroke-width=\"9.655172413793103\"><title>Algorithms → Limits of Computation</title></path><path d=\"M723.75,154.65517241379325C834.375,154.65517241379325,834.375,156.41013181020566,945,156.41013181020566\" class=\"link\" stroke-width=\"9.655172413793103\"><title>Operating Systems → Distributed Systems and Algorithms</title></path><path d=\"M487.5,121.034482758621C716.25,121.034482758621,716.25,146.75495939641254,945,146.75495939641254\" class=\"link\" stroke-width=\"9.655172413793103\"><title>Algorithms → Distributed Systems and Algorithms</title></path><path d=\"M487.5,183.96551724137964C598.125,183.96551724137964,598.125,300.5172413793103,708.75,300.5172413793103\" class=\"link\" stroke-width=\"9.655172413793103\"><title>Object-Oriented Software Development → Fundamentals of Software Engineering</title></path><path d=\"M487.5,193.62068965517275C598.125,193.62068965517275,598.125,315.17241379310343,708.75,315.17241379310343\" class=\"link\" stroke-width=\"9.655172413793103\"><title>Object-Oriented Software Development → Formal Methods in Software Engineering</title></path></g><g class=\"nodes\" font-family=\"sans-serif\" font-size=\"10\"><g></g><g></g><g></g><g class=\"node\"><rect id=\"CS:1110\" class=\"node\" x=\"0\" y=\"284.76883987405785\" height=\"19.310344827586164\" width=\"15\" fill=\"#1f77b4\" stroke=\"#000\"></rect><text x=\"21\" y=\"294.4240122878509\" dy=\"0.35em\" class=\"courseName\" text-anchor=\"start\">Introduction to Computer Science</text><title>Introduction to Computer Science\n",
       "CS</title></g><g class=\"node\"><rect id=\"CS:1210\" class=\"node\" x=\"0\" y=\"216.0712984691926\" height=\"38.62068965517244\" width=\"15\" fill=\"#1f77b4\" stroke=\"#000\"></rect><text x=\"21\" y=\"235.38164329677883\" dy=\"0.35em\" class=\"courseName\" text-anchor=\"start\">Computer Science I: Fundamentals</text><title>Computer Science I: Fundamentals\n",
       "CS</title></g><g class=\"node\"><rect id=\"CS:2110\" class=\"node\" x=\"236.25\" y=\"266.7241379310343\" height=\"38.620689655172555\" width=\"15\" fill=\"#1f77b4\" stroke=\"#000\"></rect><text x=\"257.25\" y=\"286.0344827586206\" dy=\"0.35em\" class=\"courseName\" text-anchor=\"start\">Programming for Informatics</text><title>Programming for Informatics\n",
       "CS</title></g><g class=\"node\"><rect id=\"CS:2111\" class=\"node\" x=\"472.5\" y=\"227.75862068965546\" height=\"19.310344827586164\" width=\"15\" fill=\"#1f77b4\" stroke=\"#000\"></rect><text x=\"493.5\" y=\"237.41379310344854\" dy=\"0.35em\" class=\"courseName\" text-anchor=\"start\">Programming Practice</text><title>Programming Practice\n",
       "CS</title></g><g class=\"node\"><rect id=\"CS:2210\" class=\"node\" x=\"236.25\" y=\"24.999999999999858\" height=\"115.86206896551721\" width=\"15\" fill=\"#1f77b4\" stroke=\"#000\"></rect><text x=\"257.25\" y=\"82.93103448275846\" dy=\"0.35em\" class=\"courseName\" text-anchor=\"start\">Discrete Structures</text><title>Discrete Structures\n",
       "CS</title></g><g class=\"node\"><rect id=\"CS:2230\" class=\"node\" x=\"236.25\" y=\"145.86206896551707\" height=\"115.86206896551724\" width=\"15\" fill=\"#1f77b4\" stroke=\"#000\"></rect><text x=\"257.25\" y=\"203.7931034482757\" dy=\"0.35em\" class=\"courseName\" text-anchor=\"start\">Computer Science II: Data Structures</text><title>Computer Science II: Data Structures\n",
       "CS</title></g><g class=\"node\"><rect id=\"CS:2520\" class=\"node\" x=\"236.25\" y=\"310.34482758620686\" height=\"9.655172413793139\" width=\"15\" fill=\"#1f77b4\" stroke=\"#000\"></rect><text x=\"257.25\" y=\"315.17241379310343\" dy=\"0.35em\" class=\"courseName\" text-anchor=\"start\">Human-Computer Interaction</text><title>Human-Computer Interaction\n",
       "CS</title></g><g class=\"node\"><rect id=\"CS:2630\" class=\"node\" x=\"472.5\" y=\"82.24137931034514\" height=\"28.965517241379303\" width=\"15\" fill=\"#1f77b4\" stroke=\"#000\"></rect><text x=\"493.5\" y=\"96.72413793103479\" dy=\"0.35em\" class=\"courseName\" text-anchor=\"start\">Computer Organization</text><title>Computer Organization\n",
       "CS</title></g><g class=\"node\"><rect id=\"CS:2820\" class=\"node\" x=\"472.5\" y=\"159.82758620689688\" height=\"38.62068965517241\" width=\"15\" fill=\"#1f77b4\" stroke=\"#000\"></rect><text x=\"493.5\" y=\"179.13793103448307\" dy=\"0.35em\" class=\"courseName\" text-anchor=\"start\">Object-Oriented Software Development</text><title>Object-Oriented Software Development\n",
       "CS</title></g><g class=\"node\"><rect id=\"CS:3210\" class=\"node\" x=\"472.5\" y=\"252.06896551724162\" height=\"19.31034482758605\" width=\"15\" fill=\"#1f77b4\" stroke=\"#000\"></rect><text x=\"493.5\" y=\"261.72413793103465\" dy=\"0.35em\" class=\"courseName\" text-anchor=\"start\">Programming Languages and Tools                                            Programming with Java</text><title>Programming Languages and Tools                                            Programming with Java\n",
       "CS</title></g><g class=\"node\"><rect id=\"CS:3330\" class=\"node\" x=\"472.5\" y=\"116.20689655172444\" height=\"38.62068965517244\" width=\"15\" fill=\"#1f77b4\" stroke=\"#000\"></rect><text x=\"493.5\" y=\"135.51724137931066\" dy=\"0.35em\" class=\"courseName\" text-anchor=\"start\">Algorithms</text><title>Algorithms\n",
       "CS</title></g><g class=\"node\"><rect id=\"CS:3620\" class=\"node\" x=\"708.75\" y=\"149.8275862068967\" height=\"28.965517241379274\" width=\"15\" fill=\"#1f77b4\" stroke=\"#000\"></rect><text x=\"702.75\" y=\"164.31034482758633\" dy=\"0.35em\" class=\"courseName\" text-anchor=\"end\">Operating Systems</text><title>Operating Systems\n",
       "CS</title></g><g class=\"node\"><rect id=\"CS:3640\" class=\"node\" x=\"708.75\" y=\"251.72413793103442\" height=\"9.655172413793082\" width=\"15\" fill=\"#1f77b4\" stroke=\"#000\"></rect><text x=\"702.75\" y=\"256.55172413793093\" dy=\"0.35em\" class=\"courseName\" text-anchor=\"end\">Intro to Networks and Their Applications</text><title>Intro to Networks and Their Applications\n",
       "CS</title></g><g></g><g class=\"node\"><rect id=\"CS:3820\" class=\"node\" x=\"708.75\" y=\"106.20689655172433\" height=\"38.620689655172384\" width=\"15\" fill=\"#1f77b4\" stroke=\"#000\"></rect><text x=\"702.75\" y=\"125.51724137931052\" dy=\"0.35em\" class=\"courseName\" text-anchor=\"end\">Programming Language Concepts</text><title>Programming Language Concepts\n",
       "CS</title></g><g class=\"node\"><rect id=\"CS:3910\" class=\"node\" x=\"472.5\" y=\"300.68965517241384\" height=\"19.310344827586164\" width=\"15\" fill=\"#1f77b4\" stroke=\"#000\"></rect><text x=\"493.5\" y=\"310.3448275862069\" dy=\"0.35em\" class=\"courseName\" text-anchor=\"start\">Informatics Project</text><title>Informatics Project\n",
       "CS</title></g><g class=\"node\"><rect id=\"CS:3980\" class=\"node\" x=\"472.5\" y=\"276.3793103448277\" height=\"19.310344827586164\" width=\"15\" fill=\"#1f77b4\" stroke=\"#000\"></rect><text x=\"493.5\" y=\"286.03448275862075\" dy=\"0.35em\" class=\"courseName\" text-anchor=\"start\">Topics in Computer Science I                                            JavaScript and JQuery</text><title>Topics in Computer Science I                                            JavaScript and JQuery\n",
       "CS</title></g><g></g><g class=\"node\"><rect id=\"CS:4350\" class=\"node\" x=\"708.75\" y=\"266.3793103448275\" height=\"9.655172413793082\" width=\"15\" fill=\"#1f77b4\" stroke=\"#000\"></rect><text x=\"702.75\" y=\"271.20689655172407\" dy=\"0.35em\" class=\"courseName\" text-anchor=\"end\">Logic in Computer Science</text><title>Logic in Computer Science\n",
       "CS</title></g><g class=\"node\"><rect id=\"CS:4400\" class=\"node\" x=\"708.75\" y=\"183.79310344827599\" height=\"28.965517241379303\" width=\"15\" fill=\"#1f77b4\" stroke=\"#000\"></rect><text x=\"702.75\" y=\"198.27586206896564\" dy=\"0.35em\" class=\"courseName\" text-anchor=\"end\">Database Systems</text><title>Database Systems\n",
       "CS</title></g><g></g><g class=\"node\"><rect id=\"CS:4630\" class=\"node\" x=\"708.75\" y=\"217.7586206896553\" height=\"28.965517241379132\" width=\"15\" fill=\"#1f77b4\" stroke=\"#000\"></rect><text x=\"702.75\" y=\"232.24137931034485\" dy=\"0.35em\" class=\"courseName\" text-anchor=\"end\">Mobile Computing</text><title>Mobile Computing\n",
       "CS</title></g><g class=\"node\"><rect id=\"CS:4700\" class=\"node\" x=\"472.5\" y=\"203.4482758620693\" height=\"19.310344827586164\" width=\"15\" fill=\"#1f77b4\" stroke=\"#000\"></rect><text x=\"493.5\" y=\"213.10344827586238\" dy=\"0.35em\" class=\"courseName\" text-anchor=\"start\">High Performance and Parallel Computing</text><title>High Performance and Parallel Computing\n",
       "CS</title></g><g class=\"node\"><rect id=\"CS:4980\" class=\"node\" x=\"472.5\" y=\"1.9895196601282805e-13\" height=\"77.24137931034494\" width=\"15\" fill=\"#1f77b4\" stroke=\"#000\"></rect><text x=\"493.5\" y=\"38.62068965517267\" dy=\"0.35em\" class=\"courseName\" text-anchor=\"start\">Topics in Computer Science II                                            Peer-to-Peer and Social Networks</text><title>Topics in Computer Science II                                            Peer-to-Peer and Social Networks\n",
       "CS</title></g><g></g><g></g><g class=\"node\"><rect id=\"CS:5340\" class=\"node\" x=\"708.75\" y=\"281.0344827586206\" height=\"9.655172413793139\" width=\"15\" fill=\"#1f77b4\" stroke=\"#000\"></rect><text x=\"702.75\" y=\"285.86206896551715\" dy=\"0.35em\" class=\"courseName\" text-anchor=\"end\">Limits of Computation</text><title>Limits of Computation\n",
       "CS</title></g><g class=\"node\"><rect id=\"CS:5620\" class=\"node\" x=\"945\" y=\"141.927373189516\" height=\"19.31034482758622\" width=\"15\" fill=\"#1f77b4\" stroke=\"#000\"></rect><text x=\"939\" y=\"151.58254560330911\" dy=\"0.35em\" class=\"courseName\" text-anchor=\"end\">Distributed Systems and Algorithms</text><title>Distributed Systems and Algorithms\n",
       "CS</title></g><g></g><g class=\"node\"><rect id=\"CS:5800\" class=\"node\" x=\"708.75\" y=\"295.6896551724137\" height=\"9.655172413793139\" width=\"15\" fill=\"#1f77b4\" stroke=\"#000\"></rect><text x=\"702.75\" y=\"300.5172413793103\" dy=\"0.35em\" class=\"courseName\" text-anchor=\"end\">Fundamentals of Software Engineering</text><title>Fundamentals of Software Engineering\n",
       "CS</title></g><g class=\"node\"><rect id=\"CS:5810\" class=\"node\" x=\"708.75\" y=\"310.34482758620686\" height=\"9.655172413793139\" width=\"15\" fill=\"#1f77b4\" stroke=\"#000\"></rect><text x=\"702.75\" y=\"315.17241379310343\" dy=\"0.35em\" class=\"courseName\" text-anchor=\"end\">Formal Methods in Software Engineering</text><title>Formal Methods in Software Engineering\n",
       "CS</title></g><g></g><g></g><g></g><g></g><g></g></g></svg>"
      ]
     },
     "execution_count": 20,
     "metadata": {},
     "output_type": "execute_result"
    }
   ],
   "source": [
    "// using a fresh file read\n",
    "var cs_courses = create_dept_graph('CS', courses);\n",
    "draw_chart(cs_courses);"
   ]
  },
  {
   "cell_type": "code",
   "execution_count": 10,
   "metadata": {},
   "outputs": [
    {
     "data": {
      "image/svg+xml": [
       "<svg xmlns=\"http://www.w3.org/2000/svg\" xmlns:xlink=\"http://www.w3.org/1999/xlink\" width=\"960\" height=\"320\"><g class=\"links\" fill=\"none\" stroke=\"#000\" stroke-opacity=\"0.2\"><path d=\"M15,194.0467331126717C165,194.0467331126717,165,221.02040816326522,315,221.02040816326522\" class=\"link\" stroke-width=\"5.1020408163265305\"><title>Elementary Psychology → Introduction to Clinical Psychology</title></path><path d=\"M15,204.25081474532476C165,204.25081474532476,165,271.8367346938775,315,271.8367346938775\" class=\"link\" stroke-width=\"5.1020408163265305\"><title>Elementary Psychology → Introduction to Developmental Science</title></path><path d=\"M15,199.14877392899822C165,199.14877392899822,165,246.4285714285714,315,246.4285714285714\" class=\"link\" stroke-width=\"5.1020408163265305\"><title>Elementary Psychology → Introduction to Social Psychology</title></path><path d=\"M15,214.45489637797783C165,214.45489637797783,165,302.2448979591837,315,302.2448979591837\" class=\"link\" stroke-width=\"5.1020408163265305\"><title>Elementary Psychology → Introduction to Cognitive Psychology</title></path><path d=\"M15,188.94469229634515C165,188.94469229634515,165,124.18367346938764,315,124.18367346938764\" class=\"link\" stroke-width=\"5.1020408163265305\"><title>Elementary Psychology → Introduction to Behavioral Neuroscience</title></path><path d=\"M15,209.3528555616513C165,209.3528555616513,165,292.1428571428571,315,292.1428571428571\" class=\"link\" stroke-width=\"5.1020408163265305\"><title>Elementary Psychology → Rsrch Methods &amp; Data Analysis in Psych I</title></path><path d=\"M330,292.1428571428571C480,292.1428571428571,480,167.16643501975273,630,167.16643501975273\" class=\"link\" stroke-width=\"5.1020408163265305\"><title>Rsrch Methods &amp; Data Analysis in Psych I → Rsrch Methds &amp; Data Analysis in Psych II</title></path><path d=\"M15,219.55693719430437C165,219.55693719430437,165,317.44897959183675,315,317.44897959183675\" class=\"link\" stroke-width=\"5.1020408163265305\"><title>Elementary Psychology → Abnormal Psychology: Health Professions</title></path><path d=\"M330,246.4285714285714C637.5,246.4285714285714,637.5,63.673469387755055,945,63.673469387755055\" class=\"link\" stroke-width=\"5.1020408163265305\"><title>Introduction to Social Psychology → Health Psychology</title></path><path d=\"M330,221.02040816326522C637.5,221.02040816326522,637.5,58.57142857142853,945,58.57142857142853\" class=\"link\" stroke-width=\"5.1020408163265305\"><title>Introduction to Clinical Psychology → Health Psychology</title></path><path d=\"M645,187.57459828505887C795,187.57459828505887,795,53.469387755102,945,53.469387755102\" class=\"link\" stroke-width=\"5.1020408163265305\"><title>Rsrch Methds &amp; Data Analysis in Psych II → Health Psychology</title></path><path d=\"M330,144.59183673469377C637.5,144.59183673469377,637.5,48.36734693877547,945,48.36734693877547\" class=\"link\" stroke-width=\"5.1020408163265305\"><title>Introduction to Behavioral Neuroscience → Health Psychology</title></path><path d=\"M330,251.53061224489792C637.5,251.53061224489792,637.5,83.97959183673468,945,83.97959183673468\" class=\"link\" stroke-width=\"5.1020408163265305\"><title>Introduction to Social Psychology → Social and Personality Development</title></path><path d=\"M330,271.8367346938775C637.5,271.8367346938775,637.5,89.08163265306122,945,89.08163265306122\" class=\"link\" stroke-width=\"5.1020408163265305\"><title>Introduction to Developmental Science → Social and Personality Development</title></path><path d=\"M645,192.6766391013854C795,192.6766391013854,795,78.87755102040815,945,78.87755102040815\" class=\"link\" stroke-width=\"5.1020408163265305\"><title>Rsrch Methds &amp; Data Analysis in Psych II → Social and Personality Development</title></path><path d=\"M330,149.6938775510203C637.5,149.6938775510203,637.5,73.77551020408161,945,73.77551020408161\" class=\"link\" stroke-width=\"5.1020408163265305\"><title>Introduction to Behavioral Neuroscience → Social and Personality Development</title></path><path d=\"M645,213.08480236669155C795,213.08480236669155,795,165.20408163265316,945,165.20408163265316\" class=\"link\" stroke-width=\"5.1020408163265305\"><title>Rsrch Methds &amp; Data Analysis in Psych II → Psychology of Learning</title></path><path d=\"M330,302.2448979591837C637.5,302.2448979591837,637.5,170.3061224489797,945,170.3061224489797\" class=\"link\" stroke-width=\"5.1020408163265305\"><title>Introduction to Cognitive Psychology → Psychology of Learning</title></path><path d=\"M330,170.10204081632645C637.5,170.10204081632645,637.5,160.10204081632662,945,160.10204081632662\" class=\"link\" stroke-width=\"5.1020408163265305\"><title>Introduction to Behavioral Neuroscience → Psychology of Learning</title></path><path d=\"M645,243.69704726465076C795,243.69704726465076,795,287.0408163265306,945,287.0408163265306\" class=\"link\" stroke-width=\"5.1020408163265305\"><title>Rsrch Methds &amp; Data Analysis in Psych II → Psychopharmacology</title></path><path d=\"M330,200.71428571428567C637.5,200.71428571428567,637.5,281.9387755102041,945,281.9387755102041\" class=\"link\" stroke-width=\"5.1020408163265305\"><title>Introduction to Behavioral Neuroscience → Psychopharmacology</title></path><path d=\"M645,248.7990880809773C795,248.7990880809773,795,302.24489795918373,945,302.24489795918373\" class=\"link\" stroke-width=\"5.1020408163265305\"><title>Rsrch Methds &amp; Data Analysis in Psych II → Neuroscience of Learning and Memory</title></path><path d=\"M330,205.8163265306122C637.5,205.8163265306122,637.5,297.1428571428572,945,297.1428571428572\" class=\"link\" stroke-width=\"5.1020408163265305\"><title>Introduction to Behavioral Neuroscience → Neuroscience of Learning and Memory</title></path><path d=\"M645,197.77867991771194C795,197.77867991771194,795,104.28571428571423,945,104.28571428571423\" class=\"link\" stroke-width=\"5.1020408163265305\"><title>Rsrch Methds &amp; Data Analysis in Psych II → Abnormal Psychology</title></path><path d=\"M330,226.12244897959175C637.5,226.12244897959175,637.5,109.38775510204077,945,109.38775510204077\" class=\"link\" stroke-width=\"5.1020408163265305\"><title>Introduction to Clinical Psychology → Abnormal Psychology</title></path><path d=\"M330,154.79591836734684C637.5,154.79591836734684,637.5,99.1836734693877,945,99.1836734693877\" class=\"link\" stroke-width=\"5.1020408163265305\"><title>Introduction to Behavioral Neuroscience → Abnormal Psychology</title></path><path d=\"M645,202.88072073403848C795,202.88072073403848,795,124.59183673469393,945,124.59183673469393\" class=\"link\" stroke-width=\"5.1020408163265305\"><title>Rsrch Methds &amp; Data Analysis in Psych II → Childhood Psychopathology</title></path><path d=\"M330,231.2244897959183C637.5,231.2244897959183,637.5,129.69387755102045,945,129.69387755102045\" class=\"link\" stroke-width=\"5.1020408163265305\"><title>Introduction to Clinical Psychology → Childhood Psychopathology</title></path><path d=\"M330,159.89795918367338C637.5,159.89795918367338,637.5,119.48979591836739,945,119.48979591836739\" class=\"link\" stroke-width=\"5.1020408163265305\"><title>Introduction to Behavioral Neuroscience → Childhood Psychopathology</title></path><path d=\"M645,207.982761550365C795,207.982761550365,795,144.89795918367352,945,144.89795918367352\" class=\"link\" stroke-width=\"5.1020408163265305\"><title>Rsrch Methds &amp; Data Analysis in Psych II → Behavior Modification</title></path><path d=\"M330,236.32653061224482C637.5,236.32653061224482,637.5,150.00000000000006,945,150.00000000000006\" class=\"link\" stroke-width=\"5.1020408163265305\"><title>Introduction to Clinical Psychology → Behavior Modification</title></path><path d=\"M330,164.99999999999991C637.5,164.99999999999991,637.5,139.79591836734699,945,139.79591836734699\" class=\"link\" stroke-width=\"5.1020408163265305\"><title>Introduction to Behavioral Neuroscience → Behavior Modification</title></path><path d=\"M645,218.18684318301808C795,218.18684318301808,795,185.51020408163274,945,185.51020408163274\" class=\"link\" stroke-width=\"5.1020408163265305\"><title>Rsrch Methds &amp; Data Analysis in Psych II → Cognitive Development of Children</title></path><path d=\"M330,276.938775510204C637.5,276.938775510204,637.5,190.61224489795927,945,190.61224489795927\" class=\"link\" stroke-width=\"5.1020408163265305\"><title>Introduction to Developmental Science → Cognitive Development of Children</title></path><path d=\"M330,175.204081632653C637.5,175.204081632653,637.5,180.4081632653062,945,180.4081632653062\" class=\"link\" stroke-width=\"5.1020408163265305\"><title>Introduction to Behavioral Neuroscience → Cognitive Development of Children</title></path><path d=\"M645,223.28888399934462C795,223.28888399934462,795,205.81632653061232,945,205.81632653061232\" class=\"link\" stroke-width=\"5.1020408163265305\"><title>Rsrch Methds &amp; Data Analysis in Psych II → Infant Development</title></path><path d=\"M330,282.0408163265305C637.5,282.0408163265305,637.5,210.91836734693885,945,210.91836734693885\" class=\"link\" stroke-width=\"5.1020408163265305\"><title>Introduction to Developmental Science → Infant Development</title></path><path d=\"M330,180.30612244897952C637.5,180.30612244897952,637.5,200.71428571428578,945,200.71428571428578\" class=\"link\" stroke-width=\"5.1020408163265305\"><title>Introduction to Behavioral Neuroscience → Infant Development</title></path><path d=\"M330,256.63265306122446C637.5,256.63265306122446,637.5,231.22448979591843,945,231.22448979591843\" class=\"link\" stroke-width=\"5.1020408163265305\"><title>Introduction to Social Psychology → Psychology of Gender</title></path><path d=\"M645,228.39092481567116C795,228.39092481567116,795,226.1224489795919,945,226.1224489795919\" class=\"link\" stroke-width=\"5.1020408163265305\"><title>Rsrch Methds &amp; Data Analysis in Psych II → Psychology of Gender</title></path><path d=\"M330,185.40816326530606C637.5,185.40816326530606,637.5,221.02040816326536,945,221.02040816326536\" class=\"link\" stroke-width=\"5.1020408163265305\"><title>Introduction to Behavioral Neuroscience → Psychology of Gender</title></path><path d=\"M330,261.73469387755097C637.5,261.73469387755097,637.5,251.530612244898,945,251.530612244898\" class=\"link\" stroke-width=\"5.1020408163265305\"><title>Introduction to Social Psychology → Judgment and Decision Making</title></path><path d=\"M645,233.4929656319977C795,233.4929656319977,795,246.42857142857147,945,246.42857142857147\" class=\"link\" stroke-width=\"5.1020408163265305\"><title>Rsrch Methds &amp; Data Analysis in Psych II → Judgment and Decision Making</title></path><path d=\"M330,190.5102040816326C637.5,190.5102040816326,637.5,241.32653061224494,945,241.32653061224494\" class=\"link\" stroke-width=\"5.1020408163265305\"><title>Introduction to Behavioral Neuroscience → Judgment and Decision Making</title></path><path d=\"M645,238.59500644832423C795,238.59500644832423,795,266.734693877551,945,266.734693877551\" class=\"link\" stroke-width=\"5.1020408163265305\"><title>Rsrch Methds &amp; Data Analysis in Psych II → Language Processes</title></path><path d=\"M330,307.3469387755102C637.5,307.3469387755102,637.5,271.83673469387753,945,271.83673469387753\" class=\"link\" stroke-width=\"5.1020408163265305\"><title>Introduction to Cognitive Psychology → Language Processes</title></path><path d=\"M330,195.61224489795913C637.5,195.61224489795913,637.5,261.6326530612245,945,261.6326530612245\" class=\"link\" stroke-width=\"5.1020408163265305\"><title>Introduction to Behavioral Neuroscience → Language Processes</title></path><path d=\"M645,253.90112889730383C795,253.90112889730383,795,317.44897959183675,945,317.44897959183675\" class=\"link\" stroke-width=\"5.1020408163265305\"><title>Rsrch Methds &amp; Data Analysis in Psych II → Laboratory in Psychology                                            Visual Perception</title></path><path d=\"M330,210.91836734693874C637.5,210.91836734693874,637.5,312.34693877551024,945,312.34693877551024\" class=\"link\" stroke-width=\"5.1020408163265305\"><title>Introduction to Behavioral Neuroscience → Laboratory in Psychology                                            Visual Perception</title></path><path d=\"M645,167.16643501975273C795,167.16643501975273,795,22.959183673469358,945,22.959183673469358\" class=\"link\" stroke-width=\"5.1020408163265305\"><title>Rsrch Methds &amp; Data Analysis in Psych II → Psychology Seminar                                            Stereotyping and Prejudice</title></path><path d=\"M330,124.18367346938764C637.5,124.18367346938764,637.5,2.551020408163237,945,2.551020408163237\" class=\"link\" stroke-width=\"5.1020408163265305\"><title>Introduction to Behavioral Neuroscience → Psychology Seminar                                            Stereotyping and Prejudice</title></path><path d=\"M645,172.26847583607926C795,172.26847583607926,795,28.061224489795887,945,28.061224489795887\" class=\"link\" stroke-width=\"5.1020408163265305\"><title>Rsrch Methds &amp; Data Analysis in Psych II → Psychology Seminar                                            Stereotyping and Prejudice</title></path><path d=\"M330,129.28571428571416C637.5,129.28571428571416,637.5,7.653061224489767,945,7.653061224489767\" class=\"link\" stroke-width=\"5.1020408163265305\"><title>Introduction to Behavioral Neuroscience → Psychology Seminar                                            Stereotyping and Prejudice</title></path><path d=\"M645,177.3705166524058C795,177.3705166524058,795,33.16326530612242,945,33.16326530612242\" class=\"link\" stroke-width=\"5.1020408163265305\"><title>Rsrch Methds &amp; Data Analysis in Psych II → Psychology Seminar                                            Stereotyping and Prejudice</title></path><path d=\"M330,134.3877551020407C637.5,134.3877551020407,637.5,12.755102040816297,945,12.755102040816297\" class=\"link\" stroke-width=\"5.1020408163265305\"><title>Introduction to Behavioral Neuroscience → Psychology Seminar                                            Stereotyping and Prejudice</title></path><path d=\"M645,182.47255746873233C795,182.47255746873233,795,38.26530612244895,945,38.26530612244895\" class=\"link\" stroke-width=\"5.1020408163265305\"><title>Rsrch Methds &amp; Data Analysis in Psych II → Psychology Seminar                                            Stereotyping and Prejudice</title></path><path d=\"M330,139.48979591836724C637.5,139.48979591836724,637.5,17.85714285714283,945,17.85714285714283\" class=\"link\" stroke-width=\"5.1020408163265305\"><title>Introduction to Behavioral Neuroscience → Psychology Seminar                                            Stereotyping and Prejudice</title></path></g><g class=\"nodes\" font-family=\"sans-serif\" font-size=\"10\"><g class=\"node\"><rect id=\"PSY:1001\" class=\"node\" x=\"0\" y=\"186.3936718881819\" height=\"35.71428571428572\" width=\"15\" fill=\"#1f77b4\" stroke=\"#000\"></rect><text x=\"21\" y=\"204.25081474532476\" dy=\"0.35em\" class=\"courseName\" text-anchor=\"start\">Elementary Psychology</text><title>Elementary Psychology\n",
       "PSY</title></g><g></g><g class=\"node\"><rect id=\"PSY:2301\" class=\"node\" x=\"315\" y=\"218.46938775510196\" height=\"20.40816326530617\" width=\"15\" fill=\"#1f77b4\" stroke=\"#000\"></rect><text x=\"336\" y=\"228.67346938775506\" dy=\"0.35em\" class=\"courseName\" text-anchor=\"start\">Introduction to Clinical Psychology</text><title>Introduction to Clinical Psychology\n",
       "PSY</title></g><g class=\"node\"><rect id=\"PSY:2401\" class=\"node\" x=\"315\" y=\"269.2857142857142\" height=\"15.306122448979636\" width=\"15\" fill=\"#1f77b4\" stroke=\"#000\"></rect><text x=\"336\" y=\"276.93877551020404\" dy=\"0.35em\" class=\"courseName\" text-anchor=\"start\">Introduction to Developmental Science</text><title>Introduction to Developmental Science\n",
       "PSY</title></g><g class=\"node\"><rect id=\"PSY:2501\" class=\"node\" x=\"315\" y=\"243.87755102040813\" height=\"20.408163265306086\" width=\"15\" fill=\"#1f77b4\" stroke=\"#000\"></rect><text x=\"336\" y=\"254.08163265306118\" dy=\"0.35em\" class=\"courseName\" text-anchor=\"start\">Introduction to Social Psychology</text><title>Introduction to Social Psychology\n",
       "PSY</title></g><g class=\"node\"><rect id=\"PSY:2601\" class=\"node\" x=\"315\" y=\"299.6938775510204\" height=\"10.204081632653072\" width=\"15\" fill=\"#1f77b4\" stroke=\"#000\"></rect><text x=\"336\" y=\"304.795918367347\" dy=\"0.35em\" class=\"courseName\" text-anchor=\"start\">Introduction to Cognitive Psychology</text><title>Introduction to Cognitive Psychology\n",
       "PSY</title></g><g class=\"node\"><rect id=\"PSY:2701\" class=\"node\" x=\"315\" y=\"121.63265306122437\" height=\"91.83673469387759\" width=\"15\" fill=\"#1f77b4\" stroke=\"#000\"></rect><text x=\"336\" y=\"167.55102040816317\" dy=\"0.35em\" class=\"courseName\" text-anchor=\"start\">Introduction to Behavioral Neuroscience</text><title>Introduction to Behavioral Neuroscience\n",
       "PSY</title></g><g class=\"node\"><rect id=\"PSY:2811\" class=\"node\" x=\"315\" y=\"289.59183673469386\" height=\"5.102040816326564\" width=\"15\" fill=\"#1f77b4\" stroke=\"#000\"></rect><text x=\"336\" y=\"292.1428571428571\" dy=\"0.35em\" class=\"courseName\" text-anchor=\"start\">Rsrch Methods &amp; Data Analysis in Psych I</text><title>Rsrch Methods &amp; Data Analysis in Psych I\n",
       "PSY</title></g><g class=\"node\"><rect id=\"PSY:2812\" class=\"node\" x=\"630\" y=\"164.61541461158947\" height=\"91.83673469387753\" width=\"15\" fill=\"#1f77b4\" stroke=\"#000\"></rect><text x=\"624\" y=\"210.53378195852824\" dy=\"0.35em\" class=\"courseName\" text-anchor=\"end\">Rsrch Methds &amp; Data Analysis in Psych II</text><title>Rsrch Methds &amp; Data Analysis in Psych II\n",
       "PSY</title></g><g class=\"node\"><rect id=\"PSY:2930\" class=\"node\" x=\"315\" y=\"314.8979591836735\" height=\"5.102040816326507\" width=\"15\" fill=\"#1f77b4\" stroke=\"#000\"></rect><text x=\"336\" y=\"317.44897959183675\" dy=\"0.35em\" class=\"courseName\" text-anchor=\"start\">Abnormal Psychology: Health Professions</text><title>Abnormal Psychology: Health Professions\n",
       "PSY</title></g><g class=\"node\"><rect id=\"PSY:3010\" class=\"node\" x=\"945\" y=\"45.8163265306122\" height=\"20.408163265306143\" width=\"15\" fill=\"#1f77b4\" stroke=\"#000\"></rect><text x=\"939\" y=\"56.02040816326527\" dy=\"0.35em\" class=\"courseName\" text-anchor=\"end\">Health Psychology</text><title>Health Psychology\n",
       "PSY</title></g><g class=\"node\"><rect id=\"PSY:3030\" class=\"node\" x=\"945\" y=\"71.22448979591834\" height=\"20.408163265306086\" width=\"15\" fill=\"#1f77b4\" stroke=\"#000\"></rect><text x=\"939\" y=\"81.42857142857139\" dy=\"0.35em\" class=\"courseName\" text-anchor=\"end\">Social and Personality Development</text><title>Social and Personality Development\n",
       "PSY</title></g><g class=\"node\"><rect id=\"PSY:3040\" class=\"node\" x=\"945\" y=\"157.55102040816337\" height=\"15.306122448979579\" width=\"15\" fill=\"#1f77b4\" stroke=\"#000\"></rect><text x=\"939\" y=\"165.20408163265316\" dy=\"0.35em\" class=\"courseName\" text-anchor=\"end\">Psychology of Learning</text><title>Psychology of Learning\n",
       "PSY</title></g><g class=\"node\"><rect id=\"PSY:3230\" class=\"node\" x=\"945\" y=\"279.38775510204084\" height=\"10.204081632653129\" width=\"15\" fill=\"#1f77b4\" stroke=\"#000\"></rect><text x=\"939\" y=\"284.4897959183674\" dy=\"0.35em\" class=\"courseName\" text-anchor=\"end\">Psychopharmacology</text><title>Psychopharmacology\n",
       "PSY</title></g><g class=\"node\"><rect id=\"PSY:3250\" class=\"node\" x=\"945\" y=\"294.59183673469397\" height=\"10.204081632653015\" width=\"15\" fill=\"#1f77b4\" stroke=\"#000\"></rect><text x=\"939\" y=\"299.6938775510205\" dy=\"0.35em\" class=\"courseName\" text-anchor=\"end\">Neuroscience of Learning and Memory</text><title>Neuroscience of Learning and Memory\n",
       "PSY</title></g><g class=\"node\"><rect id=\"PSY:3320\" class=\"node\" x=\"945\" y=\"96.63265306122443\" height=\"15.306122448979693\" width=\"15\" fill=\"#1f77b4\" stroke=\"#000\"></rect><text x=\"939\" y=\"104.28571428571428\" dy=\"0.35em\" class=\"courseName\" text-anchor=\"end\">Abnormal Psychology</text><title>Abnormal Psychology\n",
       "PSY</title></g><g class=\"node\"><rect id=\"PSY:3330\" class=\"node\" x=\"945\" y=\"116.93877551020412\" height=\"15.306122448979607\" width=\"15\" fill=\"#1f77b4\" stroke=\"#000\"></rect><text x=\"939\" y=\"124.59183673469393\" dy=\"0.35em\" class=\"courseName\" text-anchor=\"end\">Childhood Psychopathology</text><title>Childhood Psychopathology\n",
       "PSY</title></g><g class=\"node\"><rect id=\"PSY:3340\" class=\"node\" x=\"945\" y=\"137.24489795918373\" height=\"15.306122448979636\" width=\"15\" fill=\"#1f77b4\" stroke=\"#000\"></rect><text x=\"939\" y=\"144.89795918367355\" dy=\"0.35em\" class=\"courseName\" text-anchor=\"end\">Behavior Modification</text><title>Behavior Modification\n",
       "PSY</title></g><g class=\"node\"><rect id=\"PSY:3420\" class=\"node\" x=\"945\" y=\"177.85714285714295\" height=\"15.306122448979579\" width=\"15\" fill=\"#1f77b4\" stroke=\"#000\"></rect><text x=\"939\" y=\"185.51020408163274\" dy=\"0.35em\" class=\"courseName\" text-anchor=\"end\">Cognitive Development of Children</text><title>Cognitive Development of Children\n",
       "PSY</title></g><g class=\"node\"><rect id=\"PSY:3451\" class=\"node\" x=\"945\" y=\"198.16326530612253\" height=\"15.306122448979579\" width=\"15\" fill=\"#1f77b4\" stroke=\"#000\"></rect><text x=\"939\" y=\"205.81632653061232\" dy=\"0.35em\" class=\"courseName\" text-anchor=\"end\">Infant Development</text><title>Infant Development\n",
       "PSY</title></g><g class=\"node\"><rect id=\"PSY:3560\" class=\"node\" x=\"945\" y=\"218.4693877551021\" height=\"15.306122448979579\" width=\"15\" fill=\"#1f77b4\" stroke=\"#000\"></rect><text x=\"939\" y=\"226.1224489795919\" dy=\"0.35em\" class=\"courseName\" text-anchor=\"end\">Psychology of Gender</text><title>Psychology of Gender\n",
       "PSY</title></g><g class=\"node\"><rect id=\"PSY:3580\" class=\"node\" x=\"945\" y=\"238.77551020408168\" height=\"15.306122448979579\" width=\"15\" fill=\"#1f77b4\" stroke=\"#000\"></rect><text x=\"939\" y=\"246.42857142857147\" dy=\"0.35em\" class=\"courseName\" text-anchor=\"end\">Judgment and Decision Making</text><title>Judgment and Decision Making\n",
       "PSY</title></g><g class=\"node\"><rect id=\"PSY:3670\" class=\"node\" x=\"945\" y=\"259.08163265306126\" height=\"15.306122448979579\" width=\"15\" fill=\"#1f77b4\" stroke=\"#000\"></rect><text x=\"939\" y=\"266.7346938775511\" dy=\"0.35em\" class=\"courseName\" text-anchor=\"end\">Language Processes</text><title>Language Processes\n",
       "PSY</title></g><g></g><g></g><g></g><g></g><g></g><g class=\"node\"><rect id=\"PSY:4020\" class=\"node\" x=\"945\" y=\"309.795918367347\" height=\"10.204081632653015\" width=\"15\" fill=\"#1f77b4\" stroke=\"#000\"></rect><text x=\"939\" y=\"314.8979591836735\" dy=\"0.35em\" class=\"courseName\" text-anchor=\"end\">Laboratory in Psychology                                            Visual Perception</text><title>Laboratory in Psychology                                            Visual Perception\n",
       "PSY</title></g><g class=\"node\"><rect id=\"PSY:4090\" class=\"node\" x=\"945\" y=\"-2.842170943040401e-14\" height=\"40.81632653061223\" width=\"15\" fill=\"#1f77b4\" stroke=\"#000\"></rect><text x=\"939\" y=\"20.408163265306086\" dy=\"0.35em\" class=\"courseName\" text-anchor=\"end\">Psychology Seminar                                            Stereotyping and Prejudice</text><title>Psychology Seminar                                            Stereotyping and Prejudice\n",
       "PSY</title></g><g></g><g></g><g></g><g></g><g></g><g></g><g></g><g></g><g></g><g></g><g></g><g></g><g></g><g></g><g></g><g></g><g></g><g></g><g></g><g></g><g></g><g></g><g></g><g></g><g></g><g></g><g></g><g></g></g></svg>"
      ]
     },
     "execution_count": 10,
     "metadata": {},
     "output_type": "execute_result"
    }
   ],
   "source": [
    "var psych_courses = create_dept_graph('PSY', courses);\n",
    "draw_chart(psych_courses);"
   ]
  },
  {
   "cell_type": "code",
   "execution_count": 11,
   "metadata": {},
   "outputs": [
    {
     "data": {
      "image/svg+xml": [
       "<svg xmlns=\"http://www.w3.org/2000/svg\" xmlns:xlink=\"http://www.w3.org/1999/xlink\" width=\"960\" height=\"320\"><g class=\"links\" fill=\"none\" stroke=\"#000\" stroke-opacity=\"0.2\"><path d=\"M15,172.14285714285717C243.75,172.14285714285717,243.75,237.7380952380953,472.5,237.7380952380953\" class=\"link\" stroke-width=\"9.523809523809524\"><title>Introductory Financial Management → Investment Management</title></path><path d=\"M15,181.66666666666669C243.75,181.66666666666669,243.75,252.26190476190482,472.5,252.26190476190482\" class=\"link\" stroke-width=\"9.523809523809524\"><title>Introductory Financial Management → Corporate Finance</title></path><path d=\"M487.5,237.7380952380953C716.25,237.7380952380953,716.25,102.70067970557042,945,102.70067970557042\" class=\"link\" stroke-width=\"9.523809523809524\"><title>Investment Management → Futures and Options</title></path><path d=\"M15,14.761904761904805C480,14.761904761904805,480,93.1768701817609,945,93.1768701817609\" class=\"link\" stroke-width=\"9.523809523809524\"><title>Financial Information Technology → Futures and Options</title></path><path d=\"M15,105.47619047619054C243.75,105.47619047619054,243.75,102.97619047619052,472.5,102.97619047619052\" class=\"link\" stroke-width=\"9.523809523809524\"><title>Introductory Financial Management → Fixed Income Securities</title></path><path d=\"M15,24.28571428571433C243.75,24.28571428571433,243.75,93.452380952381,472.5,93.452380952381\" class=\"link\" stroke-width=\"9.523809523809524\"><title>Financial Information Technology → Fixed Income Securities</title></path><path d=\"M15,115.00000000000006C243.75,115.00000000000006,243.75,127.02380952380959,472.5,127.02380952380959\" class=\"link\" stroke-width=\"9.523809523809524\"><title>Introductory Financial Management → Real Estate Process</title></path><path d=\"M15,43.33333333333338C243.75,43.33333333333338,243.75,117.50000000000007,472.5,117.50000000000007\" class=\"link\" stroke-width=\"9.523809523809524\"><title>Financial Information Technology → Real Estate Process</title></path><path d=\"M15,134.0476190476191C243.75,134.0476190476191,243.75,151.07142857142867,472.5,151.07142857142867\" class=\"link\" stroke-width=\"9.523809523809524\"><title>Introductory Financial Management → International Finance</title></path><path d=\"M15,62.38095238095243C243.75,62.38095238095243,243.75,141.54761904761915,472.5,141.54761904761915\" class=\"link\" stroke-width=\"9.523809523809524\"><title>Financial Information Technology → International Finance</title></path><path d=\"M15,143.5714285714286C243.75,143.5714285714286,243.75,175.1190476190477,472.5,175.1190476190477\" class=\"link\" stroke-width=\"9.523809523809524\"><title>Introductory Financial Management → Applied Equity Valuation</title></path><path d=\"M15,71.90476190476195C243.75,71.90476190476195,243.75,165.5952380952382,472.5,165.5952380952382\" class=\"link\" stroke-width=\"9.523809523809524\"><title>Financial Information Technology → Applied Equity Valuation</title></path><path d=\"M487.5,252.26190476190482C716.25,252.26190476190482,716.25,126.74829875318947,945,126.74829875318947\" class=\"link\" stroke-width=\"9.523809523809524\"><title>Corporate Finance → Advanced Corporate Finance</title></path><path d=\"M15,33.80952380952385C480,33.80952380952385,480,117.22448922937996,945,117.22448922937996\" class=\"link\" stroke-width=\"9.523809523809524\"><title>Financial Information Technology → Advanced Corporate Finance</title></path><path d=\"M15,153.09523809523813C243.75,153.09523809523813,243.75,199.16666666666674,472.5,199.16666666666674\" class=\"link\" stroke-width=\"9.523809523809524\"><title>Introductory Financial Management → Commercial Banking</title></path><path d=\"M15,81.42857142857147C243.75,81.42857142857147,243.75,189.64285714285722,472.5,189.64285714285722\" class=\"link\" stroke-width=\"9.523809523809524\"><title>Financial Information Technology → Commercial Banking</title></path><path d=\"M487.5,261.78571428571433C716.25,261.78571428571433,716.25,160.319727324618,945,160.319727324618\" class=\"link\" stroke-width=\"9.523809523809524\"><title>Corporate Finance → Investment Banking</title></path><path d=\"M15,124.52380952380958C480,124.52380952380958,480,150.79591780080847,945,150.79591780080847\" class=\"link\" stroke-width=\"9.523809523809524\"><title>Introductory Financial Management → Investment Banking</title></path><path d=\"M15,52.857142857142904C480,52.857142857142904,480,141.27210827699895,945,141.27210827699895\" class=\"link\" stroke-width=\"9.523809523809524\"><title>Financial Information Technology → Investment Banking</title></path><path d=\"M15,162.61904761904765C243.75,162.61904761904765,243.75,223.21428571428578,472.5,223.21428571428578\" class=\"link\" stroke-width=\"9.523809523809524\"><title>Introductory Financial Management → Wealth Management</title></path><path d=\"M15,90.95238095238099C243.75,90.95238095238099,243.75,213.69047619047626,472.5,213.69047619047626\" class=\"link\" stroke-width=\"9.523809523809524\"><title>Financial Information Technology → Wealth Management</title></path><path d=\"M15,251.19047619047626C243.75,251.19047619047626,243.75,276.30952380952385,472.5,276.30952380952385\" class=\"link\" stroke-width=\"9.523809523809524\"><title>Principles of Risk Management &amp; Ins → Corporate and Financial Risk Management</title></path><path d=\"M15,260.7142857142858C243.75,260.7142857142858,243.75,290.83333333333337,472.5,290.83333333333337\" class=\"link\" stroke-width=\"9.523809523809524\"><title>Principles of Risk Management &amp; Ins → Life and Health Insurance</title></path><path d=\"M15,270.2380952380953C243.75,270.2380952380953,243.75,305.3571428571429,472.5,305.3571428571429\" class=\"link\" stroke-width=\"9.523809523809524\"><title>Principles of Risk Management &amp; Ins → Employee Benefit Plans</title></path></g><g class=\"nodes\" font-family=\"sans-serif\" font-size=\"10\"><g></g><g></g><g class=\"node\"><rect id=\"FIN:3000\" class=\"node\" x=\"0\" y=\"100.71428571428578\" height=\"85.71428571428572\" width=\"15\" fill=\"#1f77b4\" stroke=\"#000\"></rect><text x=\"21\" y=\"143.57142857142864\" dy=\"0.35em\" class=\"courseName\" text-anchor=\"start\">Introductory Financial Management</text><title>Introductory Financial Management\n",
       "FIN</title></g><g></g><g class=\"node\"><rect id=\"FIN:3100\" class=\"node\" x=\"0\" y=\"10.000000000000043\" height=\"85.71428571428574\" width=\"15\" fill=\"#1f77b4\" stroke=\"#000\"></rect><text x=\"21\" y=\"52.85714285714291\" dy=\"0.35em\" class=\"courseName\" text-anchor=\"start\">Financial Information Technology</text><title>Financial Information Technology\n",
       "FIN</title></g><g class=\"node\"><rect id=\"FIN:3200\" class=\"node\" x=\"472.5\" y=\"232.97619047619054\" height=\"9.523809523809518\" width=\"15\" fill=\"#1f77b4\" stroke=\"#000\"></rect><text x=\"493.5\" y=\"237.7380952380953\" dy=\"0.35em\" class=\"courseName\" text-anchor=\"start\">Investment Management</text><title>Investment Management\n",
       "FIN</title></g><g class=\"node\"><rect id=\"FIN:3300\" class=\"node\" x=\"472.5\" y=\"247.50000000000006\" height=\"19.047619047619037\" width=\"15\" fill=\"#1f77b4\" stroke=\"#000\"></rect><text x=\"493.5\" y=\"257.0238095238096\" dy=\"0.35em\" class=\"courseName\" text-anchor=\"start\">Corporate Finance</text><title>Corporate Finance\n",
       "FIN</title></g><g class=\"node\"><rect id=\"FIN:3400\" class=\"node\" x=\"0\" y=\"246.4285714285715\" height=\"28.5714285714285\" width=\"15\" fill=\"#1f77b4\" stroke=\"#000\"></rect><text x=\"21\" y=\"260.7142857142858\" dy=\"0.35em\" class=\"courseName\" text-anchor=\"start\">Principles of Risk Management &amp; Ins</text><title>Principles of Risk Management &amp; Ins\n",
       "FIN</title></g><g></g><g></g><g class=\"node\"><rect id=\"FIN:4210\" class=\"node\" x=\"945\" y=\"88.41496541985614\" height=\"19.04761904761905\" width=\"15\" fill=\"#1f77b4\" stroke=\"#000\"></rect><text x=\"939\" y=\"97.93877494366566\" dy=\"0.35em\" class=\"courseName\" text-anchor=\"end\">Futures and Options</text><title>Futures and Options\n",
       "FIN</title></g><g class=\"node\"><rect id=\"FIN:4220\" class=\"node\" x=\"472.5\" y=\"88.69047619047625\" height=\"19.047619047619065\" width=\"15\" fill=\"#1f77b4\" stroke=\"#000\"></rect><text x=\"493.5\" y=\"98.21428571428578\" dy=\"0.35em\" class=\"courseName\" text-anchor=\"start\">Fixed Income Securities</text><title>Fixed Income Securities\n",
       "FIN</title></g><g class=\"node\"><rect id=\"FIN:4230\" class=\"node\" x=\"472.5\" y=\"112.73809523809531\" height=\"19.04761904761908\" width=\"15\" fill=\"#1f77b4\" stroke=\"#000\"></rect><text x=\"493.5\" y=\"122.26190476190484\" dy=\"0.35em\" class=\"courseName\" text-anchor=\"start\">Real Estate Process</text><title>Real Estate Process\n",
       "FIN</title></g><g class=\"node\"><rect id=\"FIN:4240\" class=\"node\" x=\"472.5\" y=\"136.7857142857144\" height=\"19.047619047619037\" width=\"15\" fill=\"#1f77b4\" stroke=\"#000\"></rect><text x=\"493.5\" y=\"146.3095238095239\" dy=\"0.35em\" class=\"courseName\" text-anchor=\"start\">International Finance</text><title>International Finance\n",
       "FIN</title></g><g class=\"node\"><rect id=\"FIN:4250\" class=\"node\" x=\"472.5\" y=\"160.83333333333343\" height=\"19.047619047619037\" width=\"15\" fill=\"#1f77b4\" stroke=\"#000\"></rect><text x=\"493.5\" y=\"170.35714285714295\" dy=\"0.35em\" class=\"courseName\" text-anchor=\"start\">Applied Equity Valuation</text><title>Applied Equity Valuation\n",
       "FIN</title></g><g class=\"node\"><rect id=\"FIN:4310\" class=\"node\" x=\"945\" y=\"112.4625844674752\" height=\"19.047619047618994\" width=\"15\" fill=\"#1f77b4\" stroke=\"#000\"></rect><text x=\"939\" y=\"121.9863939912847\" dy=\"0.35em\" class=\"courseName\" text-anchor=\"end\">Advanced Corporate Finance</text><title>Advanced Corporate Finance\n",
       "FIN</title></g><g class=\"node\"><rect id=\"FIN:4320\" class=\"node\" x=\"472.5\" y=\"184.88095238095246\" height=\"19.047619047619037\" width=\"15\" fill=\"#1f77b4\" stroke=\"#000\"></rect><text x=\"493.5\" y=\"194.40476190476198\" dy=\"0.35em\" class=\"courseName\" text-anchor=\"start\">Commercial Banking</text><title>Commercial Banking\n",
       "FIN</title></g><g class=\"node\"><rect id=\"FIN:4330\" class=\"node\" x=\"945\" y=\"136.5102035150942\" height=\"28.571428571428612\" width=\"15\" fill=\"#1f77b4\" stroke=\"#000\"></rect><text x=\"939\" y=\"150.7959178008085\" dy=\"0.35em\" class=\"courseName\" text-anchor=\"end\">Investment Banking</text><title>Investment Banking\n",
       "FIN</title></g><g class=\"node\"><rect id=\"FIN:4340\" class=\"node\" x=\"472.5\" y=\"208.9285714285715\" height=\"19.047619047619037\" width=\"15\" fill=\"#1f77b4\" stroke=\"#000\"></rect><text x=\"493.5\" y=\"218.45238095238102\" dy=\"0.35em\" class=\"courseName\" text-anchor=\"start\">Wealth Management</text><title>Wealth Management\n",
       "FIN</title></g><g class=\"node\"><rect id=\"FIN:4410\" class=\"node\" x=\"472.5\" y=\"271.5476190476191\" height=\"9.523809523809518\" width=\"15\" fill=\"#1f77b4\" stroke=\"#000\"></rect><text x=\"493.5\" y=\"276.30952380952385\" dy=\"0.35em\" class=\"courseName\" text-anchor=\"start\">Corporate and Financial Risk Management</text><title>Corporate and Financial Risk Management\n",
       "FIN</title></g><g class=\"node\"><rect id=\"FIN:4430\" class=\"node\" x=\"472.5\" y=\"286.0714285714286\" height=\"9.523809523809518\" width=\"15\" fill=\"#1f77b4\" stroke=\"#000\"></rect><text x=\"493.5\" y=\"290.83333333333337\" dy=\"0.35em\" class=\"courseName\" text-anchor=\"start\">Life and Health Insurance</text><title>Life and Health Insurance\n",
       "FIN</title></g><g class=\"node\"><rect id=\"FIN:4440\" class=\"node\" x=\"472.5\" y=\"300.59523809523813\" height=\"9.523809523809518\" width=\"15\" fill=\"#1f77b4\" stroke=\"#000\"></rect><text x=\"493.5\" y=\"305.3571428571429\" dy=\"0.35em\" class=\"courseName\" text-anchor=\"start\">Employee Benefit Plans</text><title>Employee Benefit Plans\n",
       "FIN</title></g><g></g><g></g><g></g><g></g><g></g><g></g><g></g><g></g><g></g><g></g><g></g><g></g><g></g><g></g><g></g><g></g><g></g></g></svg>"
      ]
     },
     "execution_count": 11,
     "metadata": {},
     "output_type": "execute_result"
    }
   ],
   "source": [
    "var finance_courses = create_dept_graph('FIN', courses);\n",
    "draw_chart(finance_courses);"
   ]
  },
  {
   "cell_type": "markdown",
   "metadata": {},
   "source": [
    "***Major Courses***"
   ]
  },
  {
   "cell_type": "code",
   "execution_count": 12,
   "metadata": {
    "code_folding": [
     0
    ]
   },
   "outputs": [
    {
     "data": {
      "image/svg+xml": [
       "<svg xmlns=\"http://www.w3.org/2000/svg\" xmlns:xlink=\"http://www.w3.org/1999/xlink\" width=\"960\" height=\"320\"><g class=\"links\" fill=\"none\" stroke=\"#000\" stroke-opacity=\"0.2\"><path d=\"M15,150.41666666666674C243.75,150.41666666666674,243.75,211.25000000000014,472.5,211.25000000000014\" class=\"link\" stroke-width=\"20.833333333333332\"><title>Calculus and Matrix Algebra for Business → Statistics for Strategy Problems</title></path><path d=\"M15,202.08333333333334C243.75,202.08333333333334,243.75,232.08333333333348,472.5,232.08333333333348\" class=\"link\" stroke-width=\"20.833333333333332\"><title>Statistics for Business → Statistics for Strategy Problems</title></path><path d=\"M15,62.08333333333335C243.75,62.08333333333335,243.75,71.24999999999989,472.5,71.24999999999989\" class=\"link\" stroke-width=\"20.833333333333332\"><title>Principles of Microeconomics → Managerial Accounting</title></path><path d=\"M15,129.5833333333334C243.75,129.5833333333334,243.75,92.08333333333321,472.5,92.08333333333321\" class=\"link\" stroke-width=\"20.833333333333332\"><title>Calculus and Matrix Algebra for Business → Managerial Accounting</title></path><path d=\"M15,15.416666666666666C243.75,15.416666666666666,243.75,50.41666666666655,472.5,50.41666666666655\" class=\"link\" stroke-width=\"20.833333333333332\"><title>Introduction to Financial Accounting → Managerial Accounting</title></path><path d=\"M15,258.7500000000001C243.75,258.7500000000001,243.75,283.74999999999983,472.5,283.74999999999983\" class=\"link\" stroke-width=\"20.833333333333332\"><title>Rhetoric                                            Big Ideas: Origins of the Universe → Business Communication and Protocol</title></path><path d=\"M15,284.5833333333334C243.75,284.5833333333334,243.75,309.5833333333333,472.5,309.5833333333333\" class=\"link\" stroke-width=\"20.833333333333332\"><title>Business Computing Essentials → Information Systems</title></path><path d=\"M487.5,50.41666666666655C716.25,50.41666666666655,716.25,79.74018954697985,945,79.74018954697985\" class=\"link\" stroke-width=\"20.833333333333332\"><title>Managerial Accounting → Financial Accounting and Reporting</title></path><path d=\"M15,36.25C243.75,36.25,243.75,117.91666666666652,472.5,117.91666666666652\" class=\"link\" stroke-width=\"20.833333333333332\"><title>Introduction to Financial Accounting → Introductory Financial Management</title></path><path d=\"M15,82.91666666666669C243.75,82.91666666666669,243.75,138.74999999999983,472.5,138.74999999999983\" class=\"link\" stroke-width=\"20.833333333333332\"><title>Principles of Microeconomics → Introductory Financial Management</title></path><path d=\"M15,176.25000000000009C243.75,176.25000000000009,243.75,159.58333333333317,472.5,159.58333333333317\" class=\"link\" stroke-width=\"20.833333333333332\"><title>Principles of Macroeconomics → Introductory Financial Management</title></path><path d=\"M15,103.75000000000001C243.75,103.75000000000001,243.75,185.41666666666677,472.5,185.41666666666677\" class=\"link\" stroke-width=\"20.833333333333332\"><title>Principles of Microeconomics → Introduction to Marketing Strategy</title></path><path d=\"M15,222.91666666666669C243.75,222.91666666666669,243.75,257.9166666666668,472.5,257.9166666666668\" class=\"link\" stroke-width=\"20.833333333333332\"><title>Statistics for Business → Operations Management</title></path></g><g class=\"nodes\" font-family=\"sans-serif\" font-size=\"10\"><g class=\"node\"><rect id=\"MATH:1380\" class=\"node\" x=\"0\" y=\"119.16666666666674\" height=\"41.666666666666686\" width=\"15\" fill=\"#1f77b4\" stroke=\"#000\"></rect><text x=\"21\" y=\"140.00000000000009\" dy=\"0.35em\" class=\"courseName\" text-anchor=\"start\">Calculus and Matrix Algebra for Business</text><title>Calculus and Matrix Algebra for Business\n",
       "MATH</title></g><g class=\"node\"><rect id=\"RHET:1030\" class=\"node\" x=\"0\" y=\"248.33333333333346\" height=\"20.833333333333286\" width=\"15\" fill=\"#ff7f0e\" stroke=\"#000\"></rect><text x=\"21\" y=\"258.7500000000001\" dy=\"0.35em\" class=\"courseName\" text-anchor=\"start\">Rhetoric                                            Big Ideas: Origins of the Universe</text><title>Rhetoric                                            Big Ideas: Origins of the Universe\n",
       "RHET</title></g><g></g><g class=\"node\"><rect id=\"ECON:1100\" class=\"node\" x=\"0\" y=\"51.666666666666686\" height=\"62.50000000000006\" width=\"15\" fill=\"#d62728\" stroke=\"#000\"></rect><text x=\"21\" y=\"82.91666666666671\" dy=\"0.35em\" class=\"courseName\" text-anchor=\"start\">Principles of Microeconomics</text><title>Principles of Microeconomics\n",
       "ECON</title></g><g></g><g class=\"node\"><rect id=\"MSCI:1500\" class=\"node\" x=\"0\" y=\"274.16666666666674\" height=\"20.833333333333258\" width=\"15\" fill=\"#8c564b\" stroke=\"#000\"></rect><text x=\"21\" y=\"284.58333333333337\" dy=\"0.35em\" class=\"courseName\" text-anchor=\"start\">Business Computing Essentials</text><title>Business Computing Essentials\n",
       "MSCI</title></g><g class=\"node\"><rect id=\"STAT:1030\" class=\"node\" x=\"0\" y=\"191.66666666666669\" height=\"41.66666666666677\" width=\"15\" fill=\"#e377c2\" stroke=\"#000\"></rect><text x=\"21\" y=\"212.50000000000006\" dy=\"0.35em\" class=\"courseName\" text-anchor=\"start\">Statistics for Business</text><title>Statistics for Business\n",
       "STAT</title></g><g class=\"node\"><rect id=\"ACCT:2100\" class=\"node\" x=\"0\" y=\"5\" height=\"41.666666666666686\" width=\"15\" fill=\"#7f7f7f\" stroke=\"#000\"></rect><text x=\"21\" y=\"25.833333333333343\" dy=\"0.35em\" class=\"courseName\" text-anchor=\"start\">Introduction to Financial Accounting</text><title>Introduction to Financial Accounting\n",
       "ACCT</title></g><g class=\"node\"><rect id=\"ECON:1200\" class=\"node\" x=\"0\" y=\"165.83333333333343\" height=\"20.833333333333258\" width=\"15\" fill=\"#d62728\" stroke=\"#000\"></rect><text x=\"21\" y=\"176.25000000000006\" dy=\"0.35em\" class=\"courseName\" text-anchor=\"start\">Principles of Macroeconomics</text><title>Principles of Macroeconomics\n",
       "ECON</title></g><g class=\"node\"><rect id=\"ECON:2800\" class=\"node\" x=\"472.5\" y=\"200.83333333333348\" height=\"41.66666666666663\" width=\"15\" fill=\"#d62728\" stroke=\"#000\"></rect><text x=\"493.5\" y=\"221.6666666666668\" dy=\"0.35em\" class=\"courseName\" text-anchor=\"start\">Statistics for Strategy Problems</text><title>Statistics for Strategy Problems\n",
       "ECON</title></g><g class=\"node\"><rect id=\"ACCT:2200\" class=\"node\" x=\"472.5\" y=\"39.999999999999886\" height=\"62.49999999999996\" width=\"15\" fill=\"#7f7f7f\" stroke=\"#000\"></rect><text x=\"493.5\" y=\"71.24999999999986\" dy=\"0.35em\" class=\"courseName\" text-anchor=\"start\">Managerial Accounting</text><title>Managerial Accounting\n",
       "ACCT</title></g><g class=\"node\"><rect id=\"BUS:3000\" class=\"node\" x=\"472.5\" y=\"273.33333333333314\" height=\"20.833333333333485\" width=\"15\" fill=\"#bcbd22\" stroke=\"#000\"></rect><text x=\"493.5\" y=\"283.7499999999999\" dy=\"0.35em\" class=\"courseName\" text-anchor=\"start\">Business Communication and Protocol</text><title>Business Communication and Protocol\n",
       "BUS</title></g><g></g><g class=\"node\"><rect id=\"MSCI:3005\" class=\"node\" x=\"472.5\" y=\"299.16666666666663\" height=\"20.83333333333337\" width=\"15\" fill=\"#8c564b\" stroke=\"#000\"></rect><text x=\"493.5\" y=\"309.5833333333333\" dy=\"0.35em\" class=\"courseName\" text-anchor=\"start\">Information Systems</text><title>Information Systems\n",
       "MSCI</title></g><g class=\"node\"><rect id=\"ACCT:3020\" class=\"node\" x=\"945\" y=\"69.32352288031318\" height=\"20.83333333333333\" width=\"15\" fill=\"#7f7f7f\" stroke=\"#000\"></rect><text x=\"939\" y=\"79.74018954697985\" dy=\"0.35em\" class=\"courseName\" text-anchor=\"end\">Financial Accounting and Reporting</text><title>Financial Accounting and Reporting\n",
       "ACCT</title></g><g class=\"node\"><rect id=\"FIN:3000\" class=\"node\" x=\"472.5\" y=\"107.49999999999984\" height=\"62.50000000000027\" width=\"15\" fill=\"#1f77b4\" stroke=\"#000\"></rect><text x=\"493.5\" y=\"138.74999999999997\" dy=\"0.35em\" class=\"courseName\" text-anchor=\"start\">Introductory Financial Management</text><title>Introductory Financial Management\n",
       "FIN</title></g><g></g><g></g><g></g><g></g><g></g><g class=\"node\"><rect id=\"MKTG:3000\" class=\"node\" x=\"472.5\" y=\"175.0000000000001\" height=\"20.83333333333337\" width=\"15\" fill=\"#ff7f0e\" stroke=\"#000\"></rect><text x=\"493.5\" y=\"185.4166666666668\" dy=\"0.35em\" class=\"courseName\" text-anchor=\"start\">Introduction to Marketing Strategy</text><title>Introduction to Marketing Strategy\n",
       "MKTG</title></g><g class=\"node\"><rect id=\"MSCI:3000\" class=\"node\" x=\"472.5\" y=\"247.5000000000001\" height=\"20.83333333333303\" width=\"15\" fill=\"#8c564b\" stroke=\"#000\"></rect><text x=\"493.5\" y=\"257.91666666666663\" dy=\"0.35em\" class=\"courseName\" text-anchor=\"start\">Operations Management</text><title>Operations Management\n",
       "MSCI</title></g></g></svg>"
      ]
     },
     "execution_count": 12,
     "metadata": {},
     "output_type": "execute_result"
    }
   ],
   "source": [
    "var finance_major = [\n",
    "'MATH:1380',\n",
    "'RHET:1030',\n",
    "'CSI:1600',\n",
    "\n",
    "'ECON:1100',\n",
    "'ENGL:1200',\n",
    "'MSCI:1500',\n",
    "'STAT:1030',\n",
    "    \n",
    "'ACCT:2100',\n",
    "'ECON:1200',\n",
    "'ECON:2800',\n",
    "\n",
    "'ACCT:2200',\n",
    "'BUS:3000',\n",
    "'MGMT:2000',\n",
    "'MSCI:3005',\n",
    "\n",
    "'ACCT:3020',\n",
    "'FIN:3000',\n",
    "'FIN:3020',\n",
    "'MGMT:2100',\n",
    "\n",
    "'FIN:3100',\n",
    "'FIN:3200',\n",
    "'FIN:3300',\n",
    "\n",
    "'MKTG:3000',\n",
    "\n",
    "'MSCI:3000'\n",
    "];\n",
    "var finance_graph = create_major_graph(finance_major, courses);\n",
    "draw_chart(finance_graph);"
   ]
  },
  {
   "cell_type": "code",
   "execution_count": 18,
   "metadata": {
    "code_folding": [
     0
    ]
   },
   "outputs": [
    {
     "data": {
      "image/svg+xml": [
       "<svg xmlns=\"http://www.w3.org/2000/svg\" xmlns:xlink=\"http://www.w3.org/1999/xlink\" width=\"960\" height=\"320\"><g class=\"links\" fill=\"none\" stroke=\"#000\" stroke-opacity=\"0.2\"><path d=\"M15,22.749999999999844C165,22.749999999999844,165,14.249999999999861,315,14.249999999999861\" class=\"link\" stroke-width=\"28.5\"><title>Engineer Math I Single Variable Calculus → Engineering Math III: Matrix Algebra</title></path><path d=\"M15,51.249999999999844C165,51.249999999999844,165,76.24999999999983,315,76.24999999999983\" class=\"link\" stroke-width=\"28.5\"><title>Engineer Math I Single Variable Calculus → Engineering Fundamentals I: Statics</title></path><path d=\"M15,123.24999999999986C165,123.24999999999986,165,143.2499999999999,315,143.2499999999999\" class=\"link\" stroke-width=\"28.5\"><title>Introductory Physics I → Engr Fund III: Thermodynamics</title></path><path d=\"M15,161.74999999999986C165,161.74999999999986,165,171.7499999999999,315,171.7499999999999\" class=\"link\" stroke-width=\"28.5\"><title>Principles of Chemistry I → Engr Fund III: Thermodynamics</title></path><path d=\"M330,14.249999999999861C480,14.249999999999861,480,34.685709527085194,630,34.685709527085194\" class=\"link\" stroke-width=\"28.5\"><title>Engineering Math III: Matrix Algebra → Engineer Math IV: Differential Equations</title></path><path d=\"M15,94.74999999999986C165,94.74999999999986,165,109.74999999999983,315,109.74999999999983\" class=\"link\" stroke-width=\"28.5\"><title>Introductory Physics I → Introductory Physics II</title></path><path d=\"M15,190.24999999999986C165,190.24999999999986,165,205.2499999999999,315,205.2499999999999\" class=\"link\" stroke-width=\"28.5\"><title>Principles of Chemistry I → Materials Science</title></path><path d=\"M15,238.74999999999986C165,238.74999999999986,165,238.7499999999999,315,238.7499999999999\" class=\"link\" stroke-width=\"28.5\"><title>Elementary Psychology → Human Factors</title></path><path d=\"M15,272.25C165,272.25,165,272.25,315,272.25\" class=\"link\" stroke-width=\"28.5\"><title>Probability &amp; Stats for Engr &amp; Phys Sci → Stochastic Modeling</title></path><path d=\"M330,42.74999999999986C480,42.74999999999986,480,68.18570952708518,630,68.18570952708518\" class=\"link\" stroke-width=\"28.5\"><title>Engineering Math III: Matrix Algebra → Operations Research</title></path><path d=\"M645,68.18570952708518C795,68.18570952708518,795,43.82987958977213,945,43.82987958977213\" class=\"link\" stroke-width=\"28.5\"><title>Operations Research → Process Engineering</title></path><path d=\"M15,300.75C165,300.75,165,305.75,315,305.75\" class=\"link\" stroke-width=\"28.5\"><title>Probability &amp; Stats for Engr &amp; Phys Sci → Quality Control</title></path></g><g class=\"nodes\" font-family=\"sans-serif\" font-size=\"10\"><g class=\"node\"><rect id=\"CHEM:1110\" class=\"node\" x=\"0\" y=\"147.49999999999986\" height=\"57\" width=\"15\" fill=\"#1f77b4\" stroke=\"#000\"></rect><text x=\"21\" y=\"175.99999999999986\" dy=\"0.35em\" class=\"courseName\" text-anchor=\"start\">Principles of Chemistry I</text><title>Principles of Chemistry I\n",
       "CHEM</title></g><g></g><g></g><g class=\"node\"><rect id=\"MATH:1550\" class=\"node\" x=\"0\" y=\"8.499999999999844\" height=\"57.000000000000014\" width=\"15\" fill=\"#2ca02c\" stroke=\"#000\"></rect><text x=\"21\" y=\"36.99999999999985\" dy=\"0.35em\" class=\"courseName\" text-anchor=\"start\">Engineer Math I Single Variable Calculus</text><title>Engineer Math I Single Variable Calculus\n",
       "MATH</title></g><g></g><g></g><g class=\"node\"><rect id=\"MATH:2550\" class=\"node\" x=\"315\" y=\"-1.376676550535194e-13\" height=\"56.99999999999997\" width=\"15\" fill=\"#2ca02c\" stroke=\"#000\"></rect><text x=\"336\" y=\"28.49999999999985\" dy=\"0.35em\" class=\"courseName\" text-anchor=\"start\">Engineering Math III: Matrix Algebra</text><title>Engineering Math III: Matrix Algebra\n",
       "MATH</title></g><g class=\"node\"><rect id=\"PHYS:1611\" class=\"node\" x=\"0\" y=\"80.49999999999986\" height=\"57\" width=\"15\" fill=\"#9467bd\" stroke=\"#000\"></rect><text x=\"21\" y=\"108.99999999999986\" dy=\"0.35em\" class=\"courseName\" text-anchor=\"start\">Introductory Physics I</text><title>Introductory Physics I\n",
       "PHYS</title></g><g></g><g class=\"node\"><rect id=\"ENGR:2110\" class=\"node\" x=\"315\" y=\"61.99999999999983\" height=\"28.5\" width=\"15\" fill=\"#ff7f0e\" stroke=\"#000\"></rect><text x=\"336\" y=\"76.24999999999983\" dy=\"0.35em\" class=\"courseName\" text-anchor=\"start\">Engineering Fundamentals I: Statics</text><title>Engineering Fundamentals I: Statics\n",
       "ENGR</title></g><g></g><g class=\"node\"><rect id=\"ENGR:2130\" class=\"node\" x=\"315\" y=\"128.9999999999999\" height=\"57\" width=\"15\" fill=\"#ff7f0e\" stroke=\"#000\"></rect><text x=\"336\" y=\"157.4999999999999\" dy=\"0.35em\" class=\"courseName\" text-anchor=\"start\">Engr Fund III: Thermodynamics</text><title>Engr Fund III: Thermodynamics\n",
       "ENGR</title></g><g class=\"node\"><rect id=\"MATH:2560\" class=\"node\" x=\"630\" y=\"20.435709527085198\" height=\"28.499999999999975\" width=\"15\" fill=\"#2ca02c\" stroke=\"#000\"></rect><text x=\"624\" y=\"34.68570952708519\" dy=\"0.35em\" class=\"courseName\" text-anchor=\"end\">Engineer Math IV: Differential Equations</text><title>Engineer Math IV: Differential Equations\n",
       "MATH</title></g><g class=\"node\"><rect id=\"PHYS:1612\" class=\"node\" x=\"315\" y=\"95.49999999999983\" height=\"28.500000000000057\" width=\"15\" fill=\"#9467bd\" stroke=\"#000\"></rect><text x=\"336\" y=\"109.74999999999986\" dy=\"0.35em\" class=\"courseName\" text-anchor=\"start\">Introductory Physics II</text><title>Introductory Physics II\n",
       "PHYS</title></g><g class=\"node\"><rect id=\"PSY:1001\" class=\"node\" x=\"0\" y=\"224.49999999999986\" height=\"28.500000000000142\" width=\"15\" fill=\"#e377c2\" stroke=\"#000\"></rect><text x=\"21\" y=\"238.74999999999994\" dy=\"0.35em\" class=\"courseName\" text-anchor=\"start\">Elementary Psychology</text><title>Elementary Psychology\n",
       "PSY</title></g><g class=\"node\"><rect id=\"ENGR:2720\" class=\"node\" x=\"315\" y=\"190.9999999999999\" height=\"28.5\" width=\"15\" fill=\"#ff7f0e\" stroke=\"#000\"></rect><text x=\"336\" y=\"205.2499999999999\" dy=\"0.35em\" class=\"courseName\" text-anchor=\"start\">Materials Science</text><title>Materials Science\n",
       "ENGR</title></g><g class=\"node\"><rect id=\"STAT:2020\" class=\"node\" x=\"0\" y=\"258\" height=\"57\" width=\"15\" fill=\"#7f7f7f\" stroke=\"#000\"></rect><text x=\"21\" y=\"286.5\" dy=\"0.35em\" class=\"courseName\" text-anchor=\"start\">Probability &amp; Stats for Engr &amp; Phys Sci</text><title>Probability &amp; Stats for Engr &amp; Phys Sci\n",
       "STAT</title></g><g class=\"node\"><rect id=\"IE:3400\" class=\"node\" x=\"315\" y=\"224.4999999999999\" height=\"28.500000000000114\" width=\"15\" fill=\"#8c564b\" stroke=\"#000\"></rect><text x=\"336\" y=\"238.74999999999994\" dy=\"0.35em\" class=\"courseName\" text-anchor=\"start\">Human Factors</text><title>Human Factors\n",
       "IE</title></g><g class=\"node\"><rect id=\"IE:3610\" class=\"node\" x=\"315\" y=\"258\" height=\"28.5\" width=\"15\" fill=\"#8c564b\" stroke=\"#000\"></rect><text x=\"336\" y=\"272.25\" dy=\"0.35em\" class=\"courseName\" text-anchor=\"start\">Stochastic Modeling</text><title>Stochastic Modeling\n",
       "IE</title></g><g class=\"node\"><rect id=\"IE:3700\" class=\"node\" x=\"630\" y=\"53.93570952708517\" height=\"28.49999999999998\" width=\"15\" fill=\"#8c564b\" stroke=\"#000\"></rect><text x=\"624\" y=\"68.18570952708517\" dy=\"0.35em\" class=\"courseName\" text-anchor=\"end\">Operations Research</text><title>Operations Research\n",
       "IE</title></g><g></g><g class=\"node\"><rect id=\"IE:3350\" class=\"node\" x=\"945\" y=\"29.579879589772133\" height=\"28.499999999999986\" width=\"15\" fill=\"#8c564b\" stroke=\"#000\"></rect><text x=\"939\" y=\"43.829879589772126\" dy=\"0.35em\" class=\"courseName\" text-anchor=\"end\">Process Engineering</text><title>Process Engineering\n",
       "IE</title></g><g class=\"node\"><rect id=\"IE:3600\" class=\"node\" x=\"315\" y=\"291.5\" height=\"28.5\" width=\"15\" fill=\"#8c564b\" stroke=\"#000\"></rect><text x=\"336\" y=\"305.75\" dy=\"0.35em\" class=\"courseName\" text-anchor=\"start\">Quality Control</text><title>Quality Control\n",
       "IE</title></g></g></svg>"
      ]
     },
     "execution_count": 18,
     "metadata": {},
     "output_type": "execute_result"
    }
   ],
   "source": [
    "var industrial_eng_major = [\n",
    "'CHEM:1110',\n",
    "'ENGR:1100',\n",
    "'ENGR:1000',\n",
    "'MATH:1550',\n",
    "'RHET:1030',\n",
    "\n",
    "'ENGR:1300',\n",
    "'MATH:2550',\n",
    "'PHYS:1611',\n",
    "\n",
    "'IE:2000',\n",
    "'ENGR:2110',\n",
    "'ENGR:2120',\n",
    "'ENGR:2130',\n",
    "'MATH:2560',\n",
    "'PHYS:1612',\n",
    "'PSY:1001',\n",
    "\n",
    "//'IE:2500',\n",
    "//'IE:3500',\n",
    "'ENGR:2720',\n",
    "'STAT:2020',\n",
    "\n",
    "//'IE:3000',\n",
    "'IE:3400',\n",
    "'IE:3610',\n",
    "'IE:3700',\n",
    "'ENGR:2760',\n",
    "\n",
    "//'IE:3300',\n",
    "//'IE:3450',\n",
    "//'IE:3750',\n",
    "\n",
    "'IE:3350',\n",
    "'IE:3600'\n",
    "];\n",
    "var industrial_eng_graph = create_major_graph(industrial_eng_major, courses);\n",
    "draw_chart(industrial_eng_graph);"
   ]
  },
  {
   "cell_type": "code",
   "execution_count": null,
   "metadata": {
    "collapsed": true
   },
   "outputs": [],
   "source": []
  }
 ],
 "metadata": {
  "kernelspec": {
   "display_name": "Javascript (Node.js)",
   "language": "javascript",
   "name": "javascript"
  },
  "language_info": {
   "file_extension": ".js",
   "mimetype": "application/javascript",
   "name": "javascript",
   "version": "8.5.0"
  }
 },
 "nbformat": 4,
 "nbformat_minor": 2
}
