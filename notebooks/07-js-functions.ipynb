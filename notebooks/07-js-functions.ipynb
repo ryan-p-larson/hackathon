{
 "cells": [
  {
   "cell_type": "markdown",
   "metadata": {},
   "source": [
    "# Playing with JS"
   ]
  },
  {
   "cell_type": "code",
   "execution_count": 1,
   "metadata": {},
   "outputs": [
    {
     "data": {
      "text/plain": [
       "undefined"
      ]
     },
     "execution_count": 1,
     "metadata": {},
     "output_type": "execute_result"
    }
   ],
   "source": [
    "// libraries\n",
    "var fs = require('fs');\n",
    "var d3 = require('../src/node_modules/d3');\n",
    "\n",
    "// files\n",
    "var f1 = '../data/indexed-courses.json'; // new line delimited\n",
    "var f2 = '../data/test-courses.json'; // indexed"
   ]
  },
  {
   "cell_type": "code",
   "execution_count": 2,
   "metadata": {},
   "outputs": [
    {
     "data": {
      "text/plain": [
       "undefined"
      ]
     },
     "execution_count": 2,
     "metadata": {},
     "output_type": "execute_result"
    }
   ],
   "source": [
    "function read_courses(f) {\n",
    "    var buffer = fs.readFileSync(f);\n",
    "    var contents = JSON.parse(buffer);\n",
    "    return contents;\n",
    "}"
   ]
  },
  {
   "cell_type": "code",
   "execution_count": 3,
   "metadata": {},
   "outputs": [
    {
     "data": {
      "text/plain": [
       "undefined"
      ]
     },
     "execution_count": 3,
     "metadata": {},
     "output_type": "execute_result"
    }
   ],
   "source": [
    "var courses = read_courses(f2);"
   ]
  },
  {
   "cell_type": "code",
   "execution_count": 4,
   "metadata": {},
   "outputs": [
    {
     "data": {
      "text/plain": [
       "undefined"
      ]
     },
     "execution_count": 4,
     "metadata": {},
     "output_type": "execute_result"
    }
   ],
   "source": [
    "function create_course_graph(course) {\n",
    "    var final_nodes = [],\n",
    "        remaining_nodes = [],\n",
    "        next_nodes = [];\n",
    "    \n",
    "    var traverse = [{linkType : \"prereqs\",\n",
    "                      nodeType : \"source\"}];\n",
    "    \n",
    "    //\n",
    "    traverse.forEach((step) => {\n",
    "        \n",
    "        //\n",
    "        course[step.linkType].forEach((link) => {\n",
    "            final_nodes.push(link[step.nodeType]);\n",
    "            remaining_nodes.push(link[step.nodeType]);\n",
    "        });\n",
    "        \n",
    "    });\n",
    "    \n",
    "    console.log(remaining_nodes, next_nodes);\n",
    "}"
   ]
  },
  {
   "cell_type": "code",
   "execution_count": 5,
   "metadata": {},
   "outputs": [
    {
     "name": "stdout",
     "output_type": "stream",
     "text": [
      "[ 'CS:2210', 'MATH:1550', 'MATH:1850', 'CS:2230' ] []\n"
     ]
    },
    {
     "data": {
      "text/plain": [
       "undefined"
      ]
     },
     "execution_count": 5,
     "metadata": {},
     "output_type": "execute_result"
    }
   ],
   "source": [
    "create_course_graph(courses['CS:3330']);"
   ]
  },
  {
   "cell_type": "code",
   "execution_count": 15,
   "metadata": {},
   "outputs": [
    {
     "data": {
      "text/plain": [
       "undefined"
      ]
     },
     "execution_count": 15,
     "metadata": {},
     "output_type": "execute_result"
    }
   ],
   "source": [
    "function create_course_graph2(course, courses) {\n",
    "    var final_nodes = new Set(),\n",
    "        final_links = new Set(),\n",
    "        remaining_nodes = [],\n",
    "        next_nodes = [];\n",
    "    \n",
    "    var traverse = [{linkType : \"prereqs\",\n",
    "                      nodeType : \"source\"}];\n",
    "    \n",
    "    //\n",
    "    traverse.forEach((step) => {\n",
    "        \n",
    "        // initially add all the prereqs from a class \n",
    "        // to BOTH the final and remaining nodes\n",
    "        course[step.linkType].forEach((link) => {\n",
    "            // set to check against\n",
    "            final_nodes.add(link[step.nodeType]);\n",
    "            // links\n",
    "            final_links.add(link);\n",
    "            // list\n",
    "            remaining_nodes.push(link[step.nodeType]);\n",
    "        });\n",
    "        \n",
    "        // for each prereq, add it's prereqs\n",
    "        remaining_nodes.forEach(function(node) {\n",
    "            // get the course from it's ID\n",
    "            node = courses[node];\n",
    "\n",
    "            node[step.linkType].forEach(function(link) {\n",
    "\n",
    "                var prereq_id = link[step.nodeType];\n",
    "                if (final_nodes.has(prereq_id) == false) {\n",
    "                    next_nodes.push(link[step.nodeType]);\n",
    "                    final_nodes.add(prereq_id);\n",
    "                    final_links.add(link);\n",
    "                }\n",
    "            });\n",
    "            \n",
    "        });      \n",
    "        \n",
    "    });\n",
    "    \n",
    "    console.log(remaining_nodes);\n",
    "    console.log(next_nodes)\n",
    "    console.log(final_nodes);\n",
    "    console.log(final_links);\n",
    "}"
   ]
  },
  {
   "cell_type": "code",
   "execution_count": 16,
   "metadata": {},
   "outputs": [
    {
     "name": "stdout",
     "output_type": "stream",
     "text": [
      "[ 'CS:2210', 'MATH:1550', 'MATH:1850', 'CS:2230' ]\n",
      "[ 'MATH:1380',\n",
      "  'MATH:1020',\n",
      "  'MATH:1460',\n",
      "  'MATH:1010',\n",
      "  'MATH:1005',\n",
      "  'MATH:1340',\n",
      "  'CS:1210',\n",
      "  'ENGR:2730' ]\n",
      "Set {\n",
      "  'CS:2210',\n",
      "  'MATH:1550',\n",
      "  'MATH:1850',\n",
      "  'CS:2230',\n",
      "  'MATH:1380',\n",
      "  'MATH:1020',\n",
      "  'MATH:1460',\n",
      "  'MATH:1010',\n",
      "  'MATH:1005',\n",
      "  'MATH:1340',\n",
      "  'CS:1210',\n",
      "  'ENGR:2730' }\n",
      "Set {\n",
      "  { source: 'CS:2210', target: 'CS:3330', value: 1 },\n",
      "  { source: 'MATH:1550', target: 'CS:3330', value: 1 },\n",
      "  { source: 'MATH:1850', target: 'CS:3330', value: 1 },\n",
      "  { source: 'CS:2230', target: 'CS:3330', value: 1 },\n",
      "  { source: 'MATH:1380', target: 'MATH:1550', value: 1 },\n",
      "  { source: 'MATH:1020', target: 'MATH:1550', value: 1 },\n",
      "  { source: 'MATH:1460', target: 'MATH:1550', value: 1 },\n",
      "  { source: 'MATH:1010', target: 'MATH:1550', value: 1 },\n",
      "  { source: 'MATH:1005', target: 'MATH:1550', value: 1 },\n",
      "  { source: 'MATH:1340', target: 'MATH:1550', value: 1 },\n",
      "  { source: 'CS:1210', target: 'CS:2230', value: 1 },\n",
      "  { source: 'ENGR:2730', target: 'CS:2230', value: 1 } }\n"
     ]
    },
    {
     "data": {
      "text/plain": [
       "undefined"
      ]
     },
     "execution_count": 16,
     "metadata": {},
     "output_type": "execute_result"
    }
   ],
   "source": [
    "create_course_graph2(courses['CS:3330'], courses);"
   ]
  },
  {
   "cell_type": "code",
   "execution_count": 29,
   "metadata": {},
   "outputs": [
    {
     "data": {
      "text/plain": [
       "undefined"
      ]
     },
     "execution_count": 29,
     "metadata": {},
     "output_type": "execute_result"
    }
   ],
   "source": [
    "function create_course_graph3(course, courses) {\n",
    "    var final_nodes = new Set(),\n",
    "        final_links = new Set(),\n",
    "        remaining_nodes = [],\n",
    "        next_nodes = [];\n",
    "    \n",
    "    var traverse = [{linkType : \"prereqs\",\n",
    "                      nodeType : \"source\"}];\n",
    "\n",
    "\n",
    "    // initially add all the prereqs from a class \n",
    "    // to BOTH the final and remaining nodes\n",
    "    course['prereqs'].forEach((link) => {\n",
    "        // set to check against\n",
    "        final_nodes.add(link['source']);\n",
    "        // links\n",
    "        final_links.add(link);\n",
    "        // list\n",
    "        remaining_nodes.push(link['source']);\n",
    "    });\n",
    "\n",
    "    // for each prereq, add it's prereqs\n",
    "    remaining_nodes.forEach(function(node) {\n",
    "        // get the course from it's ID\n",
    "        node = courses[node];\n",
    "\n",
    "        node['prereqs'].forEach(function(link) {\n",
    "\n",
    "            var prereq_id = link['source'];\n",
    "            if (final_nodes.has(prereq_id) == false) {\n",
    "                next_nodes.push(link['source']);\n",
    "                final_nodes.add(prereq_id);\n",
    "                final_links.add(link);\n",
    "            }\n",
    "        });\n",
    "\n",
    "    });      \n",
    "    \n",
    "    return {\"nodes\": Array.from(final_nodes), \"links\": Array.from(final_links)};\n",
    "}"
   ]
  },
  {
   "cell_type": "code",
   "execution_count": 30,
   "metadata": {},
   "outputs": [
    {
     "name": "stdout",
     "output_type": "stream",
     "text": [
      "[ 'CS:2210', 'MATH:1550', 'MATH:1850', 'CS:2230' ]\n"
     ]
    },
    {
     "data": {
      "text/plain": [
       "{ nodes: \n",
       "   [ 'CS:2210',\n",
       "     'MATH:1550',\n",
       "     'MATH:1850',\n",
       "     'CS:2230',\n",
       "     'MATH:1380',\n",
       "     'MATH:1020',\n",
       "     'MATH:1460',\n",
       "     'MATH:1010',\n",
       "     'MATH:1005',\n",
       "     'MATH:1340',\n",
       "     'CS:1210',\n",
       "     'ENGR:2730' ],\n",
       "  links: \n",
       "   [ { source: 'CS:2210', target: 'CS:3330', value: 1 },\n",
       "     { source: 'MATH:1550', target: 'CS:3330', value: 1 },\n",
       "     { source: 'MATH:1850', target: 'CS:3330', value: 1 },\n",
       "     { source: 'CS:2230', target: 'CS:3330', value: 1 },\n",
       "     { source: 'MATH:1380', target: 'MATH:1550', value: 1 },\n",
       "     { source: 'MATH:1020', target: 'MATH:1550', value: 1 },\n",
       "     { source: 'MATH:1460', target: 'MATH:1550', value: 1 },\n",
       "     { source: 'MATH:1010', target: 'MATH:1550', value: 1 },\n",
       "     { source: 'MATH:1005', target: 'MATH:1550', value: 1 },\n",
       "     { source: 'MATH:1340', target: 'MATH:1550', value: 1 },\n",
       "     { source: 'CS:1210', target: 'CS:2230', value: 1 },\n",
       "     { source: 'ENGR:2730', target: 'CS:2230', value: 1 } ] }"
      ]
     },
     "execution_count": 30,
     "metadata": {},
     "output_type": "execute_result"
    }
   ],
   "source": [
    "create_course_graph3(courses['CS:3330'], courses);"
   ]
  },
  {
   "cell_type": "code",
   "execution_count": 8,
   "metadata": {},
   "outputs": [
    {
     "data": {
      "text/plain": [
       "undefined"
      ]
     },
     "execution_count": 8,
     "metadata": {},
     "output_type": "execute_result"
    }
   ],
   "source": [
    "function create_course_graph_recursive(course, courses) {\n",
    "    var final_nodes = new Set(),\n",
    "        remaining_nodes = [],\n",
    "        next_nodes = [];\n",
    "    \n",
    "    var traverse = [{linkType : \"prereqs\",\n",
    "                      nodeType : \"source\"}];\n",
    "    \n",
    "    //\n",
    "    traverse.forEach((step) => {\n",
    "        \n",
    "        // initially add all the prereqs from a class \n",
    "        // to BOTH the final and remaining nodes\n",
    "        course[step.linkType].forEach((link) => {\n",
    "            // set\n",
    "            final_nodes.add(link[step.nodeType]);\n",
    "            // list\n",
    "            remaining_nodes.push(link[step.nodeType]);\n",
    "        });\n",
    "        \n",
    "        \n",
    "        while (remaining_nodes.length) {\n",
    "            nextNodes = [];\n",
    "            \n",
    "            remaining_nodes.forEach(function(node) {\n",
    "                // get the course from it's ID\n",
    "                node = courses[node];\n",
    "                \n",
    "                /*\n",
    "                node[step.linkType].forEach(function(link) {\n",
    "                    \n",
    "                    var prereq_id = link[step.nodeType];\n",
    "                    if (final_nodes.has(prereq_id) == false) {\n",
    "                       next_nodes.push(link[step.nodeType]);\n",
    "                       final_nodes.add(prereq_id); \n",
    "                    }\n",
    "                });\n",
    "                */\n",
    "            });\n",
    "            \n",
    "            //remaining_nodes = next_nodes;\n",
    "        }\n",
    "        \n",
    "        \n",
    "        \n",
    "        \n",
    "    });\n",
    "    \n",
    "    console.log(remaining_nodes, next_nodes, final_nodes);\n",
    "}"
   ]
  },
  {
   "cell_type": "code",
   "execution_count": null,
   "metadata": {
    "collapsed": true
   },
   "outputs": [],
   "source": []
  }
 ],
 "metadata": {
  "kernelspec": {
   "display_name": "Javascript (Node.js)",
   "language": "javascript",
   "name": "javascript"
  },
  "language_info": {
   "file_extension": ".js",
   "mimetype": "application/javascript",
   "name": "javascript",
   "version": "8.5.0"
  }
 },
 "nbformat": 4,
 "nbformat_minor": 2
}
