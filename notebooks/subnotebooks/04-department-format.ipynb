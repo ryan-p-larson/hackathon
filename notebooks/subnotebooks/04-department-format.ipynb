{
 "cells": [
  {
   "cell_type": "markdown",
   "metadata": {},
   "source": [
    "# Department Data"
   ]
  },
  {
   "cell_type": "code",
   "execution_count": 1,
   "metadata": {
    "collapsed": true
   },
   "outputs": [],
   "source": [
    "import pandas as pd\n",
    "\n",
    "f = '../data/02-indexed-courses.json'"
   ]
  },
  {
   "cell_type": "code",
   "execution_count": 2,
   "metadata": {
    "collapsed": true
   },
   "outputs": [],
   "source": [
    "df = pd.read_json(f).transpose()"
   ]
  },
  {
   "cell_type": "code",
   "execution_count": 3,
   "metadata": {},
   "outputs": [
    {
     "data": {
      "text/html": [
       "<div>\n",
       "<style>\n",
       "    .dataframe thead tr:only-child th {\n",
       "        text-align: right;\n",
       "    }\n",
       "\n",
       "    .dataframe thead th {\n",
       "        text-align: left;\n",
       "    }\n",
       "\n",
       "    .dataframe tbody tr th {\n",
       "        vertical-align: top;\n",
       "    }\n",
       "</style>\n",
       "<table border=\"1\" class=\"dataframe\">\n",
       "  <thead>\n",
       "    <tr style=\"text-align: right;\">\n",
       "      <th></th>\n",
       "      <th>after</th>\n",
       "      <th>before</th>\n",
       "      <th>courseID</th>\n",
       "      <th>course_num</th>\n",
       "      <th>department</th>\n",
       "      <th>description</th>\n",
       "      <th>hours</th>\n",
       "      <th>href</th>\n",
       "      <th>name</th>\n",
       "    </tr>\n",
       "  </thead>\n",
       "  <tbody>\n",
       "    <tr>\n",
       "      <th>ABRD:3010</th>\n",
       "      <td>[]</td>\n",
       "      <td>[]</td>\n",
       "      <td>ABRD:3010</td>\n",
       "      <td>3010</td>\n",
       "      <td>ABRD</td>\n",
       "      <td>University of Swansea, Wales; three-week inter...</td>\n",
       "      <td>ARR</td>\n",
       "      <td>http://catalog.registrar.uiowa.edu/my-ui/cours...</td>\n",
       "      <td>Iowa Regents Semester in Wales</td>\n",
       "    </tr>\n",
       "    <tr>\n",
       "      <th>ABRD:3011</th>\n",
       "      <td>[]</td>\n",
       "      <td>[]</td>\n",
       "      <td>ABRD:3011</td>\n",
       "      <td>3011</td>\n",
       "      <td>ABRD</td>\n",
       "      <td>Unique opportunity to spend an academic year f...</td>\n",
       "      <td>ARR</td>\n",
       "      <td>http://catalog.registrar.uiowa.edu/my-ui/cours...</td>\n",
       "      <td>Iowa at Oxford</td>\n",
       "    </tr>\n",
       "    <tr>\n",
       "      <th>ABRD:3012</th>\n",
       "      <td>[]</td>\n",
       "      <td>[]</td>\n",
       "      <td>ABRD:3012</td>\n",
       "      <td>3012</td>\n",
       "      <td>ABRD</td>\n",
       "      <td>Advanced undergraduate study at the University...</td>\n",
       "      <td>ARR</td>\n",
       "      <td>http://catalog.registrar.uiowa.edu/my-ui/cours...</td>\n",
       "      <td>Regents Semester in Scotland</td>\n",
       "    </tr>\n",
       "    <tr>\n",
       "      <th>ABRD:3013</th>\n",
       "      <td>[]</td>\n",
       "      <td>[]</td>\n",
       "      <td>ABRD:3013</td>\n",
       "      <td>3013</td>\n",
       "      <td>ABRD</td>\n",
       "      <td>Course work in international economics, financ...</td>\n",
       "      <td>ARR</td>\n",
       "      <td>http://catalog.registrar.uiowa.edu/my-ui/cours...</td>\n",
       "      <td>IES London: Study London</td>\n",
       "    </tr>\n",
       "    <tr>\n",
       "      <th>ABRD:3014</th>\n",
       "      <td>[]</td>\n",
       "      <td>[]</td>\n",
       "      <td>ABRD:3014</td>\n",
       "      <td>3014</td>\n",
       "      <td>ABRD</td>\n",
       "      <td>Opportunity to study global health issues in t...</td>\n",
       "      <td>ARR</td>\n",
       "      <td>http://catalog.registrar.uiowa.edu/my-ui/cours...</td>\n",
       "      <td>IES London/Jamaica Hlth Practice/Policy</td>\n",
       "    </tr>\n",
       "  </tbody>\n",
       "</table>\n",
       "</div>"
      ],
      "text/plain": [
       "          after before   courseID course_num department  \\\n",
       "ABRD:3010    []     []  ABRD:3010       3010       ABRD   \n",
       "ABRD:3011    []     []  ABRD:3011       3011       ABRD   \n",
       "ABRD:3012    []     []  ABRD:3012       3012       ABRD   \n",
       "ABRD:3013    []     []  ABRD:3013       3013       ABRD   \n",
       "ABRD:3014    []     []  ABRD:3014       3014       ABRD   \n",
       "\n",
       "                                                 description hours  \\\n",
       "ABRD:3010  University of Swansea, Wales; three-week inter...   ARR   \n",
       "ABRD:3011  Unique opportunity to spend an academic year f...   ARR   \n",
       "ABRD:3012  Advanced undergraduate study at the University...   ARR   \n",
       "ABRD:3013  Course work in international economics, financ...   ARR   \n",
       "ABRD:3014  Opportunity to study global health issues in t...   ARR   \n",
       "\n",
       "                                                        href  \\\n",
       "ABRD:3010  http://catalog.registrar.uiowa.edu/my-ui/cours...   \n",
       "ABRD:3011  http://catalog.registrar.uiowa.edu/my-ui/cours...   \n",
       "ABRD:3012  http://catalog.registrar.uiowa.edu/my-ui/cours...   \n",
       "ABRD:3013  http://catalog.registrar.uiowa.edu/my-ui/cours...   \n",
       "ABRD:3014  http://catalog.registrar.uiowa.edu/my-ui/cours...   \n",
       "\n",
       "                                              name  \n",
       "ABRD:3010           Iowa Regents Semester in Wales  \n",
       "ABRD:3011                           Iowa at Oxford  \n",
       "ABRD:3012             Regents Semester in Scotland  \n",
       "ABRD:3013                 IES London: Study London  \n",
       "ABRD:3014  IES London/Jamaica Hlth Practice/Policy  "
      ]
     },
     "execution_count": 3,
     "metadata": {},
     "output_type": "execute_result"
    }
   ],
   "source": [
    "df.head()"
   ]
  },
  {
   "cell_type": "code",
   "execution_count": 4,
   "metadata": {
    "collapsed": true
   },
   "outputs": [],
   "source": [
    "departments = df['department'].unique()\n",
    "departments.sort()"
   ]
  },
  {
   "cell_type": "code",
   "execution_count": 5,
   "metadata": {
    "collapsed": true
   },
   "outputs": [],
   "source": [
    "department_df = pd.DataFrame()\n",
    "department_df['label'] = departments\n",
    "department_df['value'] = departments"
   ]
  },
  {
   "cell_type": "code",
   "execution_count": 6,
   "metadata": {},
   "outputs": [
    {
     "data": {
      "text/html": [
       "<div>\n",
       "<style>\n",
       "    .dataframe thead tr:only-child th {\n",
       "        text-align: right;\n",
       "    }\n",
       "\n",
       "    .dataframe thead th {\n",
       "        text-align: left;\n",
       "    }\n",
       "\n",
       "    .dataframe tbody tr th {\n",
       "        vertical-align: top;\n",
       "    }\n",
       "</style>\n",
       "<table border=\"1\" class=\"dataframe\">\n",
       "  <thead>\n",
       "    <tr style=\"text-align: right;\">\n",
       "      <th></th>\n",
       "      <th>label</th>\n",
       "      <th>value</th>\n",
       "    </tr>\n",
       "  </thead>\n",
       "  <tbody>\n",
       "    <tr>\n",
       "      <th>0</th>\n",
       "      <td>ABRD</td>\n",
       "      <td>ABRD</td>\n",
       "    </tr>\n",
       "    <tr>\n",
       "      <th>1</th>\n",
       "      <td>ACB</td>\n",
       "      <td>ACB</td>\n",
       "    </tr>\n",
       "    <tr>\n",
       "      <th>2</th>\n",
       "      <td>ACCT</td>\n",
       "      <td>ACCT</td>\n",
       "    </tr>\n",
       "    <tr>\n",
       "      <th>3</th>\n",
       "      <td>ACTS</td>\n",
       "      <td>ACTS</td>\n",
       "    </tr>\n",
       "    <tr>\n",
       "      <th>4</th>\n",
       "      <td>AERO</td>\n",
       "      <td>AERO</td>\n",
       "    </tr>\n",
       "  </tbody>\n",
       "</table>\n",
       "</div>"
      ],
      "text/plain": [
       "  label value\n",
       "0  ABRD  ABRD\n",
       "1   ACB   ACB\n",
       "2  ACCT  ACCT\n",
       "3  ACTS  ACTS\n",
       "4  AERO  AERO"
      ]
     },
     "execution_count": 6,
     "metadata": {},
     "output_type": "execute_result"
    }
   ],
   "source": [
    "department_df.head()"
   ]
  },
  {
   "cell_type": "markdown",
   "metadata": {},
   "source": [
    "### Get Count of Department Courses"
   ]
  },
  {
   "cell_type": "code",
   "execution_count": 7,
   "metadata": {
    "collapsed": true
   },
   "outputs": [],
   "source": [
    "dep_counts = df['department'].value_counts()"
   ]
  },
  {
   "cell_type": "code",
   "execution_count": 8,
   "metadata": {
    "collapsed": true
   },
   "outputs": [],
   "source": [
    "department_df['label'] = department_df['label'].apply(lambda x: x + ' (' + str(dep_counts[x]) + ')')"
   ]
  },
  {
   "cell_type": "code",
   "execution_count": 9,
   "metadata": {},
   "outputs": [
    {
     "data": {
      "text/html": [
       "<div>\n",
       "<style>\n",
       "    .dataframe thead tr:only-child th {\n",
       "        text-align: right;\n",
       "    }\n",
       "\n",
       "    .dataframe thead th {\n",
       "        text-align: left;\n",
       "    }\n",
       "\n",
       "    .dataframe tbody tr th {\n",
       "        vertical-align: top;\n",
       "    }\n",
       "</style>\n",
       "<table border=\"1\" class=\"dataframe\">\n",
       "  <thead>\n",
       "    <tr style=\"text-align: right;\">\n",
       "      <th></th>\n",
       "      <th>label</th>\n",
       "      <th>value</th>\n",
       "    </tr>\n",
       "  </thead>\n",
       "  <tbody>\n",
       "    <tr>\n",
       "      <th>0</th>\n",
       "      <td>ABRD (214)</td>\n",
       "      <td>ABRD</td>\n",
       "    </tr>\n",
       "    <tr>\n",
       "      <th>1</th>\n",
       "      <td>ACB (6)</td>\n",
       "      <td>ACB</td>\n",
       "    </tr>\n",
       "    <tr>\n",
       "      <th>2</th>\n",
       "      <td>ACCT (29)</td>\n",
       "      <td>ACCT</td>\n",
       "    </tr>\n",
       "    <tr>\n",
       "      <th>3</th>\n",
       "      <td>ACTS (15)</td>\n",
       "      <td>ACTS</td>\n",
       "    </tr>\n",
       "    <tr>\n",
       "      <th>4</th>\n",
       "      <td>AERO (17)</td>\n",
       "      <td>AERO</td>\n",
       "    </tr>\n",
       "  </tbody>\n",
       "</table>\n",
       "</div>"
      ],
      "text/plain": [
       "        label value\n",
       "0  ABRD (214)  ABRD\n",
       "1     ACB (6)   ACB\n",
       "2   ACCT (29)  ACCT\n",
       "3   ACTS (15)  ACTS\n",
       "4   AERO (17)  AERO"
      ]
     },
     "execution_count": 9,
     "metadata": {},
     "output_type": "execute_result"
    }
   ],
   "source": [
    "department_df.head()"
   ]
  },
  {
   "cell_type": "markdown",
   "metadata": {},
   "source": [
    "#### Filter Rows with no value"
   ]
  },
  {
   "cell_type": "markdown",
   "metadata": {},
   "source": [
    "#### Write out"
   ]
  },
  {
   "cell_type": "code",
   "execution_count": 14,
   "metadata": {
    "collapsed": true
   },
   "outputs": [],
   "source": [
    "out = '../data/04-departments.csv'\n",
    "department_df.to_csv(out, index=False)"
   ]
  },
  {
   "cell_type": "code",
   "execution_count": null,
   "metadata": {
    "collapsed": true
   },
   "outputs": [],
   "source": []
  }
 ],
 "metadata": {
  "kernelspec": {
   "display_name": "Python 3",
   "language": "python",
   "name": "python3"
  },
  "language_info": {
   "codemirror_mode": {
    "name": "ipython",
    "version": 3
   },
   "file_extension": ".py",
   "mimetype": "text/x-python",
   "name": "python",
   "nbconvert_exporter": "python",
   "pygments_lexer": "ipython3",
   "version": "3.6.1"
  }
 },
 "nbformat": 4,
 "nbformat_minor": 2
}
