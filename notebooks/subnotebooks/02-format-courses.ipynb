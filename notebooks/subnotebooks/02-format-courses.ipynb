{
 "cells": [
  {
   "cell_type": "markdown",
   "metadata": {
    "collapsed": true
   },
   "source": [
    "# Format Courses"
   ]
  },
  {
   "cell_type": "code",
   "execution_count": 24,
   "metadata": {
    "collapsed": true
   },
   "outputs": [],
   "source": [
    "import pandas as pd\n",
    "\n",
    "f = '../data/01-courses-result.json'\n",
    "old_f = '../data/001-reference-courses.json'"
   ]
  },
  {
   "cell_type": "code",
   "execution_count": 25,
   "metadata": {},
   "outputs": [
    {
     "name": "stdout",
     "output_type": "stream",
     "text": [
      "Index(['courseID', 'description', 'hours', 'href', 'name', 'requirements'], dtype='object')\n"
     ]
    },
    {
     "data": {
      "text/html": [
       "<div>\n",
       "<style>\n",
       "    .dataframe thead tr:only-child th {\n",
       "        text-align: right;\n",
       "    }\n",
       "\n",
       "    .dataframe thead th {\n",
       "        text-align: left;\n",
       "    }\n",
       "\n",
       "    .dataframe tbody tr th {\n",
       "        vertical-align: top;\n",
       "    }\n",
       "</style>\n",
       "<table border=\"1\" class=\"dataframe\">\n",
       "  <thead>\n",
       "    <tr style=\"text-align: right;\">\n",
       "      <th></th>\n",
       "      <th>courseID</th>\n",
       "      <th>description</th>\n",
       "      <th>hours</th>\n",
       "      <th>href</th>\n",
       "      <th>name</th>\n",
       "      <th>requirements</th>\n",
       "    </tr>\n",
       "  </thead>\n",
       "  <tbody>\n",
       "    <tr>\n",
       "      <th>0</th>\n",
       "      <td>ABRD:3010</td>\n",
       "      <td>University of Swansea, Wales; three-week inter...</td>\n",
       "      <td>ARR s.h.</td>\n",
       "      <td>http://catalog.registrar.uiowa.edu/my-ui/cours...</td>\n",
       "      <td>Iowa Regents Semester in Wales</td>\n",
       "      <td>g.p.a. of at least 2.80</td>\n",
       "    </tr>\n",
       "    <tr>\n",
       "      <th>1</th>\n",
       "      <td>ABRD:3011</td>\n",
       "      <td>Unique opportunity to spend an academic year f...</td>\n",
       "      <td>ARR s.h.</td>\n",
       "      <td>http://catalog.registrar.uiowa.edu/my-ui/cours...</td>\n",
       "      <td>Iowa at Oxford</td>\n",
       "      <td>None</td>\n",
       "    </tr>\n",
       "    <tr>\n",
       "      <th>2</th>\n",
       "      <td>ABRD:3012</td>\n",
       "      <td>Advanced undergraduate study at the University...</td>\n",
       "      <td>ARR s.h.</td>\n",
       "      <td>http://catalog.registrar.uiowa.edu/my-ui/cours...</td>\n",
       "      <td>Regents Semester in Scotland</td>\n",
       "      <td>g.p.a. of at least 3.00</td>\n",
       "    </tr>\n",
       "    <tr>\n",
       "      <th>3</th>\n",
       "      <td>ABRD:3013</td>\n",
       "      <td>Course work in international economics, financ...</td>\n",
       "      <td>ARR s.h.</td>\n",
       "      <td>http://catalog.registrar.uiowa.edu/my-ui/cours...</td>\n",
       "      <td>IES London: Study London</td>\n",
       "      <td>None</td>\n",
       "    </tr>\n",
       "    <tr>\n",
       "      <th>4</th>\n",
       "      <td>ABRD:3014</td>\n",
       "      <td>Opportunity to study global health issues in t...</td>\n",
       "      <td>ARR s.h.</td>\n",
       "      <td>http://catalog.registrar.uiowa.edu/my-ui/cours...</td>\n",
       "      <td>IES London/Jamaica Hlth Practice/Policy</td>\n",
       "      <td>None</td>\n",
       "    </tr>\n",
       "  </tbody>\n",
       "</table>\n",
       "</div>"
      ],
      "text/plain": [
       "    courseID                                        description     hours  \\\n",
       "0  ABRD:3010  University of Swansea, Wales; three-week inter...  ARR s.h.   \n",
       "1  ABRD:3011  Unique opportunity to spend an academic year f...  ARR s.h.   \n",
       "2  ABRD:3012  Advanced undergraduate study at the University...  ARR s.h.   \n",
       "3  ABRD:3013  Course work in international economics, financ...  ARR s.h.   \n",
       "4  ABRD:3014  Opportunity to study global health issues in t...  ARR s.h.   \n",
       "\n",
       "                                                href  \\\n",
       "0  http://catalog.registrar.uiowa.edu/my-ui/cours...   \n",
       "1  http://catalog.registrar.uiowa.edu/my-ui/cours...   \n",
       "2  http://catalog.registrar.uiowa.edu/my-ui/cours...   \n",
       "3  http://catalog.registrar.uiowa.edu/my-ui/cours...   \n",
       "4  http://catalog.registrar.uiowa.edu/my-ui/cours...   \n",
       "\n",
       "                                      name             requirements  \n",
       "0           Iowa Regents Semester in Wales  g.p.a. of at least 2.80  \n",
       "1                           Iowa at Oxford                     None  \n",
       "2             Regents Semester in Scotland  g.p.a. of at least 3.00  \n",
       "3                 IES London: Study London                     None  \n",
       "4  IES London/Jamaica Hlth Practice/Policy                     None  "
      ]
     },
     "execution_count": 25,
     "metadata": {},
     "output_type": "execute_result"
    }
   ],
   "source": [
    "df = pd.read_json(f)\n",
    "\n",
    "print (df.columns)\n",
    "df.head()"
   ]
  },
  {
   "cell_type": "code",
   "execution_count": 26,
   "metadata": {},
   "outputs": [],
   "source": [
    "old_df = pd.read_json(old_f)\n",
    "old_df.head()\n",
    "\n",
    "old_df = old_df.transpose()"
   ]
  },
  {
   "cell_type": "code",
   "execution_count": 27,
   "metadata": {},
   "outputs": [],
   "source": [
    "old_df.columns\n",
    "old_df.rename(columns={'link': 'href', 'hrs': 'hours', 'prereqs': 'requirements'}, inplace=True)"
   ]
  },
  {
   "cell_type": "code",
   "execution_count": 28,
   "metadata": {},
   "outputs": [
    {
     "name": "stdout",
     "output_type": "stream",
     "text": [
      "['ECON:4800']\n"
     ]
    }
   ],
   "source": [
    "get_link_src = lambda x: [i['source'] for i in x]\n",
    "print (get_link_src([{'source': 'ECON:4800', 'target': 'ECON:6320'}]))"
   ]
  },
  {
   "cell_type": "code",
   "execution_count": 29,
   "metadata": {},
   "outputs": [],
   "source": [
    "old_df['requirements'] = old_df['requirements'].apply(get_link_src)"
   ]
  },
  {
   "cell_type": "code",
   "execution_count": 30,
   "metadata": {},
   "outputs": [
    {
     "data": {
      "text/html": [
       "<div>\n",
       "<style>\n",
       "    .dataframe thead tr:only-child th {\n",
       "        text-align: right;\n",
       "    }\n",
       "\n",
       "    .dataframe thead th {\n",
       "        text-align: left;\n",
       "    }\n",
       "\n",
       "    .dataframe tbody tr th {\n",
       "        vertical-align: top;\n",
       "    }\n",
       "</style>\n",
       "<table border=\"1\" class=\"dataframe\">\n",
       "  <thead>\n",
       "    <tr style=\"text-align: right;\">\n",
       "      <th></th>\n",
       "      <th>college</th>\n",
       "      <th>courseID</th>\n",
       "      <th>course_num</th>\n",
       "      <th>department</th>\n",
       "      <th>description</th>\n",
       "      <th>hours</th>\n",
       "      <th>href</th>\n",
       "      <th>name</th>\n",
       "      <th>requirements</th>\n",
       "    </tr>\n",
       "  </thead>\n",
       "  <tbody>\n",
       "    <tr>\n",
       "      <th>0</th>\n",
       "      <td>University College</td>\n",
       "      <td>ABRD:3011</td>\n",
       "      <td>3011</td>\n",
       "      <td>ABRD</td>\n",
       "      <td>None</td>\n",
       "      <td>18</td>\n",
       "      <td>https://myui.uiowa.edu/my-ui/courses/details.p...</td>\n",
       "      <td>Iowa at Oxford                                ...</td>\n",
       "      <td>[]</td>\n",
       "    </tr>\n",
       "    <tr>\n",
       "      <th>1</th>\n",
       "      <td>University College</td>\n",
       "      <td>ABRD:3012</td>\n",
       "      <td>3012</td>\n",
       "      <td>ABRD</td>\n",
       "      <td>This program at the University of Edinburgh of...</td>\n",
       "      <td>15</td>\n",
       "      <td>https://myui.uiowa.edu/my-ui/courses/details.p...</td>\n",
       "      <td>Regents Semester in Scotland                  ...</td>\n",
       "      <td>[]</td>\n",
       "    </tr>\n",
       "    <tr>\n",
       "      <th>2</th>\n",
       "      <td>University College</td>\n",
       "      <td>ABRD:3013</td>\n",
       "      <td>3013</td>\n",
       "      <td>ABRD</td>\n",
       "      <td>None</td>\n",
       "      <td>15</td>\n",
       "      <td>https://myui.uiowa.edu/my-ui/courses/details.p...</td>\n",
       "      <td>IES London: Study London                      ...</td>\n",
       "      <td>[]</td>\n",
       "    </tr>\n",
       "    <tr>\n",
       "      <th>3</th>\n",
       "      <td>University College</td>\n",
       "      <td>ABRD:3030</td>\n",
       "      <td>3030</td>\n",
       "      <td>ABRD</td>\n",
       "      <td>This program at the University College Cork (U...</td>\n",
       "      <td>12</td>\n",
       "      <td>https://myui.uiowa.edu/my-ui/courses/details.p...</td>\n",
       "      <td>Iowa Regents Semester in Ireland              ...</td>\n",
       "      <td>[]</td>\n",
       "    </tr>\n",
       "    <tr>\n",
       "      <th>4</th>\n",
       "      <td>University College</td>\n",
       "      <td>ABRD:3045</td>\n",
       "      <td>3045</td>\n",
       "      <td>ABRD</td>\n",
       "      <td>The program in Freiburg offers students the op...</td>\n",
       "      <td>15</td>\n",
       "      <td>https://myui.uiowa.edu/my-ui/courses/details.p...</td>\n",
       "      <td>Academic Year in Freiburg                     ...</td>\n",
       "      <td>[]</td>\n",
       "    </tr>\n",
       "  </tbody>\n",
       "</table>\n",
       "</div>"
      ],
      "text/plain": [
       "              college   courseID course_num department  \\\n",
       "0  University College  ABRD:3011       3011       ABRD   \n",
       "1  University College  ABRD:3012       3012       ABRD   \n",
       "2  University College  ABRD:3013       3013       ABRD   \n",
       "3  University College  ABRD:3030       3030       ABRD   \n",
       "4  University College  ABRD:3045       3045       ABRD   \n",
       "\n",
       "                                         description hours  \\\n",
       "0                                               None    18   \n",
       "1  This program at the University of Edinburgh of...    15   \n",
       "2                                               None    15   \n",
       "3  This program at the University College Cork (U...    12   \n",
       "4  The program in Freiburg offers students the op...    15   \n",
       "\n",
       "                                                href  \\\n",
       "0  https://myui.uiowa.edu/my-ui/courses/details.p...   \n",
       "1  https://myui.uiowa.edu/my-ui/courses/details.p...   \n",
       "2  https://myui.uiowa.edu/my-ui/courses/details.p...   \n",
       "3  https://myui.uiowa.edu/my-ui/courses/details.p...   \n",
       "4  https://myui.uiowa.edu/my-ui/courses/details.p...   \n",
       "\n",
       "                                                name requirements  \n",
       "0  Iowa at Oxford                                ...           []  \n",
       "1  Regents Semester in Scotland                  ...           []  \n",
       "2  IES London: Study London                      ...           []  \n",
       "3  Iowa Regents Semester in Ireland              ...           []  \n",
       "4  Academic Year in Freiburg                     ...           []  "
      ]
     },
     "execution_count": 30,
     "metadata": {},
     "output_type": "execute_result"
    }
   ],
   "source": [
    "old_df.reset_index(inplace=True, drop=True)\n",
    "old_df.head()"
   ]
  },
  {
   "cell_type": "code",
   "execution_count": 31,
   "metadata": {},
   "outputs": [
    {
     "name": "stdout",
     "output_type": "stream",
     "text": [
      "2627\n",
      "1389\n"
     ]
    }
   ],
   "source": [
    "# duplicates?\n",
    "print (len(df))\n",
    "print (len(df.courseID.unique()))"
   ]
  },
  {
   "cell_type": "code",
   "execution_count": 32,
   "metadata": {
    "collapsed": true
   },
   "outputs": [],
   "source": [
    "df.drop_duplicates(subset=['courseID'], inplace=True, keep='first')"
   ]
  },
  {
   "cell_type": "markdown",
   "metadata": {},
   "source": [
    "### final attrs:\n",
    "\n",
    "- [x] courseID\n",
    "- [x] course num\n",
    "- [x] department\n",
    "- [x] formatted hours\n",
    "- [x] href\n",
    "- [x] description\n",
    "- [ ] requirements list"
   ]
  },
  {
   "cell_type": "code",
   "execution_count": 33,
   "metadata": {
    "collapsed": true
   },
   "outputs": [],
   "source": [
    "form_department = lambda x: x.split(':')[0]\n",
    "df['department'] = df['courseID'].apply(form_department)"
   ]
  },
  {
   "cell_type": "code",
   "execution_count": 34,
   "metadata": {
    "collapsed": true
   },
   "outputs": [],
   "source": [
    "form_course_num = lambda x: int(x.split(':')[1])\n",
    "df['course_num'] = df['courseID'].apply(form_course_num)"
   ]
  },
  {
   "cell_type": "code",
   "execution_count": 35,
   "metadata": {
    "code_folding": [
     0
    ],
    "collapsed": true
   },
   "outputs": [],
   "source": [
    "def form_hrs(x):\n",
    "    # get rid of the trailing ' s.h.'\n",
    "    y = x[:-5]\n",
    "    if (y != 'ARR'):\n",
    "        try:\n",
    "            return int(y.strip())\n",
    "        except:\n",
    "            z = y.split(',')[-1]\n",
    "            return int(z.strip())\n",
    "    else:\n",
    "        return y\n",
    "    \n",
    "df['hours'] = df['hours'].apply(form_hrs)"
   ]
  },
  {
   "cell_type": "code",
   "execution_count": 36,
   "metadata": {
    "code_folding": [
     2
    ],
    "collapsed": true
   },
   "outputs": [],
   "source": [
    "from w3lib.html import replace_escape_chars\n",
    "def form_html_text(x):\n",
    "    unescaped = replace_escape_chars(x)\n",
    "    single_spaced = ' '.join(unescaped.split())\n",
    "    return single_spaced\n",
    "\n",
    "df['description'] = df['description'].apply(form_html_text)"
   ]
  },
  {
   "cell_type": "code",
   "execution_count": 37,
   "metadata": {
    "code_folding": [],
    "collapsed": true
   },
   "outputs": [],
   "source": [
    "def get_req_candidates(x):\n",
    "    if (x[0] is None):\n",
    "        return []\n",
    "    \n",
    "    reqs = x[0]\n",
    "    _id = x[1]\n",
    "    \n",
    "    ###\n",
    "    # We could check if there's *any* hard course prereqs and leave the GPA, \n",
    "    # but thats for another day\n",
    "    ###\n",
    "    formatted = form_html_text(reqs)\n",
    "    split = formatted.split()\n",
    "    \n",
    "    candidates = []\n",
    "    for i in split:\n",
    "        if ':' in i:\n",
    "            i = i.replace(',', '')\n",
    "            candidates.append(i)\n",
    "            \n",
    "    ###\n",
    "    # Need to write logic for requirements for multiple classes\n",
    "    # `CEE:4158—CEE:2150` => CEE:2150 is required for 4158, \n",
    "    # and we will need to only keep those with the appropriate courseID\n",
    "    ###\n",
    "    better_candidates = []\n",
    "    for i in candidates:\n",
    "        if '—' in i:\n",
    "            split = i.split('—')\n",
    "            if (_id == split[0]):\n",
    "                better_candidates.append(split[1])\n",
    "        else:\n",
    "            better_candidates.append(i)\n",
    "    \n",
    "    if len(better_candidates) == 0:\n",
    "        return []\n",
    "    else:\n",
    "        return list(set(better_candidates))\n",
    "    \n",
    "df['requirements'] = df[['requirements', 'courseID']].apply(get_req_candidates, axis=1)"
   ]
  },
  {
   "cell_type": "code",
   "execution_count": 10,
   "metadata": {},
   "outputs": [
    {
     "data": {
      "text/html": [
       "<div>\n",
       "<style>\n",
       "    .dataframe thead tr:only-child th {\n",
       "        text-align: right;\n",
       "    }\n",
       "\n",
       "    .dataframe thead th {\n",
       "        text-align: left;\n",
       "    }\n",
       "\n",
       "    .dataframe tbody tr th {\n",
       "        vertical-align: top;\n",
       "    }\n",
       "</style>\n",
       "<table border=\"1\" class=\"dataframe\">\n",
       "  <thead>\n",
       "    <tr style=\"text-align: right;\">\n",
       "      <th></th>\n",
       "      <th>courseID</th>\n",
       "      <th>description</th>\n",
       "      <th>hours</th>\n",
       "      <th>href</th>\n",
       "      <th>name</th>\n",
       "      <th>requirements</th>\n",
       "      <th>department</th>\n",
       "      <th>course_num</th>\n",
       "    </tr>\n",
       "  </thead>\n",
       "  <tbody>\n",
       "    <tr>\n",
       "      <th>0</th>\n",
       "      <td>ABRD:3010</td>\n",
       "      <td>University of Swansea, Wales; three-week inter...</td>\n",
       "      <td>ARR</td>\n",
       "      <td>http://catalog.registrar.uiowa.edu/my-ui/cours...</td>\n",
       "      <td>Iowa Regents Semester in Wales</td>\n",
       "      <td>[]</td>\n",
       "      <td>ABRD</td>\n",
       "      <td>3010</td>\n",
       "    </tr>\n",
       "    <tr>\n",
       "      <th>1</th>\n",
       "      <td>ABRD:3011</td>\n",
       "      <td>Unique opportunity to spend an academic year f...</td>\n",
       "      <td>ARR</td>\n",
       "      <td>http://catalog.registrar.uiowa.edu/my-ui/cours...</td>\n",
       "      <td>Iowa at Oxford</td>\n",
       "      <td>[]</td>\n",
       "      <td>ABRD</td>\n",
       "      <td>3011</td>\n",
       "    </tr>\n",
       "    <tr>\n",
       "      <th>2</th>\n",
       "      <td>ABRD:3012</td>\n",
       "      <td>Advanced undergraduate study at the University...</td>\n",
       "      <td>ARR</td>\n",
       "      <td>http://catalog.registrar.uiowa.edu/my-ui/cours...</td>\n",
       "      <td>Regents Semester in Scotland</td>\n",
       "      <td>[]</td>\n",
       "      <td>ABRD</td>\n",
       "      <td>3012</td>\n",
       "    </tr>\n",
       "    <tr>\n",
       "      <th>3</th>\n",
       "      <td>ABRD:3013</td>\n",
       "      <td>Course work in international economics, financ...</td>\n",
       "      <td>ARR</td>\n",
       "      <td>http://catalog.registrar.uiowa.edu/my-ui/cours...</td>\n",
       "      <td>IES London: Study London</td>\n",
       "      <td>[]</td>\n",
       "      <td>ABRD</td>\n",
       "      <td>3013</td>\n",
       "    </tr>\n",
       "    <tr>\n",
       "      <th>4</th>\n",
       "      <td>ABRD:3014</td>\n",
       "      <td>Opportunity to study global health issues in t...</td>\n",
       "      <td>ARR</td>\n",
       "      <td>http://catalog.registrar.uiowa.edu/my-ui/cours...</td>\n",
       "      <td>IES London/Jamaica Hlth Practice/Policy</td>\n",
       "      <td>[]</td>\n",
       "      <td>ABRD</td>\n",
       "      <td>3014</td>\n",
       "    </tr>\n",
       "  </tbody>\n",
       "</table>\n",
       "</div>"
      ],
      "text/plain": [
       "    courseID                                        description hours  \\\n",
       "0  ABRD:3010  University of Swansea, Wales; three-week inter...   ARR   \n",
       "1  ABRD:3011  Unique opportunity to spend an academic year f...   ARR   \n",
       "2  ABRD:3012  Advanced undergraduate study at the University...   ARR   \n",
       "3  ABRD:3013  Course work in international economics, financ...   ARR   \n",
       "4  ABRD:3014  Opportunity to study global health issues in t...   ARR   \n",
       "\n",
       "                                                href  \\\n",
       "0  http://catalog.registrar.uiowa.edu/my-ui/cours...   \n",
       "1  http://catalog.registrar.uiowa.edu/my-ui/cours...   \n",
       "2  http://catalog.registrar.uiowa.edu/my-ui/cours...   \n",
       "3  http://catalog.registrar.uiowa.edu/my-ui/cours...   \n",
       "4  http://catalog.registrar.uiowa.edu/my-ui/cours...   \n",
       "\n",
       "                                      name requirements department  course_num  \n",
       "0           Iowa Regents Semester in Wales           []       ABRD        3010  \n",
       "1                           Iowa at Oxford           []       ABRD        3011  \n",
       "2             Regents Semester in Scotland           []       ABRD        3012  \n",
       "3                 IES London: Study London           []       ABRD        3013  \n",
       "4  IES London/Jamaica Hlth Practice/Policy           []       ABRD        3014  "
      ]
     },
     "execution_count": 10,
     "metadata": {},
     "output_type": "execute_result"
    }
   ],
   "source": [
    "df.head()"
   ]
  },
  {
   "cell_type": "markdown",
   "metadata": {},
   "source": [
    "## Combine old and new DF's"
   ]
  },
  {
   "cell_type": "code",
   "execution_count": 41,
   "metadata": {},
   "outputs": [],
   "source": [
    "old_slim = old_df[['courseID', 'description', 'hours', 'href', 'name', 'requirements', 'department', 'course_num']]\n",
    "new_df = pd.concat([df, old_slim])"
   ]
  },
  {
   "cell_type": "code",
   "execution_count": 42,
   "metadata": {},
   "outputs": [
    {
     "name": "stdout",
     "output_type": "stream",
     "text": [
      "4605\n",
      "4098\n"
     ]
    }
   ],
   "source": [
    "print (len(new_df))\n",
    "new_df.drop_duplicates(subset=['courseID'], inplace=True)\n",
    "print (len(new_df))"
   ]
  },
  {
   "cell_type": "markdown",
   "metadata": {},
   "source": [
    "### Create links with valid nodes"
   ]
  },
  {
   "cell_type": "code",
   "execution_count": 44,
   "metadata": {
    "collapsed": true
   },
   "outputs": [],
   "source": [
    "# longer, more surefire way\n",
    "\n",
    "# holds all our links\n",
    "links_list = []\n",
    "\n",
    "# define function that we'll use to create links\n",
    "def create_course_links(x):\n",
    "    if (x[0] is []):\n",
    "        return\n",
    "    \n",
    "    reqs = x[0]\n",
    "    _id = x[1]\n",
    "    \n",
    "    for req in reqs:\n",
    "        link = {\n",
    "            'source': req,\n",
    "            'target': _id\n",
    "        }\n",
    "        links_list.append(link)\n",
    "    \n",
    "#df[['requirements', 'courseID']].apply(get_req_candidates, axis=1)\n",
    "invalid_links = new_df[['requirements', 'courseID']].values.tolist()\n",
    "\n",
    "for i in invalid_links:\n",
    "    create_course_links(i)"
   ]
  },
  {
   "cell_type": "code",
   "execution_count": 59,
   "metadata": {},
   "outputs": [
    {
     "name": "stdout",
     "output_type": "stream",
     "text": [
      "{'source': 'DPA:3004', 'target': 'ABRD:3019'}\n",
      "{'source': 'MUS:3004', 'target': 'ABRD:3019'}\n",
      "{'source': 'ARAB:1001;', 'target': 'ARAB:3050'}\n",
      "{'source': 'TRNS:2000', 'target': 'ARAB:3498'}\n",
      "{'source': 'FREN:4890', 'target': 'ARAB:3498'}\n",
      "{'source': 'SPAN:4980', 'target': 'ARAB:3498'}\n",
      "{'source': 'TRNS:3202', 'target': 'ARAB:3498'}\n",
      "{'source': 'ENGL:3724', 'target': 'ARAB:3498'}\n",
      "{'source': 'TRNS:2000', 'target': 'TRNS:3498'}\n",
      "{'source': 'FREN:4890', 'target': 'TRNS:3498'}\n",
      "{'source': 'SPAN:4980', 'target': 'TRNS:3498'}\n",
      "{'source': 'TRNS:3202', 'target': 'TRNS:3498'}\n",
      "{'source': 'ENGL:3724', 'target': 'TRNS:3498'}\n",
      "{'source': 'BIOC:3140;', 'target': 'BIOC:4999'}\n",
      "{'source': 'ME:3040', 'target': 'CBE:5110'}\n",
      "{'source': 'ME:3040', 'target': 'ME:5210'}\n",
      "{'source': 'OEH:4240', 'target': 'OEH:4920'}\n",
      "{'source': 'OEH:4240;', 'target': 'OEH:4220'}\n"
     ]
    }
   ],
   "source": [
    "valid_IDs = set(new_df['courseID'].unique().tolist())\n",
    "valid_links = []\n",
    "\n",
    "for link in links_list:\n",
    "    src, trgt = link['source'], link['target']\n",
    "    \n",
    "    if src not in valid_IDs:\n",
    "        print (link)\n",
    "        continue\n",
    "    elif trgt not in valid_IDs:\n",
    "        print (link)\n",
    "        continue\n",
    "    else:\n",
    "        valid_links.append(link)"
   ]
  },
  {
   "cell_type": "code",
   "execution_count": 60,
   "metadata": {},
   "outputs": [
    {
     "name": "stdout",
     "output_type": "stream",
     "text": [
      "1185\n",
      "1167\n"
     ]
    }
   ],
   "source": [
    "print (len(links_list))\n",
    "print (len(valid_links))"
   ]
  },
  {
   "cell_type": "code",
   "execution_count": 69,
   "metadata": {},
   "outputs": [],
   "source": [
    "# create a map\n",
    "before_links = {}\n",
    "for i in valid_IDs:\n",
    "    before_links[i] = []\n",
    "\n",
    "# populate map\n",
    "for i in links_list:\n",
    "    if i['target'] in valid_IDs:\n",
    "        if i['source'] in valid_IDs:\n",
    "            course = before_links[i['target']]\n",
    "            course.append(i)\n",
    "    \n",
    "# move the data to the correct row in DF\n",
    "new_df['before'] = new_df['courseID'].apply(lambda x: before_links[x])"
   ]
  },
  {
   "cell_type": "code",
   "execution_count": 70,
   "metadata": {},
   "outputs": [],
   "source": [
    "# create a map\n",
    "after_links = {}\n",
    "for i in valid_IDs:\n",
    "    after_links[i] = []\n",
    "\n",
    "# populate map\n",
    "for i in links_list:\n",
    "    if i['source'] in links_list:\n",
    "        if i['target'] in valid_IDs:\n",
    "            course = after_links[i['source']]\n",
    "            course.append(i)\n",
    "    \n",
    "# move the data to the correct row in DF\n",
    "new_df['after'] = new_df['courseID'].apply(lambda x: after_links[x])"
   ]
  },
  {
   "cell_type": "code",
   "execution_count": null,
   "metadata": {
    "collapsed": true
   },
   "outputs": [],
   "source": []
  },
  {
   "cell_type": "code",
   "execution_count": null,
   "metadata": {
    "collapsed": true
   },
   "outputs": [],
   "source": []
  },
  {
   "cell_type": "code",
   "execution_count": null,
   "metadata": {
    "collapsed": true
   },
   "outputs": [],
   "source": []
  },
  {
   "cell_type": "code",
   "execution_count": null,
   "metadata": {
    "collapsed": true
   },
   "outputs": [],
   "source": []
  },
  {
   "cell_type": "markdown",
   "metadata": {},
   "source": [
    "### Sanity Check\n",
    "\n",
    "See if theres any requirements in our dataframe that don't have an entry."
   ]
  },
  {
   "cell_type": "code",
   "execution_count": 11,
   "metadata": {},
   "outputs": [
    {
     "name": "stdout",
     "output_type": "stream",
     "text": [
      "True\n"
     ]
    }
   ],
   "source": [
    "print (len(df) == len(df.courseID.unique()))"
   ]
  },
  {
   "cell_type": "code",
   "execution_count": 73,
   "metadata": {},
   "outputs": [],
   "source": [
    "rendered_links = new_df['before'].values.tolist()"
   ]
  },
  {
   "cell_type": "code",
   "execution_count": 75,
   "metadata": {},
   "outputs": [],
   "source": [
    "# [item for sublist in l for item in sublist]\n",
    "rendered_links = [item for sublist in rendered_links for item in sublist]"
   ]
  },
  {
   "cell_type": "code",
   "execution_count": 77,
   "metadata": {
    "collapsed": true
   },
   "outputs": [],
   "source": [
    "for link in rendered_links:\n",
    "    src, trgt = link['source'], link['target']\n",
    "    \n",
    "    if src not in valid_IDs:\n",
    "        print (link)\n",
    "        continue\n",
    "    elif trgt not in valid_IDs:\n",
    "        print (link)\n",
    "        continue"
   ]
  },
  {
   "cell_type": "markdown",
   "metadata": {},
   "source": [
    "***Nice***\n",
    "\n",
    "Now just standardize the hours and be done!"
   ]
  },
  {
   "cell_type": "code",
   "execution_count": 81,
   "metadata": {},
   "outputs": [
    {
     "data": {
      "text/plain": [
       "array(['ARR', 3, 12, 8, 6, 9, 4, 1, 2, 5, 0, None, 7.0], dtype=object)"
      ]
     },
     "execution_count": 81,
     "metadata": {},
     "output_type": "execute_result"
    }
   ],
   "source": [
    "new_df['hours'].unique()"
   ]
  },
  {
   "cell_type": "code",
   "execution_count": 82,
   "metadata": {
    "collapsed": true
   },
   "outputs": [],
   "source": [
    "new_df['hours'] = new_df['hours'].apply(lambda x: 0 if x is None else x)"
   ]
  },
  {
   "cell_type": "markdown",
   "metadata": {},
   "source": [
    "#### At long last..."
   ]
  },
  {
   "cell_type": "code",
   "execution_count": 84,
   "metadata": {},
   "outputs": [
    {
     "data": {
      "text/plain": [
       "Index(['courseID', 'description', 'hours', 'href', 'name', 'requirements',\n",
       "       'department', 'course_num', 'before', 'after'],\n",
       "      dtype='object')"
      ]
     },
     "execution_count": 84,
     "metadata": {},
     "output_type": "execute_result"
    }
   ],
   "source": [
    "new_df.columns"
   ]
  },
  {
   "cell_type": "code",
   "execution_count": 85,
   "metadata": {
    "collapsed": true
   },
   "outputs": [],
   "source": [
    "new_df = new_df[['courseID', 'description', 'hours', 'href', 'name',\n",
    "       'department', 'course_num', 'before', 'after']]\n",
    "\n",
    "f_out = '../data/02-rowed-courses.json'\n",
    "new_df.to_json(f_out, orient='records', lines=True)"
   ]
  },
  {
   "cell_type": "code",
   "execution_count": 86,
   "metadata": {
    "collapsed": true
   },
   "outputs": [],
   "source": [
    "f_out2 = '../data/02-indexed-courses.json'\n",
    "new_df.set_index('courseID', drop=False)\\\n",
    "    .to_json(f_out2, orient='index')"
   ]
  },
  {
   "cell_type": "code",
   "execution_count": null,
   "metadata": {
    "collapsed": true
   },
   "outputs": [],
   "source": []
  }
 ],
 "metadata": {
  "kernelspec": {
   "display_name": "Python 3",
   "language": "python",
   "name": "python3"
  },
  "language_info": {
   "codemirror_mode": {
    "name": "ipython",
    "version": 3
   },
   "file_extension": ".py",
   "mimetype": "text/x-python",
   "name": "python",
   "nbconvert_exporter": "python",
   "pygments_lexer": "ipython3",
   "version": "3.6.1"
  }
 },
 "nbformat": 4,
 "nbformat_minor": 2
}
